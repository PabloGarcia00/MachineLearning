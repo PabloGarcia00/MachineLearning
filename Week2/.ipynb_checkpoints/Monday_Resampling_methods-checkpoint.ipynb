{
 "cells": [
  {
   "cell_type": "markdown",
   "id": "4e7f2c75-af6f-4112-87a7-dcd38ee7e5be",
   "metadata": {},
   "source": [
    "# Monday: Resampling methods "
   ]
  },
  {
   "cell_type": "code",
   "execution_count": null,
   "id": "7901a9fe-a635-4454-b340-6951a6fb9080",
   "metadata": {},
   "outputs": [],
   "source": []
  },
  {
   "cell_type": "code",
   "execution_count": null,
   "id": "d4af1164-8c4d-4fc1-83bf-2f3963af1d7d",
   "metadata": {},
   "outputs": [],
   "source": []
  },
  {
   "cell_type": "code",
   "execution_count": null,
   "id": "65549290-55e1-4cea-9c69-961dc2406d90",
   "metadata": {},
   "outputs": [],
   "source": []
  },
  {
   "cell_type": "code",
   "execution_count": null,
   "id": "e1dc909a-6408-477e-bb55-7fbaf1b87299",
   "metadata": {},
   "outputs": [],
   "source": []
  },
  {
   "cell_type": "code",
   "execution_count": null,
   "id": "ae899620-705e-4035-a145-ccf7cccea4d0",
   "metadata": {},
   "outputs": [],
   "source": []
  }
 ],
 "metadata": {
  "kernelspec": {
   "display_name": "Python 3 (ipykernel)",
   "language": "python",
   "name": "python3"
  },
  "language_info": {
   "codemirror_mode": {
    "name": "ipython",
    "version": 3
   },
   "file_extension": ".py",
   "mimetype": "text/x-python",
   "name": "python",
   "nbconvert_exporter": "python",
   "pygments_lexer": "ipython3",
   "version": "3.10.13"
  }
 },
 "nbformat": 4,
 "nbformat_minor": 5
}
