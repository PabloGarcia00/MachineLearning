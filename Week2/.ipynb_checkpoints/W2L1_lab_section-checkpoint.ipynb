{
 "cells": [
  {
   "cell_type": "markdown",
   "id": "1Os0XJTQdMux",
   "metadata": {
    "executionInfo": {
     "elapsed": 55,
     "status": "ok",
     "timestamp": 1640274861308,
     "user": {
      "displayName": "Yde Jansen",
      "photoUrl": "https://lh3.googleusercontent.com/a/default-user=s64",
      "userId": "18080344233664207150"
     },
     "user_tz": -60
    },
    "id": "1Os0XJTQdMux",
    "outputId": "517efe84-a1a7-493e-c233-bafc1fb5db21"
   },
   "source": [
    "# Machine Learning FTE - 35306\n",
    "\n",
    "\n",
    "Professor: Ricardo Torres -- ricardo.dasilvatorres@wur.nl\n",
    "\n",
    "We thank Yde Jansen for his valuable contributions to creation of this notebook.\n",
    "\n",
    "Chapter 05 - Sampling Methods - Lab section\n",
    "\n",
    "This *notebook* is adapted from contributions available at\n",
    "\n",
    "* [An Introduction to Statistical Learning: with Applications in R... with Python!](https://botlnec.github.io/islp/sols/chapter5/exercise8/) (As of Feb. 2023).\n",
    "\n",
    "* [Solutions for An Introduction to Statistical Learning](https://onmee.github.io/ISLR-Solutions/) (As of Feb. 2023).\n",
    "\n",
    "* [An Introduction to Statistical Learning with Applications in PYTHON](https://github.com/qx0731/Sharing_ISL_python) (As of Feb. 2023)."
   ]
  },
  {
   "cell_type": "markdown",
   "id": "BADwjocjtTmf",
   "metadata": {
    "id": "BADwjocjtTmf"
   },
   "source": [
    "Before getting started, we need to get access to the data. To do so, we clone a gitlab repository containing the data. It will make the data available in this Colab in the folder `data`."
   ]
  },
  {
   "cell_type": "code",
   "execution_count": 1,
   "id": "Gcyla0vGKD7F",
   "metadata": {
    "id": "Gcyla0vGKD7F"
   },
   "outputs": [
    {
     "name": "stdout",
     "output_type": "stream",
     "text": [
      "Cloning into 'data'...\n",
      "remote: Enumerating objects: 497, done.\u001b[K\n",
      "remote: Counting objects: 100% (451/451), done.\u001b[K\n",
      "remote: Compressing objects: 100% (447/447), done.\u001b[K\n",
      "remote: Total 497 (delta 4), reused 437 (delta 2), pack-reused 46\u001b[K\n",
      "Receiving objects: 100% (497/497), 36.40 MiB | 12.74 MiB/s, done.\n",
      "Resolving deltas: 100% (5/5), done.\n"
     ]
    }
   ],
   "source": [
    "!git clone https://git.wur.nl/koots006/msc-course-machine-learning.git data"
   ]
  },
  {
   "cell_type": "markdown",
   "id": "OsPr64IqtTmj",
   "metadata": {
    "id": "OsPr64IqtTmj"
   },
   "source": [
    "In this lab, we explore the resampling techniques covered in this chapter. Some of the commands in this lab may take a while to run on your computer."
   ]
  },
  {
   "cell_type": "code",
   "execution_count": 2,
   "id": "YUqkzy_jtTmj",
   "metadata": {
    "id": "YUqkzy_jtTmj"
   },
   "outputs": [],
   "source": [
    "import numpy as np\n",
    "import pandas as pd\n",
    "\n",
    "import matplotlib.pyplot as plt\n",
    "import seaborn as sns\n",
    "\n",
    "import statsmodels.api as stats\n",
    "import statsmodels.formula.api as smf\n",
    "import sklearn.linear_model as skl_lm\n",
    "from sklearn.metrics import mean_squared_error\n",
    "from sklearn.model_selection import train_test_split, LeaveOneOut, KFold, cross_val_score\n",
    "from sklearn.preprocessing import PolynomialFeatures\n",
    "\n",
    "\n",
    "%matplotlib inline\n",
    "plt.style.use('seaborn-white')"
   ]
  },
  {
   "cell_type": "markdown",
   "id": "JB6kzBo8avLu",
   "metadata": {
    "id": "JB6kzBo8avLu"
   },
   "source": [
    "# Lab: Cross-Validation and the Bootstrap\n",
    "**First**: Read Chapter 5.\n",
    "\n",
    "This lab has the following sections:\n",
    "* The Validation Set Approach\n",
    "* Leave-One-Out Cross-Validation\n",
    "* k-Fold Cross-Validation\n",
    "* The Bootstrap"
   ]
  },
  {
   "cell_type": "markdown",
   "id": "RlVQpNJEUIYL",
   "metadata": {
    "id": "RlVQpNJEUIYL"
   },
   "source": [
    "# 5.3.1 The Validation Set Approach"
   ]
  },
  {
   "cell_type": "markdown",
   "id": "89OFNgRCUD97",
   "metadata": {
    "id": "89OFNgRCUD97"
   },
   "source": [
    "We explore the use of the validation set approach in order to estimate the test error rates that result from fitting various linear models on the `Auto` data set.\n",
    "\n",
    "Before we begin, we use the `np.random.seed()` function in order to set a  for `Python`'s random number generator, so that the reader of this book will\n",
    "obtain precisely the same results as those shown below. It is generally\n",
    "a good idea to set a random seed when performing an analysis such as cross-validation that contains an\n",
    "element of randomness, so that the results obtained can be reproduced precisely at a later time.\n",
    "\n",
    "We begin by preprocessing the data and splitting the set of observations into two halves, by selecting a random subset of $196$ observations out of the original $392$ observations. We  refer\n",
    "to these observations as the training set."
   ]
  },
  {
   "cell_type": "code",
   "execution_count": 3,
   "id": "LQciqQrpfR5A",
   "metadata": {
    "id": "LQciqQrpfR5A"
   },
   "outputs": [
    {
     "name": "stdout",
     "output_type": "stream",
     "text": [
      "<class 'pandas.core.frame.DataFrame'>\n",
      "Int64Index: 392 entries, 0 to 396\n",
      "Data columns (total 9 columns):\n",
      " #   Column        Non-Null Count  Dtype  \n",
      "---  ------        --------------  -----  \n",
      " 0   mpg           392 non-null    float64\n",
      " 1   cylinders     392 non-null    int64  \n",
      " 2   displacement  392 non-null    float64\n",
      " 3   horsepower    392 non-null    float64\n",
      " 4   weight        392 non-null    int64  \n",
      " 5   acceleration  392 non-null    float64\n",
      " 6   year          392 non-null    int64  \n",
      " 7   origin        392 non-null    int64  \n",
      " 8   name          392 non-null    object \n",
      "dtypes: float64(4), int64(4), object(1)\n",
      "memory usage: 30.6+ KB\n"
     ]
    }
   ],
   "source": [
    "np.random.seed(1)\n",
    "\n",
    "auto = pd.read_csv('data/islr_data/Auto.csv', na_values='?').dropna()\n",
    "auto.info()"
   ]
  },
  {
   "cell_type": "code",
   "execution_count": 4,
   "id": "XnhV82lRguV4",
   "metadata": {
    "id": "XnhV82lRguV4"
   },
   "outputs": [],
   "source": [
    "X, y = auto.loc[:, ['horsepower']], auto.mpg\n",
    "\n",
    "train, test = train_test_split(auto, test_size=0.5, random_state=42)"
   ]
  },
  {
   "cell_type": "code",
   "execution_count": 5,
   "id": "Kug9gRXzfm_C",
   "metadata": {
    "id": "Kug9gRXzfm_C"
   },
   "outputs": [
    {
     "data": {
      "text/html": [
       "<div>\n",
       "<style scoped>\n",
       "    .dataframe tbody tr th:only-of-type {\n",
       "        vertical-align: middle;\n",
       "    }\n",
       "\n",
       "    .dataframe tbody tr th {\n",
       "        vertical-align: top;\n",
       "    }\n",
       "\n",
       "    .dataframe thead th {\n",
       "        text-align: right;\n",
       "    }\n",
       "</style>\n",
       "<table border=\"1\" class=\"dataframe\">\n",
       "  <thead>\n",
       "    <tr style=\"text-align: right;\">\n",
       "      <th></th>\n",
       "      <th>mpg</th>\n",
       "      <th>cylinders</th>\n",
       "      <th>displacement</th>\n",
       "      <th>horsepower</th>\n",
       "      <th>weight</th>\n",
       "      <th>acceleration</th>\n",
       "      <th>year</th>\n",
       "      <th>origin</th>\n",
       "      <th>name</th>\n",
       "    </tr>\n",
       "  </thead>\n",
       "  <tbody>\n",
       "    <tr>\n",
       "      <th>224</th>\n",
       "      <td>15.0</td>\n",
       "      <td>8</td>\n",
       "      <td>302.0</td>\n",
       "      <td>130.0</td>\n",
       "      <td>4295</td>\n",
       "      <td>14.9</td>\n",
       "      <td>77</td>\n",
       "      <td>1</td>\n",
       "      <td>mercury cougar brougham</td>\n",
       "    </tr>\n",
       "    <tr>\n",
       "      <th>373</th>\n",
       "      <td>24.0</td>\n",
       "      <td>4</td>\n",
       "      <td>140.0</td>\n",
       "      <td>92.0</td>\n",
       "      <td>2865</td>\n",
       "      <td>16.4</td>\n",
       "      <td>82</td>\n",
       "      <td>1</td>\n",
       "      <td>ford fairmont futura</td>\n",
       "    </tr>\n",
       "    <tr>\n",
       "      <th>131</th>\n",
       "      <td>32.0</td>\n",
       "      <td>4</td>\n",
       "      <td>71.0</td>\n",
       "      <td>65.0</td>\n",
       "      <td>1836</td>\n",
       "      <td>21.0</td>\n",
       "      <td>74</td>\n",
       "      <td>3</td>\n",
       "      <td>toyota corolla 1200</td>\n",
       "    </tr>\n",
       "    <tr>\n",
       "      <th>39</th>\n",
       "      <td>14.0</td>\n",
       "      <td>8</td>\n",
       "      <td>400.0</td>\n",
       "      <td>175.0</td>\n",
       "      <td>4464</td>\n",
       "      <td>11.5</td>\n",
       "      <td>71</td>\n",
       "      <td>1</td>\n",
       "      <td>pontiac catalina brougham</td>\n",
       "    </tr>\n",
       "    <tr>\n",
       "      <th>11</th>\n",
       "      <td>14.0</td>\n",
       "      <td>8</td>\n",
       "      <td>340.0</td>\n",
       "      <td>160.0</td>\n",
       "      <td>3609</td>\n",
       "      <td>8.0</td>\n",
       "      <td>70</td>\n",
       "      <td>1</td>\n",
       "      <td>plymouth 'cuda 340</td>\n",
       "    </tr>\n",
       "    <tr>\n",
       "      <th>...</th>\n",
       "      <td>...</td>\n",
       "      <td>...</td>\n",
       "      <td>...</td>\n",
       "      <td>...</td>\n",
       "      <td>...</td>\n",
       "      <td>...</td>\n",
       "      <td>...</td>\n",
       "      <td>...</td>\n",
       "      <td>...</td>\n",
       "    </tr>\n",
       "    <tr>\n",
       "      <th>72</th>\n",
       "      <td>15.0</td>\n",
       "      <td>8</td>\n",
       "      <td>304.0</td>\n",
       "      <td>150.0</td>\n",
       "      <td>3892</td>\n",
       "      <td>12.5</td>\n",
       "      <td>72</td>\n",
       "      <td>1</td>\n",
       "      <td>amc matador (sw)</td>\n",
       "    </tr>\n",
       "    <tr>\n",
       "      <th>107</th>\n",
       "      <td>18.0</td>\n",
       "      <td>6</td>\n",
       "      <td>232.0</td>\n",
       "      <td>100.0</td>\n",
       "      <td>2789</td>\n",
       "      <td>15.0</td>\n",
       "      <td>73</td>\n",
       "      <td>1</td>\n",
       "      <td>amc gremlin</td>\n",
       "    </tr>\n",
       "    <tr>\n",
       "      <th>272</th>\n",
       "      <td>23.8</td>\n",
       "      <td>4</td>\n",
       "      <td>151.0</td>\n",
       "      <td>85.0</td>\n",
       "      <td>2855</td>\n",
       "      <td>17.6</td>\n",
       "      <td>78</td>\n",
       "      <td>1</td>\n",
       "      <td>oldsmobile starfire sx</td>\n",
       "    </tr>\n",
       "    <tr>\n",
       "      <th>352</th>\n",
       "      <td>29.9</td>\n",
       "      <td>4</td>\n",
       "      <td>98.0</td>\n",
       "      <td>65.0</td>\n",
       "      <td>2380</td>\n",
       "      <td>20.7</td>\n",
       "      <td>81</td>\n",
       "      <td>1</td>\n",
       "      <td>ford escort 2h</td>\n",
       "    </tr>\n",
       "    <tr>\n",
       "      <th>103</th>\n",
       "      <td>11.0</td>\n",
       "      <td>8</td>\n",
       "      <td>400.0</td>\n",
       "      <td>150.0</td>\n",
       "      <td>4997</td>\n",
       "      <td>14.0</td>\n",
       "      <td>73</td>\n",
       "      <td>1</td>\n",
       "      <td>chevrolet impala</td>\n",
       "    </tr>\n",
       "  </tbody>\n",
       "</table>\n",
       "<p>196 rows × 9 columns</p>\n",
       "</div>"
      ],
      "text/plain": [
       "      mpg  cylinders  displacement  horsepower  weight  acceleration  year  \\\n",
       "224  15.0          8         302.0       130.0    4295          14.9    77   \n",
       "373  24.0          4         140.0        92.0    2865          16.4    82   \n",
       "131  32.0          4          71.0        65.0    1836          21.0    74   \n",
       "39   14.0          8         400.0       175.0    4464          11.5    71   \n",
       "11   14.0          8         340.0       160.0    3609           8.0    70   \n",
       "..    ...        ...           ...         ...     ...           ...   ...   \n",
       "72   15.0          8         304.0       150.0    3892          12.5    72   \n",
       "107  18.0          6         232.0       100.0    2789          15.0    73   \n",
       "272  23.8          4         151.0        85.0    2855          17.6    78   \n",
       "352  29.9          4          98.0        65.0    2380          20.7    81   \n",
       "103  11.0          8         400.0       150.0    4997          14.0    73   \n",
       "\n",
       "     origin                       name  \n",
       "224       1    mercury cougar brougham  \n",
       "373       1       ford fairmont futura  \n",
       "131       3        toyota corolla 1200  \n",
       "39        1  pontiac catalina brougham  \n",
       "11        1         plymouth 'cuda 340  \n",
       "..      ...                        ...  \n",
       "72        1           amc matador (sw)  \n",
       "107       1                amc gremlin  \n",
       "272       1     oldsmobile starfire sx  \n",
       "352       1             ford escort 2h  \n",
       "103       1           chevrolet impala  \n",
       "\n",
       "[196 rows x 9 columns]"
      ]
     },
     "execution_count": 5,
     "metadata": {},
     "output_type": "execute_result"
    }
   ],
   "source": [
    "train"
   ]
  },
  {
   "cell_type": "markdown",
   "id": "5fi2sgLuVLW0",
   "metadata": {
    "id": "5fi2sgLuVLW0"
   },
   "source": [
    "We give `train` as input to `data` argument of the `ols()` function to fit a linear regression using only the observations corresponding to the training set."
   ]
  },
  {
   "cell_type": "code",
   "execution_count": 6,
   "id": "SaBmU16AgJ50",
   "metadata": {
    "id": "SaBmU16AgJ50"
   },
   "outputs": [],
   "source": [
    "lm = smf.ols('mpg ~ horsepower', data=train)\n",
    "lm_fit = lm.fit()"
   ]
  },
  {
   "cell_type": "markdown",
   "id": "09ae38b1",
   "metadata": {
    "id": "09ae38b1"
   },
   "source": [
    "We now  use\n",
    " the `predict()` function to estimate the response for all $392$ observations,  and\n",
    " we calculate the MSE of the $196$ observations in the validation set."
   ]
  },
  {
   "cell_type": "code",
   "execution_count": 7,
   "id": "0V6YajfuhSKQ",
   "metadata": {
    "id": "0V6YajfuhSKQ"
   },
   "outputs": [
    {
     "name": "stdout",
     "output_type": "stream",
     "text": [
      "MSE value: 25.573878189684415\n"
     ]
    }
   ],
   "source": [
    "preds = lm_fit.predict(test)\n",
    "\n",
    "MSE = np.mean((test[\"mpg\"] - preds)**2)\n",
    "print(\"MSE value: {}\".format(MSE))"
   ]
  },
  {
   "cell_type": "markdown",
   "id": "d0cd124e",
   "metadata": {
    "id": "d0cd124e"
   },
   "source": [
    "Therefore, the estimated test MSE for the linear regression fit is $25.57$. We can use the `np.power()` function to estimate the test error for the quadratic and cubic regressions."
   ]
  },
  {
   "cell_type": "code",
   "execution_count": 8,
   "id": "1ZR774MoiJlC",
   "metadata": {
    "id": "1ZR774MoiJlC"
   },
   "outputs": [
    {
     "name": "stdout",
     "output_type": "stream",
     "text": [
      "Lm2 results:\n",
      "22.218020050040064\n",
      "Lm3 results:\n",
      "22.66767543491845\n"
     ]
    }
   ],
   "source": [
    "lm2 = smf.ols('mpg~' + '+'.join(['np.power(horsepower,' + str(i) + ')' for i in [1,2]]), train)\n",
    "print(\"Lm2 results:\")\n",
    "print(np.mean(np.square(np.subtract(test[\"mpg\"], lm2.fit().predict(test)))))\n",
    "\n",
    "lm3 = smf.ols('mpg~' + '+'.join(['np.power(horsepower,' + str(i) + ')' for i in [1,2,3]]), train)\n",
    "print(\"Lm3 results:\")\n",
    "print(np.mean(np.square(np.subtract(test[\"mpg\"], lm3.fit().predict(test)))))"
   ]
  },
  {
   "cell_type": "markdown",
   "id": "8d0549e0",
   "metadata": {
    "id": "8d0549e0"
   },
   "source": [
    "These error rates are $22.22$ and $22.67$, respectively.\n",
    "If we choose a different training set instead, then we will obtain somewhat different errors on the validation set. Notice that we are using a different value for the `random_state` function argument this time."
   ]
  },
  {
   "cell_type": "code",
   "execution_count": 9,
   "id": "kqDL204riu2M",
   "metadata": {
    "id": "kqDL204riu2M"
   },
   "outputs": [],
   "source": [
    "train, test = train_test_split(auto, test_size=0.5, random_state=94)"
   ]
  },
  {
   "cell_type": "code",
   "execution_count": 10,
   "id": "PBUrvOOXi2jZ",
   "metadata": {
    "id": "PBUrvOOXi2jZ"
   },
   "outputs": [
    {
     "data": {
      "text/html": [
       "<div>\n",
       "<style scoped>\n",
       "    .dataframe tbody tr th:only-of-type {\n",
       "        vertical-align: middle;\n",
       "    }\n",
       "\n",
       "    .dataframe tbody tr th {\n",
       "        vertical-align: top;\n",
       "    }\n",
       "\n",
       "    .dataframe thead th {\n",
       "        text-align: right;\n",
       "    }\n",
       "</style>\n",
       "<table border=\"1\" class=\"dataframe\">\n",
       "  <thead>\n",
       "    <tr style=\"text-align: right;\">\n",
       "      <th></th>\n",
       "      <th>mpg</th>\n",
       "      <th>cylinders</th>\n",
       "      <th>displacement</th>\n",
       "      <th>horsepower</th>\n",
       "      <th>weight</th>\n",
       "      <th>acceleration</th>\n",
       "      <th>year</th>\n",
       "      <th>origin</th>\n",
       "      <th>name</th>\n",
       "    </tr>\n",
       "  </thead>\n",
       "  <tbody>\n",
       "    <tr>\n",
       "      <th>117</th>\n",
       "      <td>29.0</td>\n",
       "      <td>4</td>\n",
       "      <td>68.0</td>\n",
       "      <td>49.0</td>\n",
       "      <td>1867</td>\n",
       "      <td>19.5</td>\n",
       "      <td>73</td>\n",
       "      <td>2</td>\n",
       "      <td>fiat 128</td>\n",
       "    </tr>\n",
       "    <tr>\n",
       "      <th>319</th>\n",
       "      <td>31.3</td>\n",
       "      <td>4</td>\n",
       "      <td>120.0</td>\n",
       "      <td>75.0</td>\n",
       "      <td>2542</td>\n",
       "      <td>17.5</td>\n",
       "      <td>80</td>\n",
       "      <td>3</td>\n",
       "      <td>mazda 626</td>\n",
       "    </tr>\n",
       "    <tr>\n",
       "      <th>322</th>\n",
       "      <td>46.6</td>\n",
       "      <td>4</td>\n",
       "      <td>86.0</td>\n",
       "      <td>65.0</td>\n",
       "      <td>2110</td>\n",
       "      <td>17.9</td>\n",
       "      <td>80</td>\n",
       "      <td>3</td>\n",
       "      <td>mazda glc</td>\n",
       "    </tr>\n",
       "    <tr>\n",
       "      <th>115</th>\n",
       "      <td>15.0</td>\n",
       "      <td>8</td>\n",
       "      <td>350.0</td>\n",
       "      <td>145.0</td>\n",
       "      <td>4082</td>\n",
       "      <td>13.0</td>\n",
       "      <td>73</td>\n",
       "      <td>1</td>\n",
       "      <td>chevrolet monte carlo s</td>\n",
       "    </tr>\n",
       "    <tr>\n",
       "      <th>206</th>\n",
       "      <td>26.5</td>\n",
       "      <td>4</td>\n",
       "      <td>140.0</td>\n",
       "      <td>72.0</td>\n",
       "      <td>2565</td>\n",
       "      <td>13.6</td>\n",
       "      <td>76</td>\n",
       "      <td>1</td>\n",
       "      <td>ford pinto</td>\n",
       "    </tr>\n",
       "  </tbody>\n",
       "</table>\n",
       "</div>"
      ],
      "text/plain": [
       "      mpg  cylinders  displacement  horsepower  weight  acceleration  year  \\\n",
       "117  29.0          4          68.0        49.0    1867          19.5    73   \n",
       "319  31.3          4         120.0        75.0    2542          17.5    80   \n",
       "322  46.6          4          86.0        65.0    2110          17.9    80   \n",
       "115  15.0          8         350.0       145.0    4082          13.0    73   \n",
       "206  26.5          4         140.0        72.0    2565          13.6    76   \n",
       "\n",
       "     origin                     name  \n",
       "117       2                 fiat 128  \n",
       "319       3                mazda 626  \n",
       "322       3                mazda glc  \n",
       "115       1  chevrolet monte carlo s  \n",
       "206       1               ford pinto  "
      ]
     },
     "execution_count": 10,
     "metadata": {},
     "output_type": "execute_result"
    }
   ],
   "source": [
    "train.head(5)"
   ]
  },
  {
   "cell_type": "code",
   "execution_count": 11,
   "id": "0yN5Gy_AjHxR",
   "metadata": {
    "id": "0yN5Gy_AjHxR"
   },
   "outputs": [
    {
     "name": "stdout",
     "output_type": "stream",
     "text": [
      "MSE value: 25.894115886720467\n"
     ]
    }
   ],
   "source": [
    "lm1 = smf.ols('mpg ~ horsepower', data=train)\n",
    "lm1_fit = lm1.fit()\n",
    "\n",
    "preds = lm1_fit.predict(test)\n",
    "\n",
    "MSE = np.mean((test[\"mpg\"] - preds)**2)\n",
    "print(\"MSE value: {}\".format(MSE))"
   ]
  },
  {
   "cell_type": "code",
   "execution_count": 12,
   "id": "WNikoDWbjSeJ",
   "metadata": {
    "id": "WNikoDWbjSeJ"
   },
   "outputs": [
    {
     "name": "stdout",
     "output_type": "stream",
     "text": [
      "Lm2 results:\n",
      "18.938855673454363\n",
      "Lm3 results:\n",
      "19.15461410215636\n"
     ]
    }
   ],
   "source": [
    "lm2 = smf.ols('mpg~' + '+'.join(['np.power(horsepower,' + str(i) + ')' for i in [1,2]]), train)\n",
    "print(\"Lm2 results:\")\n",
    "print(np.mean((test[\"mpg\"] - lm2.fit().predict(test))**2))\n",
    "\n",
    "lm3 = smf.ols('mpg~' + '+'.join(['np.power(horsepower,' + str(i) + ')' for i in [1,2,3]]), train)\n",
    "print(\"Lm3 results:\")\n",
    "print(np.mean((test[\"mpg\"] - lm3.fit().predict(test))**2))"
   ]
  },
  {
   "cell_type": "markdown",
   "id": "b3f4lMZrURSW",
   "metadata": {
    "id": "b3f4lMZrURSW"
   },
   "source": [
    "Using this split of the observations into a training set and a validation set,\n",
    "we find that the validation set error rates for the models with linear, quadratic, and cubic terms are $25.89$, $18.94$, and $19.15$, respectively.\n",
    "\n",
    "These results are consistent with our previous findings: a model that predicts `mpg` using a quadratic function of `horsepower` performs better than a model that involves only a linear function of `horsepower`, and there is little evidence in favor of a model that uses a cubic function of `horsepower`."
   ]
  },
  {
   "cell_type": "markdown",
   "id": "e1b1497c",
   "metadata": {
    "id": "e1b1497c"
   },
   "source": [
    "# 5.3.2 Leave-One-Out Cross-Validation"
   ]
  },
  {
   "cell_type": "markdown",
   "id": "VtcZoF-9UUvs",
   "metadata": {
    "id": "VtcZoF-9UUvs"
   },
   "source": [
    "The LOOCV estimate can be automatically computed for any generalized linear model using the `ols()` function and some addtional code.  In the lab for Chapter 4, we used the `GLM()` function to perform logistic regression by passing in  the `family = \"stats.families.Binomial()\"` argument.\n",
    " But if we use `GLM()` to fit a model without passing in the `family` argument, then it  performs linear regression, just like the `smf.ols()` function.\n",
    "So for instance,"
   ]
  },
  {
   "cell_type": "code",
   "execution_count": 13,
   "id": "dxd7TLLxk_b0",
   "metadata": {
    "id": "dxd7TLLxk_b0"
   },
   "outputs": [
    {
     "data": {
      "text/html": [
       "<table class=\"simpletable\">\n",
       "<caption>Generalized Linear Model Regression Results</caption>\n",
       "<tr>\n",
       "  <th>Dep. Variable:</th>          <td>mpg</td>       <th>  No. Observations:  </th>  <td>   392</td> \n",
       "</tr>\n",
       "<tr>\n",
       "  <th>Model:</th>                  <td>GLM</td>       <th>  Df Residuals:      </th>  <td>   390</td> \n",
       "</tr>\n",
       "<tr>\n",
       "  <th>Model Family:</th>        <td>Gaussian</td>     <th>  Df Model:          </th>  <td>     1</td> \n",
       "</tr>\n",
       "<tr>\n",
       "  <th>Link Function:</th>       <td>identity</td>     <th>  Scale:             </th> <td>  24.066</td>\n",
       "</tr>\n",
       "<tr>\n",
       "  <th>Method:</th>                <td>IRLS</td>       <th>  Log-Likelihood:    </th> <td> -1178.7</td>\n",
       "</tr>\n",
       "<tr>\n",
       "  <th>Date:</th>            <td>Sat, 25 Feb 2023</td> <th>  Deviance:          </th> <td>  9385.9</td>\n",
       "</tr>\n",
       "<tr>\n",
       "  <th>Time:</th>                <td>21:00:55</td>     <th>  Pearson chi2:      </th> <td>9.39e+03</td>\n",
       "</tr>\n",
       "<tr>\n",
       "  <th>No. Iterations:</th>          <td>3</td>        <th>                     </th>     <td> </td>   \n",
       "</tr>\n",
       "<tr>\n",
       "  <th>Covariance Type:</th>     <td>nonrobust</td>    <th>                     </th>     <td> </td>   \n",
       "</tr>\n",
       "</table>\n",
       "<table class=\"simpletable\">\n",
       "<tr>\n",
       "       <td></td>         <th>coef</th>     <th>std err</th>      <th>z</th>      <th>P>|z|</th>  <th>[0.025</th>    <th>0.975]</th>  \n",
       "</tr>\n",
       "<tr>\n",
       "  <th>const</th>      <td>   39.9359</td> <td>    0.717</td> <td>   55.660</td> <td> 0.000</td> <td>   38.530</td> <td>   41.342</td>\n",
       "</tr>\n",
       "<tr>\n",
       "  <th>horsepower</th> <td>   -0.1578</td> <td>    0.006</td> <td>  -24.489</td> <td> 0.000</td> <td>   -0.170</td> <td>   -0.145</td>\n",
       "</tr>\n",
       "</table>"
      ],
      "text/plain": [
       "<class 'statsmodels.iolib.summary.Summary'>\n",
       "\"\"\"\n",
       "                 Generalized Linear Model Regression Results                  \n",
       "==============================================================================\n",
       "Dep. Variable:                    mpg   No. Observations:                  392\n",
       "Model:                            GLM   Df Residuals:                      390\n",
       "Model Family:                Gaussian   Df Model:                            1\n",
       "Link Function:               identity   Scale:                          24.066\n",
       "Method:                          IRLS   Log-Likelihood:                -1178.7\n",
       "Date:                Sat, 25 Feb 2023   Deviance:                       9385.9\n",
       "Time:                        21:00:55   Pearson chi2:                 9.39e+03\n",
       "No. Iterations:                     3                                         \n",
       "Covariance Type:            nonrobust                                         \n",
       "==============================================================================\n",
       "                 coef    std err          z      P>|z|      [0.025      0.975]\n",
       "------------------------------------------------------------------------------\n",
       "const         39.9359      0.717     55.660      0.000      38.530      41.342\n",
       "horsepower    -0.1578      0.006    -24.489      0.000      -0.170      -0.145\n",
       "==============================================================================\n",
       "\"\"\""
      ]
     },
     "execution_count": 13,
     "metadata": {},
     "output_type": "execute_result"
    }
   ],
   "source": [
    "glm_fit = stats.GLM(auto[\"mpg\"], stats.add_constant(auto[\"horsepower\"])).fit()\n",
    "glm_fit.summary()"
   ]
  },
  {
   "cell_type": "markdown",
   "id": "87c22e0e",
   "metadata": {
    "id": "87c22e0e"
   },
   "source": [
    "and"
   ]
  },
  {
   "cell_type": "code",
   "execution_count": 14,
   "id": "rql-5-j3laMW",
   "metadata": {
    "id": "rql-5-j3laMW"
   },
   "outputs": [
    {
     "data": {
      "text/html": [
       "<table class=\"simpletable\">\n",
       "<caption>OLS Regression Results</caption>\n",
       "<tr>\n",
       "  <th>Dep. Variable:</th>           <td>mpg</td>       <th>  R-squared:         </th> <td>   0.606</td>\n",
       "</tr>\n",
       "<tr>\n",
       "  <th>Model:</th>                   <td>OLS</td>       <th>  Adj. R-squared:    </th> <td>   0.605</td>\n",
       "</tr>\n",
       "<tr>\n",
       "  <th>Method:</th>             <td>Least Squares</td>  <th>  F-statistic:       </th> <td>   599.7</td>\n",
       "</tr>\n",
       "<tr>\n",
       "  <th>Date:</th>             <td>Sat, 25 Feb 2023</td> <th>  Prob (F-statistic):</th> <td>7.03e-81</td>\n",
       "</tr>\n",
       "<tr>\n",
       "  <th>Time:</th>                 <td>21:01:04</td>     <th>  Log-Likelihood:    </th> <td> -1178.7</td>\n",
       "</tr>\n",
       "<tr>\n",
       "  <th>No. Observations:</th>      <td>   392</td>      <th>  AIC:               </th> <td>   2361.</td>\n",
       "</tr>\n",
       "<tr>\n",
       "  <th>Df Residuals:</th>          <td>   390</td>      <th>  BIC:               </th> <td>   2369.</td>\n",
       "</tr>\n",
       "<tr>\n",
       "  <th>Df Model:</th>              <td>     1</td>      <th>                     </th>     <td> </td>   \n",
       "</tr>\n",
       "<tr>\n",
       "  <th>Covariance Type:</th>      <td>nonrobust</td>    <th>                     </th>     <td> </td>   \n",
       "</tr>\n",
       "</table>\n",
       "<table class=\"simpletable\">\n",
       "<tr>\n",
       "       <td></td>         <th>coef</th>     <th>std err</th>      <th>t</th>      <th>P>|t|</th>  <th>[0.025</th>    <th>0.975]</th>  \n",
       "</tr>\n",
       "<tr>\n",
       "  <th>Intercept</th>  <td>   39.9359</td> <td>    0.717</td> <td>   55.660</td> <td> 0.000</td> <td>   38.525</td> <td>   41.347</td>\n",
       "</tr>\n",
       "<tr>\n",
       "  <th>horsepower</th> <td>   -0.1578</td> <td>    0.006</td> <td>  -24.489</td> <td> 0.000</td> <td>   -0.171</td> <td>   -0.145</td>\n",
       "</tr>\n",
       "</table>\n",
       "<table class=\"simpletable\">\n",
       "<tr>\n",
       "  <th>Omnibus:</th>       <td>16.432</td> <th>  Durbin-Watson:     </th> <td>   0.920</td>\n",
       "</tr>\n",
       "<tr>\n",
       "  <th>Prob(Omnibus):</th> <td> 0.000</td> <th>  Jarque-Bera (JB):  </th> <td>  17.305</td>\n",
       "</tr>\n",
       "<tr>\n",
       "  <th>Skew:</th>          <td> 0.492</td> <th>  Prob(JB):          </th> <td>0.000175</td>\n",
       "</tr>\n",
       "<tr>\n",
       "  <th>Kurtosis:</th>      <td> 3.299</td> <th>  Cond. No.          </th> <td>    322.</td>\n",
       "</tr>\n",
       "</table><br/><br/>Notes:<br/>[1] Standard Errors assume that the covariance matrix of the errors is correctly specified."
      ],
      "text/plain": [
       "<class 'statsmodels.iolib.summary.Summary'>\n",
       "\"\"\"\n",
       "                            OLS Regression Results                            \n",
       "==============================================================================\n",
       "Dep. Variable:                    mpg   R-squared:                       0.606\n",
       "Model:                            OLS   Adj. R-squared:                  0.605\n",
       "Method:                 Least Squares   F-statistic:                     599.7\n",
       "Date:                Sat, 25 Feb 2023   Prob (F-statistic):           7.03e-81\n",
       "Time:                        21:01:04   Log-Likelihood:                -1178.7\n",
       "No. Observations:                 392   AIC:                             2361.\n",
       "Df Residuals:                     390   BIC:                             2369.\n",
       "Df Model:                           1                                         \n",
       "Covariance Type:            nonrobust                                         \n",
       "==============================================================================\n",
       "                 coef    std err          t      P>|t|      [0.025      0.975]\n",
       "------------------------------------------------------------------------------\n",
       "Intercept     39.9359      0.717     55.660      0.000      38.525      41.347\n",
       "horsepower    -0.1578      0.006    -24.489      0.000      -0.171      -0.145\n",
       "==============================================================================\n",
       "Omnibus:                       16.432   Durbin-Watson:                   0.920\n",
       "Prob(Omnibus):                  0.000   Jarque-Bera (JB):               17.305\n",
       "Skew:                           0.492   Prob(JB):                     0.000175\n",
       "Kurtosis:                       3.299   Cond. No.                         322.\n",
       "==============================================================================\n",
       "\n",
       "Notes:\n",
       "[1] Standard Errors assume that the covariance matrix of the errors is correctly specified.\n",
       "\"\"\""
      ]
     },
     "execution_count": 14,
     "metadata": {},
     "output_type": "execute_result"
    }
   ],
   "source": [
    "glm_fit2 = smf.ols('mpg ~ horsepower', data=auto).fit()\n",
    "glm_fit2.summary()"
   ]
  },
  {
   "cell_type": "code",
   "execution_count": 15,
   "id": "QbGGdSNbl4IL",
   "metadata": {
    "id": "QbGGdSNbl4IL"
   },
   "outputs": [
    {
     "data": {
      "text/plain": [
       "392"
      ]
     },
     "execution_count": 15,
     "metadata": {},
     "output_type": "execute_result"
    }
   ],
   "source": [
    "X, y = auto[\"horsepower\"], auto[\"mpg\"]\n",
    "\n",
    "loocv = LeaveOneOut()\n",
    "\n",
    "# We get 392 splits.\n",
    "loocv.get_n_splits(X)"
   ]
  },
  {
   "cell_type": "code",
   "execution_count": 16,
   "id": "zao1AgIcQydi",
   "metadata": {
    "id": "zao1AgIcQydi"
   },
   "outputs": [
    {
     "data": {
      "text/plain": [
       "392"
      ]
     },
     "execution_count": 16,
     "metadata": {},
     "output_type": "execute_result"
    }
   ],
   "source": [
    "len(auto.index)"
   ]
  },
  {
   "cell_type": "code",
   "execution_count": 17,
   "id": "RL6KDw2VQ1Lx",
   "metadata": {
    "id": "RL6KDw2VQ1Lx"
   },
   "outputs": [
    {
     "data": {
      "text/plain": [
       "(392,)"
      ]
     },
     "execution_count": 17,
     "metadata": {},
     "output_type": "execute_result"
    }
   ],
   "source": [
    "auto.index.shape"
   ]
  },
  {
   "cell_type": "code",
   "execution_count": 18,
   "id": "-TTcvvjSQKhp",
   "metadata": {
    "id": "-TTcvvjSQKhp"
   },
   "outputs": [],
   "source": [
    "def cross_validation(formula: str = None, data: pd.DataFrame=None, n_splits: int =None) -> list:\n",
    "    \"\"\"\n",
    "    Give the formula.\n",
    "    \"\"\"\n",
    "    if not n_splits:\n",
    "      n_splits = len(data.index)\n",
    "    results = []\n",
    "    for train_ind, test_ind in KFold(n_splits = n_splits).split(data):\n",
    "        train, test = stats.add_constant(data.iloc[train_ind]), stats.add_constant(data.iloc[test_ind])\n",
    "        \n",
    "        lm_fit = smf.ols(formula, data=train).fit()\n",
    "        lm_preds = lm_fit.predict(test.horsepower)\n",
    "        \n",
    "        results.append(mean_squared_error(test.mpg, lm_preds))\n",
    "    return results  \n"
   ]
  },
  {
   "cell_type": "markdown",
   "id": "f64a4086",
   "metadata": {
    "id": "f64a4086"
   },
   "source": [
    "The `cross_validation()` function produces a list with several components.  The two numbers in the `delta` vector contain the cross-validation results. In this case the numbers are identical (up to two decimal places) and correspond to the LOOCV statistic given in ( 5.1). Below, we discuss a situation in which the two numbers differ. Our cross-validation estimate for the test error is approximately $24.23$.\n",
    "\n",
    "We can repeat this procedure for increasingly complex polynomial fits.\n",
    " To automate the process, we use the  `for` control statement to initiate a loop that iteratively fits polynomial regressions for polynomials of order $i=1$ to $i=10$, computes the associated cross-validation error, and stores it in the $i$th element of the vector `cv_error`.\n",
    " We begin by initializing the vector. "
   ]
  },
  {
   "cell_type": "code",
   "execution_count": 19,
   "id": "jPvDxKeC-XVs",
   "metadata": {
    "id": "jPvDxKeC-XVs"
   },
   "outputs": [],
   "source": [
    "cv_error = np.zeros(10)\n",
    "for order in range(1, 11):\n",
    "  formula = 'mpg ~ ' + '+'.join(['np.power(horsepower,' + str(i) + ')' for i in range(1,order+1)])\n",
    "  cv_res = cross_validation(formula=formula, data=auto, n_splits=len(auto.index))\n",
    "  cv_error[order-1] = np.asarray(cv_res).mean()"
   ]
  },
  {
   "cell_type": "code",
   "execution_count": 20,
   "id": "wDKEKqJU-Vrc",
   "metadata": {
    "id": "wDKEKqJU-Vrc"
   },
   "outputs": [
    {
     "data": {
      "image/png": "[encoded data removed]",
      "text/plain": [
       "<Figure size 432x288 with 1 Axes>"
      ]
     },
     "metadata": {},
     "output_type": "display_data"
    }
   ],
   "source": [
    "fig , ax = plt.subplots(figsize=(6,4))\n",
    "ax.plot(np.arange(1, 11), cv_error,linestyle = '-.', marker='o',color='k');\n",
    "ax.set_xlabel('Degree of polynomial');\n",
    "ax.set_ylabel('LOOCV Error Rate');"
   ]
  },
  {
   "cell_type": "markdown",
   "id": "_Jcr0ykJUf0F",
   "metadata": {
    "id": "_Jcr0ykJUf0F"
   },
   "source": [
    "As in Figure 5.4, we see a sharp drop in the estimated test MSE between the linear and quadratic fits, but then no clear improvement from using higher-order polynomials.\n"
   ]
  },
  {
   "cell_type": "markdown",
   "id": "mKR8YV68UhYr",
   "metadata": {
    "id": "mKR8YV68UhYr"
   },
   "source": [
    "# 5.3.3 $k$-Fold Cross-Validation\n"
   ]
  },
  {
   "cell_type": "markdown",
   "id": "67634a57",
   "metadata": {
    "id": "67634a57"
   },
   "source": [
    "The `cross_validation()` function can also be used to implement $k$-fold CV. Below we use $k=10$, a common choice for $k$, on the `Auto` data set.\n",
    "We once again set a random seed and initialize a vector in which we will store the CV errors corresponding to the polynomial fits of orders one to ten."
   ]
  },
  {
   "cell_type": "code",
   "execution_count": 21,
   "id": "5cadADKA9rzl",
   "metadata": {
    "id": "5cadADKA9rzl",
    "scrolled": true
   },
   "outputs": [],
   "source": [
    "cv_error = np.zeros(10)\n",
    "for order in range(1, 11):\n",
    "  formula = 'mpg ~ ' + '+'.join(['np.power(horsepower,' + str(i) + ')' for i in range(1,order+1)])\n",
    "  cv_res = cross_validation(formula=formula, data=auto, n_splits=10)\n",
    "  cv_error[order-1] = np.asarray(cv_res).mean()"
   ]
  },
  {
   "cell_type": "code",
   "execution_count": 22,
   "id": "XgsVvbbu97mA",
   "metadata": {
    "id": "XgsVvbbu97mA"
   },
   "outputs": [
    {
     "data": {
      "image/png": "[encoded data removed]",
      "text/plain": [
       "<Figure size 432x288 with 1 Axes>"
      ]
     },
     "metadata": {},
     "output_type": "display_data"
    }
   ],
   "source": [
    "fig , ax = plt.subplots(figsize=(6,4))\n",
    "ax.plot(np.arange(1,11), cv_error,linestyle = '-.', marker='o',color='k');\n",
    "ax.set_xlabel('Degree of polynomial');\n",
    "ax.set_ylabel('10-Fold CV Error Rate');"
   ]
  },
  {
   "cell_type": "markdown",
   "id": "0c6887a5",
   "metadata": {
    "id": "0c6887a5"
   },
   "source": [
    "<!--- Notice that the computation time is shorter than that of LOOCV.\n",
    "(In principle, the computation time for LOOCV for a least squares linear model should be faster than for $k$-fold CV, due to the availability of the formula (5.2) for LOOCV; however, unfortunately the `cv.glm()` function does not make use of this formula.)-->\n",
    "\n",
    "We still see little evidence that using cubic or higher-order polynomial terms leads to lower test error than simply using a quadratic fit.\n",
    "\n",
    "We saw in Section 5.3.2 that the two numbers associated with `delta` are essentially the same when LOOCV is performed.\n",
    "When we instead perform $k$-fold CV, then the two numbers associated with `delta` differ slightly. The first is the standard $k$-fold CV estimate,\n",
    "as in ( 5.3). The second is a bias-corrected version. On this data set, the two estimates are very similar to each other.\n",
    "\n"
   ]
  },
  {
   "cell_type": "markdown",
   "id": "ZjLnU_ZRUkoE",
   "metadata": {
    "id": "ZjLnU_ZRUkoE"
   },
   "source": [
    "# 5.3.4 The Bootstrap"
   ]
  },
  {
   "cell_type": "markdown",
   "id": "b6cbb6ad",
   "metadata": {
    "id": "b6cbb6ad"
   },
   "source": [
    "We illustrate the use of the bootstrap in the simple example of Section 5.2, as well as on an example involving estimating the\n",
    "accuracy of the linear regression model on the `Auto` data set.\n",
    "\n",
    "### Estimating the Accuracy of a Statistic of Interest\n",
    "\n",
    "One of the great advantages of the bootstrap approach is that it can be\n",
    "applied in almost all situations. No complicated mathematical calculations\n",
    "are required. Performing a bootstrap analysis in `Python` entails only two\n",
    "steps. First, we must create a function that computes the statistic of\n",
    "interest. Second, we use a custom-written `boot()` function to perform the bootstrap by repeatedly\n",
    "sampling observations from the data set with replacement.\n",
    "\n",
    "The `Portfolio` data set is simulated data of $100$ pairs of returns, generated in the fashion described in Section 5.2.\n",
    "To illustrate the use of the bootstrap on this data, we must first\n",
    "create a function, `alpha()`, which takes as input the $(X,Y)$ data stored together in a dataframe,\n",
    "as well as an integer indicating the number of samples that should be drawn from the observations and used to\n",
    "estimate $\\alpha$. The function then outputs the estimate for $\\alpha$\n",
    "based on the selected observations."
   ]
  },
  {
   "cell_type": "code",
   "execution_count": 23,
   "id": "RTyZjrGVYdDE",
   "metadata": {
    "id": "RTyZjrGVYdDE"
   },
   "outputs": [],
   "source": [
    "Portfolio = pd.read_csv('data/islr_data/Portfolio.csv', na_values='?').dropna()"
   ]
  },
  {
   "cell_type": "code",
   "execution_count": 24,
   "id": "EVZq8fzvMo1f",
   "metadata": {
    "id": "EVZq8fzvMo1f"
   },
   "outputs": [],
   "source": [
    "# We first need a function aplha to return the alpha statistic eqn. 5.7 in the text\n",
    "def alpha(df, indices):\n",
    "    \"\"\" \n",
    "    Returns the alpha statistic for samples of dataframe df defined by indices.\n",
    "    \"\"\"\n",
    "    # Get X,Y\n",
    "    X = df.X[indices].values\n",
    "    Y = df.Y[indices].values\n",
    "    \n",
    "    # np.cov returns full cov matrix we need [0][1] cov(x,y)\n",
    "    return (np.var(Y) - np.cov(X,Y)[0][1])/(np.var(X) + np.var(Y) - 2*np.cov(X,Y)[0][1])\n"
   ]
  },
  {
   "cell_type": "markdown",
   "id": "76724d5e",
   "metadata": {
    "id": "76724d5e"
   },
   "source": [
    "This function *returns*, or outputs, an  estimate for $\\alpha$ based on applying (5.7).\n",
    "For instance, the following command tells `Python` to estimate $\\alpha$ using\n",
    "all $100$ observations."
   ]
  },
  {
   "cell_type": "code",
   "execution_count": 25,
   "id": "TAxFvNFAYUOE",
   "metadata": {
    "id": "TAxFvNFAYUOE"
   },
   "outputs": [
    {
     "data": {
      "text/plain": [
       "0.5766511516104116"
      ]
     },
     "execution_count": 25,
     "metadata": {},
     "output_type": "execute_result"
    }
   ],
   "source": [
    "alpha(Portfolio, range(0, 100))"
   ]
  },
  {
   "cell_type": "markdown",
   "id": "75cda089",
   "metadata": {
    "id": "75cda089"
   },
   "source": [
    "The next command  uses the `np.random.choice()` function to randomly select\n",
    "$100$ observations from the range $1$ to $100$, with replacement. This is equivalent\n",
    "to constructing a new bootstrap data set and recomputing $\\hat{\\alpha}$\n",
    "based on the new data set."
   ]
  },
  {
   "cell_type": "code",
   "execution_count": 26,
   "id": "udDdzImZYvIE",
   "metadata": {
    "id": "udDdzImZYvIE"
   },
   "outputs": [
    {
     "data": {
      "text/plain": [
       "0.5117744709121624"
      ]
     },
     "execution_count": 26,
     "metadata": {},
     "output_type": "execute_result"
    }
   ],
   "source": [
    "np.random.seed(7)\n",
    "alpha(Portfolio, np.random.choice(100, 100, replace=True))"
   ]
  },
  {
   "cell_type": "markdown",
   "id": "33d913d4",
   "metadata": {
    "id": "33d913d4"
   },
   "source": [
    "We can implement a bootstrap analysis by performing this command many times, recording all of\n",
    "the corresponding estimates for $\\alpha$, and computing the resulting\n",
    "standard deviation.\n",
    "However, the `boot()` function automates this approach. Below we produce $R=1,000$ bootstrap estimates for $\\alpha$.\n"
   ]
  },
  {
   "cell_type": "code",
   "execution_count": 27,
   "id": "CxUrZ5jpMqEs",
   "metadata": {
    "id": "CxUrZ5jpMqEs"
   },
   "outputs": [
    {
     "name": "stdout",
     "output_type": "stream",
     "text": [
      "\n",
      "Bootstrapped Estimates = 0.5806\n",
      "Bootstrapped Std. Error(s) = 0.0898\n"
     ]
    }
   ],
   "source": [
    "# Scikits.bootstrap has a bootstrap method for computing the confidence intervals of an estimated statistic but we \n",
    "# would need to calculate the SE. It's just as easy to write a quick function to compute the SE directly.\n",
    "def boot(data, statsfunc, num_samples, num_bootstrap_samples=1000):\n",
    "    \"\"\"\n",
    "    Returns the SE of the statistic returned by statsfunc when applied to data using num_bootstrap samples.\n",
    "    \"\"\"\n",
    "    \n",
    "    stat_samples = []\n",
    "    for _ in range(num_bootstrap_samples):\n",
    "        # apply our stats_func to generate a sample statistic\n",
    "        \n",
    "        indices=np.random.choice(num_samples, num_samples, replace=True)\n",
    "        stat_samples.append(statsfunc(data, indices))\n",
    "        #stat_samples.append(statsfunc(data))\n",
    "    \n",
    "    \n",
    "    original_estimate = np.mean(stat_samples,axis=0)\n",
    "    # compute the std of the statistic samples\n",
    "    se_estimate = np.std(stat_samples,axis=0)\n",
    "    \n",
    "\n",
    "    print('\\nBootstrapped Estimates =', np.round(original_estimate, 4))\n",
    "    print('Bootstrapped Std. Error(s) =', np.round(se_estimate, 4))\n",
    "    return np.asarray(stat_samples)\n",
    "\n",
    "np.random.seed(0)\n",
    "boot_results = boot(Portfolio, alpha, 100, 1000)"
   ]
  },
  {
   "cell_type": "markdown",
   "id": "58823115",
   "metadata": {
    "id": "58823115"
   },
   "source": [
    "The final output shows that using the original data, $\\hat{\\alpha}=0.58$,\n",
    "and that the bootstrap estimate for ${\\rm SE}(\\hat{\\alpha})$ is $0.09$.\n",
    "\n",
    "### Estimating the Accuracy of a Linear Regression Model\n",
    "\n",
    "The bootstrap approach can be used  to assess the\n",
    "variability of the coefficient estimates and predictions from a statistical learning method. Here we use the bootstrap approach in order to assess the variability of\n",
    "the estimates for $\\beta_0$ and $\\beta_1$, the intercept and slope terms for the linear regression model\n",
    "that uses  `horsepower` to predict `mpg` in the `Auto` data set. We will compare the estimates obtained using the bootstrap to those obtained using the formulas\n",
    "for ${\\rm SE}(\\hat{\\beta}_0)$ and ${\\rm SE}(\\hat{\\beta}_1)$ described\n",
    "in Section 3.1.2.\n",
    "\n",
    "We first create a simple function, `auto_coeffs()`, which takes in the\n",
    "`Auto` data set as well as a set of indices for the observations, and\n",
    "returns the intercept and slope estimates for the linear regression model. We then apply this function\n",
    "to the full set of $392$ observations in order to compute the estimates of $\\beta_0$ and $\\beta_1$ on the entire data set using the usual linear regression coefficient estimate\n",
    "formulas from Chapter 3."
   ]
  },
  {
   "cell_type": "code",
   "execution_count": 28,
   "id": "Eyts9VnTaTvr",
   "metadata": {
    "id": "Eyts9VnTaTvr"
   },
   "outputs": [],
   "source": [
    "def auto_coeffs(data, indices):\n",
    "    \"\"\"\n",
    "    Returns a set of fit coeffecients for the model mpg ~ horsepower using num_samples of data with replacement \n",
    "    \"\"\"\n",
    "    \n",
    "    X = stats.add_constant(data.horsepower.iloc[indices])\n",
    "    y = data.mpg.iloc[indices]\n",
    "    \n",
    "    results = stats.OLS(y,X).fit()\n",
    "    \n",
    "    return results.params"
   ]
  },
  {
   "cell_type": "markdown",
   "id": "7b2c04cf",
   "metadata": {
    "id": "7b2c04cf"
   },
   "source": [
    " The `auto_coeffs()` function can also be used in order to create\n",
    " bootstrap estimates for the intercept and slope terms by randomly sampling from among the observations with replacement. Here we give two examples."
   ]
  },
  {
   "cell_type": "code",
   "execution_count": 29,
   "id": "xx364sTBa0BE",
   "metadata": {
    "id": "xx364sTBa0BE"
   },
   "outputs": [
    {
     "name": "stdout",
     "output_type": "stream",
     "text": [
      "\n",
      "A sample bootstrap estimate:\n",
      "  const         40.480439\n",
      "horsepower    -0.161562\n",
      "dtype: float64\n",
      "\n",
      "A sample bootstrap estimate:\n",
      "  const         40.828308\n",
      "horsepower    -0.163612\n",
      "dtype: float64\n"
     ]
    }
   ],
   "source": [
    "np.random.seed(0)\n",
    "print('\\nA sample bootstrap estimate:\\n ',auto_coeffs(auto, np.random.choice(392, 392, replace=True)))\n",
    "print('\\nA sample bootstrap estimate:\\n ',auto_coeffs(auto, np.random.choice(392, 392, replace=True)))"
   ]
  },
  {
   "cell_type": "markdown",
   "id": "45b3bb50",
   "metadata": {
    "id": "45b3bb50"
   },
   "source": [
    "Next, we use the `boot()` function to compute the standard errors of 1,000 bootstrap estimates for the intercept and slope terms."
   ]
  },
  {
   "cell_type": "code",
   "execution_count": 31,
   "id": "VmFGDy_IMrql",
   "metadata": {
    "id": "VmFGDy_IMrql"
   },
   "outputs": [
    {
     "name": "stdout",
     "output_type": "stream",
     "text": [
      "\n",
      "Bootstrapped Estimates = [39.9224 -0.1579]\n",
      "Bootstrapped Std. Error(s) = [0.8351 0.0073]\n"
     ]
    }
   ],
   "source": [
    "boot_results=boot(auto, auto_coeffs, 392, num_bootstrap_samples=1000)"
   ]
  },
  {
   "cell_type": "markdown",
   "id": "f8b27a40",
   "metadata": {
    "id": "f8b27a40"
   },
   "source": [
    "This indicates that the bootstrap estimate for ${\\rm SE}(\\hat{\\beta}_0)$ is $0.84$, and that the bootstrap estimate for ${\\rm SE}(\\hat{\\beta}_1)$ is $0.0073$.\n",
    "As discussed in Section 3.1.2, standard formulas can be used to compute the standard errors for the regression coefficients in a linear model. These can be obtained using the  `summary()` function."
   ]
  },
  {
   "cell_type": "code",
   "execution_count": 32,
   "id": "dtDfvsNhbLmW",
   "metadata": {
    "id": "dtDfvsNhbLmW"
   },
   "outputs": [
    {
     "name": "stdout",
     "output_type": "stream",
     "text": [
      "                            OLS Regression Results                            \n",
      "==============================================================================\n",
      "Dep. Variable:                    mpg   R-squared:                       0.606\n",
      "Model:                            OLS   Adj. R-squared:                  0.605\n",
      "Method:                 Least Squares   F-statistic:                     599.7\n",
      "Date:                Sat, 25 Feb 2023   Prob (F-statistic):           7.03e-81\n",
      "Time:                        21:15:45   Log-Likelihood:                -1178.7\n",
      "No. Observations:                 392   AIC:                             2361.\n",
      "Df Residuals:                     390   BIC:                             2369.\n",
      "Df Model:                           1                                         \n",
      "Covariance Type:            nonrobust                                         \n",
      "==============================================================================\n",
      "                 coef    std err          t      P>|t|      [0.025      0.975]\n",
      "------------------------------------------------------------------------------\n",
      "const         39.9359      0.717     55.660      0.000      38.525      41.347\n",
      "horsepower    -0.1578      0.006    -24.489      0.000      -0.171      -0.145\n",
      "==============================================================================\n",
      "Omnibus:                       16.432   Durbin-Watson:                   0.920\n",
      "Prob(Omnibus):                  0.000   Jarque-Bera (JB):               17.305\n",
      "Skew:                           0.492   Prob(JB):                     0.000175\n",
      "Kurtosis:                       3.299   Cond. No.                         322.\n",
      "==============================================================================\n",
      "\n",
      "Notes:\n",
      "[1] Standard Errors assume that the covariance matrix of the errors is correctly specified.\n"
     ]
    }
   ],
   "source": [
    "X = stats.add_constant(auto.horsepower)\n",
    "y = auto.mpg\n",
    "\n",
    "model = stats.OLS(y,X)\n",
    "results = model.fit()\n",
    "print(results.summary())"
   ]
  },
  {
   "cell_type": "markdown",
   "id": "48a4d5a4",
   "metadata": {
    "id": "48a4d5a4"
   },
   "source": [
    "The standard error estimates for $\\hat{\\beta}_0$ and\n",
    "$\\hat{\\beta}_1$ obtained using the formulas from\n",
    "Section 3.1.2 are $0.717$ for the intercept and $0.0064$\n",
    "for the slope. Interestingly, these are somewhat different from the\n",
    "estimates obtained using the bootstrap.  Does this indicate a problem\n",
    "with the bootstrap? In fact, it suggests the opposite.  Recall that\n",
    "the standard formulas given in Equation 3.8 on page 66 rely on certain assumptions. For example, they depend\n",
    "on the unknown parameter $\\sigma^2$, the noise variance. We then estimate $\\sigma^2$\n",
    "using the RSS. Now although the formulas for the standard errors do not rely on the linear model\n",
    "being correct, the estimate for $\\sigma^2$ does.\n",
    "We see in\n",
    "Figure 3.8 on page 91 that there is a non-linear relationship in\n",
    "the data, and so the residuals from a linear fit will be inflated, and so will $\\hat{\\sigma}^2$.\n",
    "Secondly, the standard formulas assume (somewhat unrealistically) that the $x_i$ are fixed, and all the variability comes from the variation in the errors $\\epsilon_i$.\n",
    " The bootstrap approach does not rely on any of these assumptions, and so it is\n",
    "likely giving a more accurate estimate of the standard errors of\n",
    "$\\hat{\\beta}_0$ and $\\hat{\\beta}_1$ than is the `summary()`\n",
    "function.\n",
    "\n",
    "Below we compute the bootstrap standard error estimates and the standard\n",
    "linear regression estimates that result from fitting the quadratic model to the data. Since this model provides a good fit to the data (Figure 3.8), there is now a better correspondence between the bootstrap estimates and the standard estimates of ${\\rm SE}(\\hat{\\beta}_0)$, ${\\rm SE}(\\hat{\\beta}_1)$ and ${\\rm SE}(\\hat{\\beta}_2)$."
   ]
  },
  {
   "cell_type": "code",
   "execution_count": 33,
   "id": "Wib37vaCb8vK",
   "metadata": {
    "id": "Wib37vaCb8vK"
   },
   "outputs": [],
   "source": [
    "def auto_coeffs(data, indices):\n",
    "    \"\"\"\n",
    "    Returns a set of fit coeffecients for the model mpg ~ horsepower using num_samples of data with replacement \n",
    "    \"\"\"\n",
    "    subs = data.iloc[indices]\n",
    "    results = smf.ols(\"mpg ~ horsepower + np.power(horsepower, 2)\", data=subs).fit()\n",
    "\n",
    "    return results.params"
   ]
  },
  {
   "cell_type": "code",
   "execution_count": 34,
   "id": "x-iMZFQSd5R8",
   "metadata": {
    "id": "x-iMZFQSd5R8"
   },
   "outputs": [
    {
     "name": "stdout",
     "output_type": "stream",
     "text": [
      "\n",
      "Bootstrapped Estimates = [ 5.69546e+01 -4.66900e-01  1.20000e-03]\n",
      "Bootstrapped Std. Error(s) = [2.0847e+00 3.3100e-02 1.0000e-04]\n"
     ]
    }
   ],
   "source": [
    "np.random.seed(0)\n",
    "boot_results = boot(auto, auto_coeffs, 392, num_bootstrap_samples=1000)"
   ]
  },
  {
   "cell_type": "code",
   "execution_count": 35,
   "id": "panrkI8weBmN",
   "metadata": {
    "id": "panrkI8weBmN"
   },
   "outputs": [
    {
     "name": "stdout",
     "output_type": "stream",
     "text": [
      "                            OLS Regression Results                            \n",
      "==============================================================================\n",
      "Dep. Variable:                    mpg   R-squared:                       0.688\n",
      "Model:                            OLS   Adj. R-squared:                  0.686\n",
      "Method:                 Least Squares   F-statistic:                     428.0\n",
      "Date:                Sat, 25 Feb 2023   Prob (F-statistic):           5.40e-99\n",
      "Time:                        21:18:31   Log-Likelihood:                -1133.2\n",
      "No. Observations:                 392   AIC:                             2272.\n",
      "Df Residuals:                     389   BIC:                             2284.\n",
      "Df Model:                           2                                         \n",
      "Covariance Type:            nonrobust                                         \n",
      "==============================================================================\n",
      "                 coef    std err          t      P>|t|      [0.025      0.975]\n",
      "------------------------------------------------------------------------------\n",
      "const         56.9001      1.800     31.604      0.000      53.360      60.440\n",
      "horsepower    -0.4662      0.031    -14.978      0.000      -0.527      -0.405\n",
      "hp2            0.0012      0.000     10.080      0.000       0.001       0.001\n",
      "==============================================================================\n",
      "Omnibus:                       16.158   Durbin-Watson:                   1.078\n",
      "Prob(Omnibus):                  0.000   Jarque-Bera (JB):               30.662\n",
      "Skew:                           0.218   Prob(JB):                     2.20e-07\n",
      "Kurtosis:                       4.299   Cond. No.                     1.29e+05\n",
      "==============================================================================\n",
      "\n",
      "Notes:\n",
      "[1] Standard Errors assume that the covariance matrix of the errors is correctly specified.\n",
      "[2] The condition number is large, 1.29e+05. This might indicate that there are\n",
      "strong multicollinearity or other numerical problems.\n"
     ]
    }
   ],
   "source": [
    "X = auto.horsepower\n",
    "X = stats.add_constant(X)\n",
    "X[\"hp2\"] = np.power(X.horsepower, 2)\n",
    "y = auto.mpg\n",
    "\n",
    "model = stats.OLS(y,X)\n",
    "results = model.fit()\n",
    "print(results.summary())"
   ]
  },
  {
   "cell_type": "code",
   "execution_count": null,
   "id": "6e7541e1",
   "metadata": {},
   "outputs": [],
   "source": []
  }
 ],
 "metadata": {
  "celltoolbar": "Edit Metadata",
  "colab": {
   "provenance": []
  },
  "jupytext": {
   "formats": "ipynb,Rmd"
  },
  "kernelspec": {
   "display_name": "Python 3",
   "language": "python",
   "name": "python3"
  },
  "language_info": {
   "codemirror_mode": {
    "name": "ipython",
    "version": 3
   },
   "file_extension": ".py",
   "mimetype": "text/x-python",
   "name": "python",
   "nbconvert_exporter": "python",
   "pygments_lexer": "ipython3",
   "version": "3.8.8"
  },
  "substitutions": {
   "ISLPmod": "`ISLP`",
   "Rlang": "`R`",
   "mpl": "`matplotlib`",
   "numpy": "`numpy`",
   "pandas": "`pandas`",
   "pylang": "`python`",
   "smlib": "`statsmodels`"
  }
 },
 "nbformat": 4,
 "nbformat_minor": 5
}
