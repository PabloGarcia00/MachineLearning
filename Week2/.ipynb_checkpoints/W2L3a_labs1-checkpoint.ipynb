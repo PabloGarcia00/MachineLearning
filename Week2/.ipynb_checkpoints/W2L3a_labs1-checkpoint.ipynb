{
 "cells": [
  {
   "cell_type": "markdown",
   "id": "q_6I2XvQenXs",
   "metadata": {
    "id": "q_6I2XvQenXs"
   },
   "source": [
    "# 8.3 Lab: Decision Trees - Part A\n",
    "This lab replaces the Lab session in Section 8.3 of the book \"[An Introduction to Statistical Learning](https://www.statlearning.com/)\". We ad With additional inputs from [DataCamp](https://www.datacamp.com/community/tutorials/decision-tree-classification-python).\n",
    "\n",
    "This lab has the following sections:\n",
    "1. Fitting Decision Trees for classification\n",
    "2. Visualizing and interpreting Decision Trees\n",
    "3. Hyper-parameters of Decision Trees and prunning\n",
    "4. Hyper-parameter Tuning in Decision Trees with Cross-Validation\n",
    "\n"
   ]
  },
  {
   "cell_type": "code",
   "execution_count": 95,
   "id": "cb2535b1",
   "metadata": {
    "ExecuteTime": {
     "end_time": "2024-02-14T10:14:06.742288Z",
     "start_time": "2024-02-14T10:14:05.557239Z"
    },
    "id": "cb2535b1"
   },
   "outputs": [],
   "source": [
    "!pip install -q --upgrade pip matplotlib graphviz scikit-learn\n",
    "\n",
    "import pandas as pd\n",
    "\n",
    "from sklearn import tree\n",
    "\n",
    "import matplotlib.pyplot as plt\n",
    "import seaborn as sns \n",
    "%matplotlib inline"
   ]
  },
  {
   "cell_type": "markdown",
   "id": "402e6e01",
   "metadata": {
    "id": "402e6e01"
   },
   "source": [
    "## 1. Fitting Classification Trees\n",
    "\n",
    "To study the fitting of classification trees, we will use an example case study. We will use a public dataset from [kaggle](https://www.kaggle.com/uciml/pima-indians-diabetes-database) and induce decision trees with scikit-learn to address this challenge."
   ]
  },
  {
   "cell_type": "markdown",
   "id": "626e3653",
   "metadata": {
    "id": "626e3653"
   },
   "source": [
    "### About the case study\n",
    "> Can you build a machine learning model to accurately predict whether or not the patients in the dataset have diabetes or not?\n",
    "\n",
    "\n",
    "\n",
    "**Context**  \n",
    "This dataset is originally from the National Institute of Diabetes and Digestive and Kidney Diseases. The objective of the dataset is to diagnostically predict whether or not a patient has diabetes, based on certain diagnostic measurements included in the dataset. Several constraints were placed on the selection of these instances from a larger database. In particular, all patients here are females at least 21 years old of Pima Indian heritage.\n",
    "\n",
    "**Content**  \n",
    "The datasets consists of several medical predictor variables and one target variable, Outcome. Predictor variables includes the number of pregnancies the patient has had, their BMI, insulin level, age, and so on.\n",
    "\n",
    "The list of attributes is:\n",
    "1. Number of times pregnant\n",
    "2. Plasma glucose concentration a 2 hours in an oral glucose tolerance test\n",
    "3. Diastolic blood pressure (mm Hg)\n",
    "4. Triceps skin fold thickness (mm)\n",
    "5. 2-Hour serum insulin (mu U/ml)\n",
    "6. Body mass index (weight in kg/(height in m)^2)\n",
    "7. Diabetes pedigree function\n",
    "8. Age (years)\n",
    "9. Class variable (0 or 1)\n",
    "\n",
    "\n",
    "## Load the data\n",
    "Let's first load the required Pima Indian Diabetes dataset using pandas' read CSV function. \n",
    "\n",
    "Below we download the dataset from public gist, and then load the corresponding CSV file."
   ]
  },
  {
   "cell_type": "code",
   "execution_count": 96,
   "id": "5761c54f",
   "metadata": {
    "ExecuteTime": {
     "end_time": "2024-02-14T10:14:17.874472Z",
     "start_time": "2024-02-14T10:14:17.748710Z"
    },
    "id": "5761c54f"
   },
   "outputs": [],
   "source": [
    "! [ ! -d 'diabetes-data' ] && git clone https://gist.github.com/c21e73a1bd1700294ef790c56c8aec1f diabetes-data"
   ]
  },
  {
   "cell_type": "code",
   "execution_count": 97,
   "id": "cca9f315",
   "metadata": {
    "ExecuteTime": {
     "end_time": "2024-02-14T10:14:19.953290Z",
     "start_time": "2024-02-14T10:14:19.944697Z"
    },
    "id": "cca9f315"
   },
   "outputs": [],
   "source": [
    "col_names = ['pregnant', 'glucose', 'bp', 'skin', 'insulin', 'bmi', 'pedigree', 'age', 'label']\n",
    "# load dataset\n",
    "pima = pd.read_csv(\"diabetes-data/pima-indians-diabetes.csv\", header=None, names=col_names, comment='#')"
   ]
  },
  {
   "cell_type": "code",
   "execution_count": 98,
   "id": "82294dec",
   "metadata": {
    "ExecuteTime": {
     "end_time": "2024-02-14T10:14:21.284121Z",
     "start_time": "2024-02-14T10:14:21.274366Z"
    },
    "id": "82294dec"
   },
   "outputs": [],
   "source": [
    "pima.head()"
   ]
  },
  {
   "cell_type": "markdown",
   "id": "faac828a",
   "metadata": {
    "id": "faac828a"
   },
   "source": [
    "### Select features\n",
    "Here, you need to split given columns into two types of variables dependent (or target variable $y$) and independent variable (or feature variables $X$)."
   ]
  },
  {
   "cell_type": "code",
   "execution_count": 99,
   "id": "8e917e37",
   "metadata": {
    "ExecuteTime": {
     "end_time": "2024-02-14T10:14:23.896062Z",
     "start_time": "2024-02-14T10:14:23.882860Z"
    },
    "id": "8e917e37"
   },
   "outputs": [],
   "source": [
    "feature_cols = ['pregnant', 'glucose', 'bp', 'skin', 'insulin', 'bmi', 'pedigree', 'age']\n",
    "X = pima[feature_cols] # Features\n",
    "y = pima.label # Target variable\n",
    "\n",
    "# TODO print the \"shape\" of X and y. \n",
    "# Result should be X:(N, F) y:(N,) with N being the number of samples and F the number of features\n"
   ]
  },
  {
   "cell_type": "markdown",
   "id": "6adf1b67",
   "metadata": {
    "id": "6adf1b67"
   },
   "source": [
    "### Split data\n",
    "To understand model performance, dividing the dataset into a training set and a test set is a good strategy.\n",
    "\n",
    "TODO: split the dataset by using function `train_test_split`, as below. Use the [`sklearn.model_selection.train_test_split`](https://scikit-learn.org/stable/modules/generated/sklearn.model_selection.train_test_split.html) function from scikit-learn"
   ]
  },
  {
   "cell_type": "code",
   "execution_count": 42,
   "id": "0972c851",
   "metadata": {
    "ExecuteTime": {
     "end_time": "2024-02-14T09:33:13.649678Z",
     "start_time": "2024-02-14T09:33:13.640618Z"
    },
    "id": "0972c851"
   },
   "outputs": [],
   "source": [
    "# TODO import train_test_split\n",
    "\n",
    "\n",
    "# TODO split X and y into X_train, X_test, y_train, y_test with a 70% training and 30% test split\n",
    "# set the random_state=1 for consistency to the solution (but other random states should be fine too but produde slightly different numbers)\n"
   ]
  },
  {
   "cell_type": "markdown",
   "id": "8fe1d601",
   "metadata": {
    "id": "8fe1d601"
   },
   "source": [
    "### Create and train a Decision Tree model\n",
    "\n",
    "We will use the `DecisionTreeClassifier` class from the sklearn package, that creates a decision tree for classification tasks. The full documentation is [here](https://scikit-learn.org/stable/modules/generated/sklearn.tree.DecisionTreeClassifier.html#sklearn.tree.DecisionTreeClassifier), but do not dive into it yet! We will discover most of it by coding below.\n",
    "\n",
    "First we will create a Decision Tree, with the default hyper-parameters, train it and make prediction on the test test split."
   ]
  },
  {
   "cell_type": "code",
   "execution_count": 43,
   "id": "94da2d4b",
   "metadata": {
    "ExecuteTime": {
     "end_time": "2024-02-14T09:33:14.458251Z",
     "start_time": "2024-02-14T09:33:14.447437Z"
    },
    "id": "94da2d4b"
   },
   "outputs": [],
   "source": [
    "# TODO Import the DecisionTreeClassifier from scikit-learn (sklearn)\n",
    "\n",
    "\n",
    "# TODO Instantiate a DecisionTreeClassifier object with random_state 0\n",
    "\n",
    "\n",
    "# TODO Train with the training dataset X_train,y_train with .fit()\n",
    "\n",
    "\n",
    "#Predict the response y_pred for test dataset X_test with .predict()\n"
   ]
  },
  {
   "cell_type": "markdown",
   "id": "9361cb1d",
   "metadata": {
    "id": "9361cb1d"
   },
   "source": [
    "Next, we will evaluate how accurately the classifier model has predicted the labels in the test set.\n",
    "\n",
    "Accuracy can be computed by comparing actual test set values and predicted values. Using the `accuracy_score` we see how often the decision tree is correct. \n",
    "\n",
    "The `confusion_matrix` is also useful for classification problems. scikit-learn offers a nice visualization for confusion matrices. \n",
    "\n",
    "You can find both functions in the [`sklearn.metrics` module](https://scikit-learn.org/stable/modules/classes.html#module-sklearn.metrics)"
   ]
  },
  {
   "cell_type": "code",
   "execution_count": 44,
   "id": "58fea253",
   "metadata": {
    "ExecuteTime": {
     "end_time": "2024-02-14T09:33:15.012315Z",
     "start_time": "2024-02-14T09:33:14.999332Z"
    },
    "id": "58fea253"
   },
   "outputs": [],
   "source": [
    "# TODO Import the accuracy_score and confusion_matrix functions from scikit learn\n",
    "\n",
    "\n",
    "# Model Accuracy, how often is the classifier correct?\n",
    "print(\"Accuracy:\", accuracy_score(y_test, y_pred))\n",
    "\n",
    "# TODO implement your own accuracy metric by calculating the average of correct predictions\n",
    "# hint you can test if elements of vectors A and B are equal with \"A==B\" and you can calculate the average of all elements in a vector with .mean()\n"
   ]
  },
  {
   "cell_type": "code",
   "execution_count": 45,
   "id": "4215fdb1b20404c7",
   "metadata": {
    "ExecuteTime": {
     "end_time": "2024-02-14T09:33:15.303816Z",
     "start_time": "2024-02-14T09:33:15.206906Z"
    },
    "collapsed": false
   },
   "outputs": [],
   "source": [
    "# TODO Import the confusion_matrix function and the ConfusionMatrixDisplay class from scikit learn metrics\n",
    "\n",
    "\n",
    "cm = confusion_matrix(y_test, y_pred)\n",
    "\n",
    "cm_display = ConfusionMatrixDisplay(cm).plot()"
   ]
  },
  {
   "cell_type": "markdown",
   "id": "262ae43b",
   "metadata": {
    "id": "262ae43b"
   },
   "source": [
    "The model has a classification accuracy of 69.2%. Not a bad result, considering that we have used the default hyperparameters.\n",
    "You can improve this metric further by tuning the hyper-parameters of the Decision Tree model.\n",
    "\n",
    "> **Discussion question**\n",
    ">\n",
    "> In the example above, is the classification accuracy of nearly 70% a good one? Explain why.\n",
    "> Hint: look at the confusion matrix\n",
    "\n"
   ]
  },
  {
   "cell_type": "markdown",
   "id": "06ae261e",
   "metadata": {
    "id": "06ae261e"
   },
   "source": [
    "## 2. Visualizing Decision Trees\n",
    "\n",
    "First, lets check the depth of the decision tree induced, and the number of leaves it has. \n",
    "\n",
    "We will be using the methods `get_depth`, and `get_n_leaves` of the decision tree classifier\n"
   ]
  },
  {
   "cell_type": "code",
   "execution_count": 46,
   "id": "65682ee9",
   "metadata": {
    "ExecuteTime": {
     "end_time": "2024-02-14T09:33:16.391956Z",
     "start_time": "2024-02-14T09:33:16.380165Z"
    },
    "id": "65682ee9"
   },
   "outputs": [],
   "source": [
    "# TODO Print the depth of the tree\n",
    "# Hint, you can get a list of all member variables and functions with dir(model)\n",
    "\n"
   ]
  },
  {
   "cell_type": "markdown",
   "id": "d51057e9",
   "metadata": {
    "id": "d51057e9"
   },
   "source": [
    "> **Discussion question**\n",
    ">\n",
    "> Is this tree rather complex or simple? What are the benefits and downsides of a complex tree over a simple tree given the training and test set. Bonus Point: Discuss the terms bias and variance.\n",
    "\n"
   ]
  },
  {
   "cell_type": "markdown",
   "id": "8a71313c",
   "metadata": {
    "id": "8a71313c"
   },
   "source": [
    "Next, we will visualize the decision tree. The `export_text()` function returns the tree in a textual form: shows the variables that are used as internal nodes in the tree and the labels assigned to the terminal nodes.\n",
    "\n",
    "**Note, in the code below, we call the Decision Tree object `dtc` (DecisionTreeClassifier), but you may have called it differently above**"
   ]
  },
  {
   "cell_type": "code",
   "execution_count": 47,
   "id": "K_rboex6qFED",
   "metadata": {
    "ExecuteTime": {
     "end_time": "2024-02-14T09:33:17.589069Z",
     "start_time": "2024-02-14T09:33:17.583240Z"
    },
    "id": "K_rboex6qFED"
   },
   "outputs": [],
   "source": [
    "# Tree node count (internal nodes + leaf nodes):\n",
    "print(tree.export_text(dtc, feature_names=feature_cols))"
   ]
  },
  {
   "cell_type": "markdown",
   "id": "T-0_Zfu1MaP5",
   "metadata": {
    "id": "T-0_Zfu1MaP5"
   },
   "source": [
    "Using the `plot_tree` function, we can visualize the tree, its nodes and leaves, along with several metrics per node.\n",
    "\n",
    "After executing the code below, double-click on the image, and you can zoom in!"
   ]
  },
  {
   "cell_type": "code",
   "execution_count": 49,
   "id": "nrp6xTp1qLhj",
   "metadata": {
    "ExecuteTime": {
     "end_time": "2024-02-14T09:35:35.723672Z",
     "start_time": "2024-02-14T09:35:33.042060Z"
    },
    "id": "nrp6xTp1qLhj"
   },
   "outputs": [],
   "source": [
    "plt.figure(figsize=(16,10), dpi=400)\n",
    "tree.plot_tree(dtc, filled=True, feature_names=X_train.columns)\n",
    "plt.title(\"Decision tree trained with default settings\")\n",
    "plt.show()"
   ]
  },
  {
   "cell_type": "markdown",
   "id": "hlch5SgjRKWn",
   "metadata": {
    "id": "hlch5SgjRKWn"
   },
   "source": [
    "Below we zoom in to the visaul of a tree node. It shows\n",
    "- the feature on which the split was performed, and the split criterion (in this case `glucose < 129.5`)\n",
    "- the measure of node impurity, in this case the gini index (which was 0.449)\n",
    "- the number of samples in this node (537), and\n",
    "- the fraction of samples corresponding to all classes. In this case, 354 were to class 0, and 183 to class 1.\n",
    "As the majority is with Class 0, had this been a terminal node (leaf), then that would be the label predicted by this tree.\n",
    "\n",
    "\n",
    "\n",
    "![Node visual.png](data:image/png;base64,iVBORw0KGgoAAAANSUhEUgAAAZAAAADlCAYAAAB9J6EKAAAK4GlDQ1BJQ0MgUHJvZmlsZQAASImVlwdUk8kWgOf/00NCgIQISAm9CdIJICX0AEqvohKSQEIJMSEo2BVxBVcFEREsS1kVUXB1KbIWxIIVRQXsC7IoKOtiwYbK/sAj7O47773zbs78852bO7fMmTnnDgDkII5YnAYrAZAuypSE+XkyYmLjGLhnAAaKgIB87ThcqZgVEhIEEJme/y7vuwE0Md+xmPD17///V1Hh8aVcAKB4hBN5Um46wq3IeMUVSzIBQB1D9PrLMsUTfBdhmgRJEOHBCU6e4i8TnDjJaKVJm4gwL4QNAMCTOBxJMgAkK0TPyOImI35IIQhbiXhCEcJrEXbjCjg8hJG4YE56esYEDyNsgtiLASDTEGYm/sVn8t/8J8r9czjJcp6qa1Lw3kKpOI2T/X9uzf+W9DTZdAwjZJAEEv8wZKYj+3cvNSNQzqLEBcHTLORN2k+yQOYfOc1cqVfcNPM43oHytWkLgqY5SejLlvvJZEdMM1/qEz7NkowweawkiRdrmjmSmbiy1Ei5XsBny/3nCCKipzlLGLVgmqWp4YEzNl5yvUQWJs+fL/LznInrK689XfqXeoVs+dpMQYS/vHbOTP58EWvGpzRGnhuP7+0zYxMptxdnespjidNC5Pb8ND+5XpoVLl+biRzOmbUh8j1M4QSETDPwBj4gCPkxQCSwAY7IsAKhAGTyl2dOFOOVIc6WCJMFmQwWcuP4DLaIazmHYWNlYwPAxP2dOhJvwybvJUQ/M6PLqEaO8nvkzhTO6BKLAWjKA0DtwYzOYB8AlFwAGtu4MknWlA498cEAIqAAGlAH2kAfmAALJDcH4AI8kIwDQDCIALFgMeACAUgHErAMrATrQB4oANvBTlAG9oMqcAgcBcdBEzgFzoFL4Bq4BbrAQ9ALBsBLMALegzEIgnAQGaJC6pAOZAiZQzYQE3KDfKAgKAyKhRKgZEgEyaCV0AaoACqCyqAKqAb6CToJnYOuQJ3QfagPGoLeQJ9hFEyCabAWbATPhZkwCw6EI+BFcDK8FM6Bc+GtcClcCR+BG+Fz8DW4C+6FX8KjKIBSQNFRuigLFBPlhQpGxaGSUBLUalQ+qgRViapDtaDaUXdQvahh1Cc0Fk1FM9AWaBe0PzoSzUUvRa9Gb0GXoQ+hG9EX0HfQfegR9DcMGaOJMcc4Y9iYGEwyZhkmD1OCOYBpwFzEdGEGMO+xWCwda4x1xPpjY7Ep2BXYLdi92HpsK7YT248dxeFw6jhznCsuGMfBZeLycLtxR3BncbdxA7iPeAW8Dt4G74uPw4vw6/El+MP4M/jb+Of4MYISwZDgTAgm8AjZhG2EakIL4SZhgDBGVCYaE12JEcQU4jpiKbGOeJH4iPhWQUFBT8FJIVRBqLBWoVThmMJlhT6FTyQVkhnJixRPkpG2kg6SWkn3SW/JZLIR2YMcR84kbyXXkM+Tn5A/KlIVLRXZijzFNYrlio2KtxVfUQgUQwqLspiSQymhnKDcpAwrEZSMlLyUOEqrlcqVTir1KI0qU5WtlYOV05W3KB9WvqI8qIJTMVLxUeGp5KpUqZxX6aeiqPpULyqXuoFaTb1IHaBhacY0Ni2FVkA7SuugjaiqqNqpRqkuVy1XPa3aS0fRjehsehp9G/04vZv+eZbWLNYs/qzNs+pm3Z71QW22mocaXy1frV6tS+2zOkPdRz1VvVC9Sf2xBlrDTCNUY5nGPo2LGsOzabNdZnNn588+PvuBJqxpphmmuUKzSvO65qiWtpafllhrt9Z5rWFturaHdop2sfYZ7SEdqo6bjlCnWOeszguGKoPFSGOUMi4wRnQ1df11ZboVuh26Y3rGepF66/Xq9R7rE/WZ+kn6xfpt+iMGOgbzDVYa1Bo8MCQYMg0FhrsM2w0/GBkbRRttMmoyGjRWM2Yb5xjXGj8yIZu4myw1qTS5a4o1ZZqmmu41vWUGm9mbCczKzW6aw+YO5kLzveadczBznOaI5lTO6bEgWbAssixqLfos6ZZBlustmyxfzTWYGze3cG773G9W9lZpVtVWD61VrAOs11u3WL+xMbPh2pTb3LUl2/rarrFttn1tZ27Ht9tnd8+eaj/ffpN9m/1XB0cHiUOdw5CjgWOC4x7HHiaNGcLcwrzshHHydFrjdMrpk7ODc6bzcec/XCxcUl0OuwzOM57Hn1c9r99Vz5XjWuHa68ZwS3D7wa3XXded417p/tRD34PnccDjOcuUlcI6wnrlaeUp8Wzw/ODl7LXKq9Ub5e3nne/d4aPiE+lT5vPEV8832bfWd8TP3m+FX6s/xj/Qv9C/h63F5rJr2CMBjgGrAi4EkgLDA8sCnwaZBUmCWubD8wPm75j/aIHhAtGCpmAQzA7eEfw4xDhkacgvodjQkNDy0Gdh1mErw9rDqeFLwg+Hv4/wjNgW8TDSJFIW2RZFiYqPqon6EO0dXRTdGzM3ZlXMtViNWGFscxwuLiruQNzoQp+FOxcOxNvH58V3LzJetHzRlcUai9MWn15CWcJZciIBkxCdcDjhCyeYU8kZTWQn7kkc4Xpxd3Ff8jx4xbwhviu/iP88yTWpKGkw2TV5R/KQwF1QIhgWegnLhK9T/FP2p3xIDU49mDqeFp1Wn45PT0g/KVIRpYouZGhnLM/oFJuL88S9S52X7lw6IgmUHJBC0kXS5kwa0ihdl5nINsr6styyyrM+LotadmK58nLR8uvZZtmbs5/n+Ob8uAK9gruibaXuynUr+1axVlWshlYnrm5bo78md83AWr+1h9YR16Wuu7Hean3R+ncboje05Grlrs3t3+i3sTZPMU+S17PJZdP+79DfCb/r2Gy7effmb/m8/KsFVgUlBV+2cLdc/d76+9Lvx7cmbe3Y5rBt33bsdtH27kL3wkNFykU5Rf075u9oLGYU5xe/27lk55USu5L9u4i7ZLt6S4NKm3cb7N6++0uZoKyr3LO8fo/mns17Puzl7b29z2Nf3X6t/QX7P/8g/OFehV9FY6VRZUkVtiqr6ll1VHX7j8wfaw5oHCg48PWg6GDvobBDF2oca2oOax7eVgvXymqHjsQfuXXU+2hznUVdRT29vuAYOCY79uKnhJ+6jwcebzvBPFH3s+HPexqoDfmNUGN240iToKm3Oba582TAybYWl5aGXyx/OXhK91T5adXT284Qz+SeGT+bc3a0Vdw6fC75XH/bkraH52PO370QeqHjYuDFy5d8L51vZ7Wfvex6+dQV5ysnrzKvNl1zuNZ43f56ww37Gw0dDh2NNx1vNt9yutXSOa/zzG332+fueN+5dJd991rXgq7O7sjuez3xPb33ePcG76fdf/0g68HYw7WPMI/yHys9Lnmi+aTyV9Nf63sdek/3efddfxr+9GE/t//lb9LfvgzkPiM/K3mu87xm0Gbw1JDv0K0XC18MvBS/HBvO+1359z2vTF79/IfHH9dHYkYGXktej7/Z8lb97cF3du/aRkNGn7xPfz/2If+j+sdDn5if2j9Hf34+tuwL7kvpV9OvLd8Cvz0aTx8fF3MknMlWAIUMOCkJgDcHkf44FgDqLQCIC6f660mBpt4EkwT+E0/14JPiAEBVDwARKwAIugHA7jKkpUX8U5B3QQgF0bsA2NZWPv4l0iRbmylfJHekNXk8Pv7WBABcIQBfC8fHx6rGx79WIck+BKA1e6qvnxClI8hLpsHT3z7o8UZrNPiHTPX8f6nxnzOYyMAO/HP+E5/YG8B7BJdgAAAAlmVYSWZNTQAqAAAACAAFARIAAwAAAAEAAQAAARoABQAAAAEAAABKARsABQAAAAEAAABSASgAAwAAAAEAAgAAh2kABAAAAAEAAABaAAAAAAAAAJAAAAABAAAAkAAAAAEAA5KGAAcAAAASAAAAhKACAAQAAAABAAABkKADAAQAAAABAAAA5QAAAABBU0NJSQAAAFNjcmVlbnNob3Q0BtQ4AAAACXBIWXMAABYlAAAWJQFJUiTwAAAC2GlUWHRYTUw6Y29tLmFkb2JlLnhtcAAAAAAAPHg6eG1wbWV0YSB4bWxuczp4PSJhZG9iZTpuczptZXRhLyIgeDp4bXB0az0iWE1QIENvcmUgNi4wLjAiPgogICA8cmRmOlJERiB4bWxuczpyZGY9Imh0dHA6Ly93d3cudzMub3JnLzE5OTkvMDIvMjItcmRmLXN5bnRheC1ucyMiPgogICAgICA8cmRmOkRlc2NyaXB0aW9uIHJkZjphYm91dD0iIgogICAgICAgICAgICB4bWxuczpleGlmPSJodHRwOi8vbnMuYWRvYmUuY29tL2V4aWYvMS4wLyIKICAgICAgICAgICAgeG1sbnM6dGlmZj0iaHR0cDovL25zLmFkb2JlLmNvbS90aWZmLzEuMC8iPgogICAgICAgICA8ZXhpZjpQaXhlbFhEaW1lbnNpb24+MTA0ODwvZXhpZjpQaXhlbFhEaW1lbnNpb24+CiAgICAgICAgIDxleGlmOlVzZXJDb21tZW50PlNjcmVlbnNob3Q8L2V4aWY6VXNlckNvbW1lbnQ+CiAgICAgICAgIDxleGlmOlBpeGVsWURpbWVuc2lvbj42MDA8L2V4aWY6UGl4ZWxZRGltZW5zaW9uPgogICAgICAgICA8dGlmZjpSZXNvbHV0aW9uVW5pdD4yPC90aWZmOlJlc29sdXRpb25Vbml0PgogICAgICAgICA8dGlmZjpZUmVzb2x1dGlvbj4xNDQ8L3RpZmY6WVJlc29sdXRpb24+CiAgICAgICAgIDx0aWZmOlhSZXNvbHV0aW9uPjE0NDwvdGlmZjpYUmVzb2x1dGlvbj4KICAgICAgICAgPHRpZmY6T3JpZW50YXRpb24+MTwvdGlmZjpPcmllbnRhdGlvbj4KICAgICAgPC9yZGY6RGVzY3JpcHRpb24+CiAgIDwvcmRmOlJERj4KPC94OnhtcG1ldGE+CghwYogAAEAASURBVHgB7J0HYFzF8f/Hvffeuw0uYLAB001vofdAEn5AQiAhJKSTQnohBBLKnxIgIUBoofduik3HBQzuvVdZcpPr//uZd3t6Op2kkyzbkvLG1t299/Ztmd2dmZ2Zna2zXWAJJBhIMJBgIMFAgoEKYqBuBdMnyRMMJBhIMJBgIMGAYyBhIMlASDCQYCDBQIKBSmEgYSCVQlvyUoKBBAMJBhIMJAwkGQMJBhIMJBhIMFApDCQMpFJoS15KMJBgIMFAgoGEgSRjIMFAgoEEAwkGKoWBhIFUCm3JSwkGEgwkGEgwkDCQZAwkGEgwkGAgwUClMJAwkEqhLXkpwUCCgQQDCQYSBpKMgQQDCQYSDCQYqBQGEgZSKbQlLyUYSDCQYCDBQMJAkjGQYCDBQIKBBAOVwkDCQCqFtuSlBAMJBhIMJBhIGEgyBhIMJBhIMJBgoFIYSBhIpdCWvJRgIMFAgoEEAwkDScZAgoEEAwkGEgxUCgMJA6kU2pKXEgwkGEgwkGAgYSDJGEgwkGAgwUCCgUphIGEglUJb8lKCgQQDCQYSDCQMJBkDCQYSDCQYSDBQKQzUr9RbWV7avn17lrvJrQQDCQYSDCQY2J0YqFOnzk4rvsoYyM6s5E5rfZJxgoEEAwkGEgxUGgNVwkC2bdtmS5YssYKCAqtXr54lq5FK90fyYoKBBAMJBqoMA3Xr1rWuXbtakyZNqizPeEY7xEBgFKw81q9fbzfddJP9+c9/tmHDhtm6deviZSS/EwwkGEgwkGBgF2IAxgEsWrTIxo4da8OHD3fBvqo1RTvEQAI+tm7daqtXr/bL6dOn28aNG8Oj5DvBQIKBBAMJBnYjBjZt2rTTSq8SBgJXa9SokVeye/fulpeX5yuTnVbrJOMEAwkGEgwkGMiKATRDrEAaNmxoCxYs8N9ZE1bBzSphINQDOwiAOmvFihX+O/lIMJBgIMFAgoFdjwGE+hYtWnjBO9MmnewD2fV9m5SYYCDBQIKBnYoBGEhV2zuyVThhINmwktxLMJBgIMFAgoFyMZAwkHJRlCRIMJBgIMFAgoFsGEgYSDasJPcSDCQYSDCQYKBcDCQMpFwUJQkSDCQYSDCQYCAbBhIGkg0ryb0EAwkGEgwkGCgXAwkDKRdFSYIEAwkGEgwkGMiGgYSBZMNKci/BQIKBBAMJBsrFQMJAykVRkiDBQIKBBAMJBrJhIGEg2bCS3EswkGAgwUCCgXIxUGWhTMotKYcErZo2ssYNq1WVcqh1kiTBQIKBBANVj4Ft27bb6nUbbcvWKExU1Zew4zlWG2qtnfe2Zn2h/+14s5IcEgwkGEgwUDswUFfEcVs1PfG1WjAQDlwEPyP26G1tWjRzZMFQdgtwMm+87MzrqqxUVeZdlXlltrGq8iYfII7f6E7RZ3llZT7PvC7KSYOqnLLiacv6TT5AWfWOUlRdmSG/yn5Xtu2Vfa+y9cz2Xia+y6tTZvpseeZ6ryrzyrVM0sXaCC0kjtWWLVttytyFtnRVgVVXJrLbGQiIadqwnq0t3GI/uehU22ePPraVJVsuk7UiHZSkTTCQYCDBQA3AAAykvsKxr1m33v5y79P20CvvWdsWjW1F/oZqV/vdzkBgFPXrRtyiQ5tW1r1TO+n8tup2BgfhMkgH1Q6NO6FCoflltbkqcVKVeeWCjl1dXi51+l9PE/qE7zgwBsOz+P1cf8fzC+M5nl/8d2l5lpYm5B3yDe+Xlj48z+U7nkcoJ9t7AT+Zz8L9ULd4fplpY9fbRejqiYE0zW9kzZo09if1dVR4dYTdz0CE3IDfrTpTBOaB0ais/qqOiEzqlGCgtmAgzEfaU+F5GCOS8XwycZPON5Y+M01p1znlW9rLFb2fql9ZZWbLMt2+bA/Luedl6QNNTLB97MwzPcqpTpmPdz8DiVUPpLPywP5RYgUSS7crfhbF09e57/q3bfs2t9PsirKTMhIM7AoMQKgCYWLOoU6OzpAomn08D0SsvDqF/EI+0RzK8pYSkqcfQqffUZlZ0mXc8rqqjvVDPTOotNdVnkt855pnRhHZL1VOPWlJ+EcbM4ot9k54zioCL6pKATosb2PZZVUq7yp+qVoxkCpuW6WyC8vHRctW27Nvf2wbCjdZR6nWTjx0X2vdvGmkXlPnJpBgoKZjAEJfT6oRhrOv/regAdjiv6FhQP16Ohq1QW5kgvzq16/nGoRNm7fYRp3FvWxVvq3IK9Dvza7Xb9msiXXt2NZaNW9ijRo0SDOS8gg+TAG1DtR7Y+FmW7Y63xavWG3rN27y+x3btPR8W2grAMe5Ir2Xl2fUwvI/KXv9xs0VYAhRXcHbjtShkuyn/AZVYYrcRkYVFljts1KvMREYoFffeL9Xt3GzFnb4yMHWtmUzzbRq34KkggkGcsIARD5fhtr1GzbZgmUrbercxTZ74VIR/TUuxa8TcT5w2AC75LQjrUnjhuUSZfJbtDzfPp+90MZ/MdtmLFhicxev8L8la9ZZ88YNrHv7Nta3WwfbZ1AfO2r/YTakX3ft/WpQpmDmzEOMbkNhoU2YMseeHzveJk2fZ7MXL7cFK/PlhFPfBnbvaHv27mbHHzzcDhm+h+Zqc9silfiOiHqU20BMYOb8JXb9fc+KcW0Sc4pyLFqjFUc1z2Fwvbt1tG+cfpR1E7N0my5cuhZCwkCydCqcH8mrV+f2tmLVajt4WB8xlbppW02WV5JbCQZqDAYY3/VE0D6bOd/+eM+TNkeEeMqcRVnrzyrha26TLJ0AOqGtX98mz1pg37/xPhs3cVrWvPLEAPLWrPVyn37rE/v1Px63W350kZ151AHWolnjrAwqMI/V+WvtoZfH2Q//9kCJvDfJOekD5fvB5Fl273Nv2/e+fKJ986yjrXvHlEPODhBvhMl1Gwrt3mffKlFuWTcaNmpiXz7+YF/dlZWupj9LGEgpPcgSfu6yPClrt7oaq8jUX8oLye0EAzUEA7ACmMiCpSvtxXcnWqvGxclAyyYNrVPbljZ94QprrX1ZudBf0qzOX1eMefTv0cWOPWCoDerdxVo2i9S/n89aaLc9+aZtLdxgrZs2tG9f90/bvGWLXXjSYdZEK5GtmniBVTnzkDpqvQj4Qy+Jefz9Aa1gWtiCFQV2wLD+duphI61rh9bGSuldMa37X3jHenZoZTf+53nvie9dcKK1a9Vih1YA0AFUZ82aN7d2TetZ40aNbM++PaxVi6a2HRtHqGyq70m7QfXp37OztZSaLlf7Uer1GvdVfOTUuOrv3AqzCpFaeIf0mDu3hknuuxsDEDlgR3Tdu6sNoc5Nmzezfr3a2JC+3a2fCN/EaXPsiTc+8mqhfqkonHLYCDv9iP1saP8e1kG2iTZSJzXUCgVHlLyCdXbcQXvbTQ8+L1XUROvWtrl974b7bFj/njZqrwHF5TSIs/4+/mKWM49+XdrazMWr7LIzj7JLTj3S+nXvZE2lWsNr8/gD97aD9h5oV/zpHhvQrZ0zkZGD+9oph4+kcyrahHR6XqWH161dqz9zHF125jG2R++uzpioYLHcSa8xQXthMhjSA57TmdaiH7WOgYQJzaAJHetTnImeupe+TnVkaR3s6cro7FzziWeRrh83Y3WMp8n8Hd7JrGe4H2UVWpv5dtF1SB/PJ96G+P2it0r+KuudUIa/VUXty7VeJWta9XfSbVfbUIdjhEbNAaFN8ZKqL3Qn5QgBvvXHF9vgvt0kybex5tpzgMR8x2OvphlIrkXT753btbL//P5KGzm4n//GiIwxGwP9ps2bPatWckQ5fN893e4xccZCW1+Q7/dffm+iDR/UWxK+ViF6B8Agv1q2k8def9+vYR5H7TfErjj7WBvUq6vy3GKF+mPkU/9zjjnQlst2ee0d//X09z7zpo3Ys6/17NLeNpNO/bSj0LBBPa3OWkW2De0Uj7KM58sIwVtre7odO1pmdX6/VjEQBjEeGLjcMRH034EJzmRnICMRsMysq8EJ8E4YsH6jAh/kCwFhBJMPbomhzNKyYVLwHumoD++VBv5MaXmHIRpvE9d11A499jbFl/6Z+ZEPk4d8AJbeodSAG/BCfcqbZOSFoZB2U/XMJTq4pU7kv02EIJTjBWd8hLazScrboQzJE+Da7U66dilY10UiQZRmV35SV6rG2Krrbd+uUBPb3Oi8cPkq209EE2NwWf2wK+tbXlm0Z88+3WwP/bHr2fGt77XrN5b3aonnjBlWAf17dLYBWsEELyg8r9Rtyls9RwECcLZdw3CwVjtfO/Fg+8M/n/L7GN7Xbtjoxnq/oQ/eWZ6Xb3c9+ZZ1aNnYludvdHtJn64dnXn4WEzlW6iymjZuZCceso89/PJ7tmDxEnv5/U9t2txFvjnZGxgy3oFvxifjEbUboUZCu7JlWdazbOlr4r1aw0CY3hBIBtJCuQ7OWbzMVuat9UmPPpdB1751C/eqwPVv7foNTqwayYOjedPGlSJOSEBMuC2yk2BsRIILXhrZBgPENl964kJJY/Xr1vNykWgYlJnA5KA9EPY1Bett5ZoCmy+d9Zq1GzR4t/rSvas8Wjq3by0DZBMnXryTCSEfmOQqGRoXL18tj5tVcksslKNAPeGkpSS0du61wgR0SVqZRNO9eG7k3gAcq90rVhfI42Z15Eop7xTeaNKooVQWLVz6bCGdN+oFGEo2oF71pCIE8tdtcMkxat964WO76497dekgF+qW1qJppEuGQe/qSRlwCq7cw0bjK19S8VQRpvc/m2GvSHLGxfOx6692ArZVhKWqiFU2vFX1PfoZb6Xt+qM/ECJ2BBiCEFZwgHCSCeAQnDbS6gQmEgBX3zyNc1ReAP3MmJ2zaJmutsqQzeir56sUxhTjND4W+I2KrIciWew/pK88wRaQjb07abrtP3SA5lojzy/+jieoxAfNioSZovZVRb6VqMpuf6XWMBAI8vwlK7R34xN7RLFjPpw6x7YzkAXtpYPda1AvO+foUXay9LPT5i22r157u7v/nSZd7dUXnqSQAdEAy6VHGMpIbRNmzrHf/OMxuSkutyP3G2Y//OrJ1kVGvUzJhAkDAVoh98i/ycBHHVly/+Fb59nIIf1KLK9hhkj4GCU/EJF6RvtRPpFb5KTZi9WmSBVAPXt3bW+DenZ1gyKeLP26d9YkKZpYXq4IPoz07fFf2JNvfGgfSZ88e9HydDPbtmpue/TqYiccvI+dKBfIAT27+GpNfKsYE/E6qc2L5Hv/wtgJ9vw7492bZv7SVem8+MHyvm/3DpJGu7ge/IgRQ5wRBkJMmlCvAjGODz+fac8JH+99OsMmSKVh20SAgTr1bFi/rjZ6xGA7bfR+tq9ipMG8clklRRlU7pO+dY4uKsGqtX69aIrAwBeK8U7QuELd8vjbE6CUXshe0vXD6EEY7xeRFX9c7F7m8/KuoxyKPkkPZJYR3a3cp+el9kIEq4IQ5ppHsTEB/uA+Aj7BPQID+0iA9Zu3uZsuQqALaaWYZphnHTQGA3wweYbvR2H/yVbbMeYY8oR5BOEHZkJ96X/a420CjyFxLf+u8QwkEKNp8mH/3V2PS1/6QYkuWyEXwNc/nOx/i1fmuZQyf0lERPF/p/Nz7XIGSzThZFiTFP/qB595ed07Ss8qglJqPnqJlQPMZtbCZf7HSihzoEWEup7NleR191Nv2A0PRB4lJRqlG3MWrfC/l96bZN06tLUBItpbUxk6XjSZFojA3/LwS3bzwy9my8JXJeMkpfH3wItj7a9XXWiH7LOHCEkRMQw4nief/t/f/YR7u2TNTDeXikny9+6kGU4ADhw20FpK2nSffGVKXkw+9hrc+8xb9qs7I311ify2b7VPZ8z3v5tV/3t+eZkbRBtJTcRKLhNvJd6v4A3qRd+6ejO1amKlOGPRUl9tjJs0zf7x7Nu2Ye26EjkfO2rvaAXo46j4Y/CIKq5qIbU7nArXMPD+F37XayXHvpMArFxbyeMrDuoS25QSArnPWUGox0qFFD4aStAAGigpwhJaAjYDVwXgWLNJ85xNjKu0EoWZIXyy7wQVJmplVkJOU+j8Wg41moEEwrZETOHvD77gzKNv57Y2a8kqu/iU0TZam//aaPPfOp0zgroB975f3/mYnXCQJG1JydMXLLdmUttUtp8hNr27dhARX+4eF+VJXizpUZc51JN6J6XCCWPM2yOij079r/c/Z/c8Pca6t5Pb4soCO3r/oV7vPtqghCTODvmZC5a6h8p/X4NpBmpSRKSRmm99JGIe/bu2EzFcKWl+pJ0kPXHndq19d/DHn8+yP933vLVtUs+mSA996k9vtpdv/L4dMLR/Wp1FO9dpErKyw1WyT6c2NluulN8+80ipC/rL1bOpS66otlCPTZo+1+55akwJ9RU1pM2o5G579BW77t/PWLsWjWxlQaGdd+yBdsTIIdZJ9WJSLlI+rNSe1UqndZMGdvFv7rCH/9hYK6XhzjzIqyqmJzgHwCk5ogLNE5P4bMYC++jzGfbmx1/YmE++8DTxj2MP2Ev69uG214Ce1qdbp2gFK4k5jAFvq9qRL5XjpBnz3LUzUt/Ec+F3VH50t7QWRa1lnEKY8O7BYwqVY6h/Zq7V+RomsFwCxIvjJqarOVBG8RaaG/H20N74AXMFGoOssEuFFPrWu0rVFDmisQtqi5fnaZ52VPeWht9ScyzxAK3APzUvMcovlAqXPuUIClRn2IBGSWDqo42SjHNUcGE8lMioltyo0QyEzkFdxCT/lzwuApG882dft+Pk1od6Bk8Q0hwmzw921X7nr/faC+MmWMdWTb0Ld+S0L6b16oIoxDKrj/KA9FvxCwa2bio2WZg4TCxsE49rFQXzwB1x+sKV9perLhDR31fEtZU1lbQDI2JwYnQ8++gD7cITD9Mgll86xEj5gBees+q66aEXrV/Xts48fnf5OXa2PFW6yG6CDnqriNGhWm0cNHyQ/fTmh6zO8uUi5uvtrides17yXMG+gp2noSbDStlP/vnMGGtcv67NX73O7vvVZU7w8apxiU9lQtyof8H6kb4Ld83a9cI/Nh5aHhF80oB/mEc3McfCbXXs7l9e5HnRXy7FKS0G2MOlvhoh4/SvU6sUhIRBcp8cKEMtq7nKEoRorRFFHGggd0vwsFw2HVRUH3w23V7/aLKx0S0TwNUhwhVeRDANpGaIOLguYTtQm+tJrcpq7LI/3O0ryvryMNqiYwsqC020b2KDhCHG9t9/8DW3fVWVd1Fl61SR98IYJ8QJzAN1aq+OrX2/1WipOn11qb5g/DJkmA8IFAB7VWZIYEJAYXd3dogEAOx8AOosAIGAsivDPlJDV2NNu+jbNbaZ0h7wVxoMkzrzqvNO8B3x7KHZKvtoqVqJ0jKpQfdrLANhQBBmYKEMy4+88q6jHAn7N9882844cn+XCCF+bOph5CAlE+bgtyJqX//9PyKiVwUdpbHukPMgKWMUI7UQ/uEnNz/oKw+Yx++vONe++qXDtBGria8IkJABssFojdSG+yQqIggZQD5LtSp79NUILzMXrbJvnnm059NR+uHCTcJLKp/mMlAfud9Q+8Wlp9t519zkTOs/2rR1jlYEMJAwmQvkdMBKCzht9F5um2CTFsQgEE/qBMNAXUA5bkzVveCpRb1mL1xu/5GqDFioldUdP7vUbSUQD9KzsgIol9XdV0861Pv4LqnzUCN9JJtJ/x6donqRzlNX7MPVVFIroYKcs2iRPHUW25iPPrd/PP2WKlucwPeTVHnqYfu6DQY3U1ZuuJqSB4bcuKdRvBawTNrgaks3BMtkohAXOwIwD+Cldz+NjMg7ktluehfhB23A9/92v/aAtHDmcbnG5j46TI5ncVUnq0KiQTTW2G8EL9i4xd8dsUdfjfHI84t3XDwRPcBDDrXYY2+N93ERhMNozkRCTEWbrewjAWj7Zm1g3OyGf4z0ndu29nnGvpZPZBfDWI+nGGrXS393p/1WwtrFpx7hMb+Yl4yF2gg1loF4Z2hMYNRFmkHf2ad7FzcE4/3DoEGCCf2GegWpe7T8yI/UH9J5dQGGNoO/UASGWD8AaqsjRuxpGPnxsoJQMVn4C4CRsTClNknf57kynDpnsT33zgRr26yhrVq3yX3kMUASp6eOyhJmPJstWjnh7YXd49LTjpDL5Bt+/0Optg7Qiq25VjxkmJbEdAVjhjAKvZLypPOV1EgbAH5vSxHhzEnD9adS5wTcn3vMKDtGqiDUiPQPDEbh5zwfBAQINOfDoLaCgQCox5DAUU06w4zhwxPk8LF05RqbMG2ujZ8yWw4Kn2jj3NwSb33lxEN8nAzs1U3OCR29D2gkLYVhQpxoTxrvGTlQLdKw2ntCHlobxbSF9jSeMpLndAlmwG8L7XCGeTvjrkT7cyqsihMFge8LqUn/lHLdRSXVVeFGLpSQ4LGrYg4gFE9b22nMXqSQILdrb0oLrULuU6iSg/caJM+qfs7EfVwKMTD0xSvytHp/3zZv3Gid2zR3GkA+jK0wfhmn4DFXQPjBxnHtN86U2rCH7ynpoDqx8nbVroQQhLWJis2Fg8zy/HkuhP3itkesZ+d27gCSOQ9yLbsmpKuxDATdI4Rs+rwljmc5adiB2snK8pbBktlpTHQGJBF1D9prYJqIVYtOUoXrSt2xdsN6e19eIwFQ4eCqC6Gk/plt4jo+GcLk2Coj3vT5kYES5oF3FYOZqQO9ib/jRj/hhQmxrzZdyVXLiyc0xNdSKx9usALqLfvLqhWrtIN4gv331ffclsIEx80W4g9+WbLz7QV5ThHRpb9gXnNjHmBI9Kw8Vkg9FpHWeM10R3ipX3+T240GyjsM77kPP5/t6jTKDSuuVDFlfnleUmnMk6feXxUYLzAkXurevpU1EZHoJyeEI2WHGSXGCePCpRQ1CIzMpVkGlsDxXryqfj/+Qc/A4GF0eLhVNcDAwXM51ajqYiuVX2Aec+X0cb1Ul2/KptSnU2ubvTTP7vjlBb5jPZMZgmPc41EDsasdBoKtAQZ07R2P2I++dqrvBmeVQv7L8wq0/2Oc3fLIy17HJavXWhsJTwBCTmWAOjDGumgOXn7WMR6OhfkD3qNVteiJNBvtpHodpECOveV2/tNb/qNV0kwv7qYHX/ITVgdoFQutIr/aBjWSgTBgWF0QehovowDo7ZnwRfJweBJNejodtRc7cKsTOOHX4MKOMmP+0nTVcKmFMNPenAYf6YQXCBfGvgB7D+jlunq8QzIhDGnGdsRkNOGU6L0pc6NVnNdrq++huez0IzVBHrIeHVraj276j5jI+3bsgXvZ3gN7ObFlhYPE3UTxgigL24LnrwbSX3kFBc4EojrUUdykqTq2c4MmaWQYDewwItOkUj9L1bRKXnRI7x10rCdeNawuQ72jvHL7BIfsOYGAdWrV2Nq3aS2d+mpr2rSZETfpeIXYwA7DShUigbcNzAPm53UDSRUEcLBla+XqW1pRYbxUvDal5bjz7jPnsJFhlyB8yYNSjwZb5e3XXKLV5F4K7BjtPykxxtVQxj6CDTafq66/V/3WRC7pU2yM7J6oqjFe42WFehPmArBq/1iCGH0LYKcib59Hfif3D97Bjsp+sbidM9SV9kGHEPBGKT7XleceLwZyqw3q0cE+njJLAu5iRR8WvanE2Mm9lrsvZY1kIAFdEMp1MiQHQIqGUKlPS+0wlp2k2z1QRBozy4cYQGzyYoQfyQbilSbEmS+Vck0pwVZCkvYy9iLpl4aXiEHVdQkP2wUutlsU+wepkInCN5PwHKmcYEwYwIEPZI/gL8DJOjNlxJ59fLPXvtJTU3+XLJWAfKjT8tVrPHnn1k2lPhrvf+H9nL4LNjphDxM4p3fSiSRAiJjhiDB9/kZbumaJCFJT3auj/R2zJXzU0e7s7jKQd3S1BYQPnMFE2FNfmroqnX2WH/QrdfUhqd/x73hy0vEsQJw5hPshTeXk6ZDzrvtmXDWQQMfq4I7HX7XbtIrYo2dHmzJvmd3wva/YmUce4MQZKT9bf3KPOd5ENqezjj7AVa3f+tM/1YAIIzibZMJfrvqyVpKdDdf2gDdWz8pKQo36IvOFHK5ph6/2yCQDuOP1VBrGygHatHiSVvzPaZUOfCabCOHlfZ+ZKlAyB09WYz9qNAMpifXcuifbYC2ZV9XfCRJ2qTlrBG5OSeOk8TApPuTCVCj1zRIPoiV2dJtVWTT2y84H5hq5s0bvMSEA8IVxs3O7NnbV+Se4R9sbsiG9++k0e18rla0ypAPYE/gDsKdcdsbRilzaTSuMKCMmIbYAAL10L0mPMLdQjj/I/FCXEhIFAs4CijUUgeqY1BUB2gAzQzV13Xe+7J5gL4+bZJ/PWShGsl6hyBeKyL1mPWS0PWHUMDtQ3lYjtHmxgxwCIEAwcvomisBabk9SW+nI2Qy61iPUYrCHAWVbHefaDkqlDaz0cJ/2EOjVlCjRP4w7jMzEpLru3mcMqRzm8bsrzrHzTzhYYUvwYCva+JoND95v6n+EPly9h2u1+86Eqfbh5Jk6s0eCjlR59A/BGEdL/UgARVzTNyiCLzBADhddtUeKlezW7Rp70UTIVlSZ98qjGVAe2tymVTNtpC3ScBDxGPWVu+8zgCtZfpmV240PazQDQV2DNBmAw3GQWJyNQGCydBbSDu6lVQGUEwZWLoSByR88kzLLhxyyemIyBGBpzqD09oSbOXyTPs4I2PGNzhyX1SC9FcsGwqYKcO7BUjZH6SFYhGgG4BeSODrpMFFRB3Fg0FSdJTFbG+4+kO73bU1u1AwY4zFW/+W7F/i5DBFBKWrf6nWF9ovLzpF+e/+0CkvYVClgIv5NDVJ9qUqCI06zoy4B96TIBWgjDhYH7z3IV0kXnTzaCRGuu0+J8S1TfYlmcKfqzh97LU44eG+5Ou8pNURH36zpByuJaKOic2ZCwcJfEaZSNVFZOEZwMNm5P/17LtXLOQ1S7r9+9U3fD7JV6pNs4zznzHZCQvoa1StGclRWv7z9UVdbTZ2/3H528WmyrY32cc5cyKUPScO8bahwQRxEhSv3+ccdpDGgPkiNCdy/o3GxLaYmNRvYq4vfzzruq7rtGgSMBFReARCYqGNthaKW1qAWMqACQWIHdgB2SruxU88zwSVCSSGF0kdz6lpVABI7Axdwo2YZA4Ua4aK6Qpv7MsFrq3eR2AhxEgCDL0wHQiSaVZJIhYTFvsVw1H7ccwOw852ykYK2RfHpw6Micq3y2aW/RYf+4DFJKO5goAzYJF8IN0D+nPFAfffXpkPfWCUf/de0M//qWx52TxRWI6cqnPa5xx3o7zRTrLCekvADMNFwQQ7TK5QTnmf7Ji3EpLKTEnxSIHHLCPwHYzhRRu7z5OmDuoGV1ZNvRqHMOSCJv+vve077VAbbcdpxDl6I4YR6jv6iU6hPJlBPH6d0XBXDEp3CxwozF3xVcdHlZhcIOuMNj6gfyF13QLf2frbI1bIzXapT+jjZM1fmEQoEl7R5m+xSxJ1rKhd2GCc4CGMCVS/RHXDLDnDI3nu4uzvPSB8HX6WH7tGjyqgo4/lREQRY9kIFwIsRoSc9yMODWvJdIxkIuEcdwkDC0AwwNNDH48rHchdFSXy4aOwpimodK1i30X3JeacyEOUZjTqk0TaShhWdRMEbxbw0uBmjPC1WNtd6gDEY41/YXZ4uX89oD/s69pFn0lNvfuyP0MufrfhdtMc3JGVMgPB+tPrRZNJzb6e+u6c2W7VoVN+ef3eSXfXlE3xvRmbdeAG3XhjDdAUIBGAR+Lo3axyF9+aet5jMlTdtQ/XgrCR1jZERaa+LGMoabdzitDlg3lKYIOoceXIJV+zhCECcL4g3ARNRD0Uqngh3Xl5ImPqGOFG2T8iMZ7leeu2VSWCE4AzJFc+8kTLW4iLMeRPvyAuNGF24+wJvaJ8IfwDux/tJhYS3Fp43zXWaHkwe9AQgX8ro1rGNjbnzl1XmhQMO0KfjSoqwRDnVBQLzwNhMFAHO5uAMDw6muuyMo3RK4LHe1+ClovVmjEd9F9lFkAMCgHbKxs5H8MWX359kzRvKq3HTVp0xMlD4auwG8HiZoK2x6Ee4x/s4TWQj9Dxj4EUjP5Ra/Js6MC6XaBWLIBIAz0Xq5cyqGvVVqN+OftdYBuINV6ciAR+lMB9jPvzMJs9coD0h430XNZu9gpTDAPDDoTThxnw8WaewKXaUdkGzka1SkCIUHRTJtpvKJxQ1YaPZzRwYmg86ZU5SykYy+lAEE2BAxQESgGQMYYAwAb3l5vhPxYo6WRI8RM2JKwM5DhqQvEsgSYA8KLeOykNK5rzpWfMW2RKFRhkr1RLEjlUT6XgPIEcMnXiwPD7mI+vYsokty9/gu/ZxUUS6ZpKhzkKnz7vBoOhtVHk+l5UR6hTaEHBA/kE6p+rggYN4NNXkOtvM/i2f/lMVWoXQMopyFOXLS4JQPxXuv2m/uworo5BnlLJyn4Fw8DYh2Lem3Czx5GOVhOcPapLxU+ZI5z5FMc8+VeiYaAfywwrpwh+bCkdrrw6rLLzRULGElQH1B0/s4TlQRKwqAbyz4g1jbEfypv/TuOaCvwyg73hQLG1mGl1DQJHAX9b8+r9f3W7t5TXHGR4Xak8NtjPmCoJCHPcZ2WS9VNe7DYP2RnUpnoz6g3vCxmBYD56M35QggMdlJp7ID+Y7Y/5C98ojt1bqp17auMoYjZfh407OFAhBtC1CRUkk8R4M6I2PPnM17p69OtkXc5faUM1B9jnBVCva7uKtrJ5XNZaB0BkwCEK1nyvjGqoT3AOvueNxl7QJ/eGxddTlGNDYg/CW3DdvuP9Z7wkIYXkQJlb4jqdnkBGTiPg3r6QCKj791seuFmH/gEscqRc2b96q+n1qP7nlEUlG9S1fu7qzggrijAY2sd33/DvWTGnZs4DdAYNukTE8eps6UA6B3fiGmWKwZsJgLD5dUWx/d/cT1kWnvl175+PuTniwTm2L20doG+Eh/vX0m/apNkN1aYMRsLPbCFAxBf/1mfOXKPZPntsFcHVlEtYRXgNuqAtMhhUgbpYBUJsxCQFwPqRfD7v6guM9SGTn1s20qexplxAJMxNUQiFP3qFd5F0gb7vJkuwoe5DiJuXSf7yfC3h5qTrSXgBG2KJpJ2cmx8iofuGJh/qGw7FyPUavDxCD7aGX3/XdzwfJrtKhjdyXkWJTeZEGwrMlFQ2B62KgdjnEG8y9+DUJstwLOPX3K/lBMcHOtX07QoLOyVEfxgkdTYnu65wd1SM0LZOYkxf3xnz8uUc0aK6V7wp5zLGX6AdfOdk92yDaRLEu0b5U/TPz5DZ1YRMtxy+gMnWVsQqjPMBRqA9W90SkwEOQMbx49QY777iD5XDQ3JltaBNl4JyyQZqIP9zzhKI1vO/5ICzccPVXI9sM4UdULjhG5Txl9iK3uxC6Big27v1OpJ6Gcf7s9scknLZ05sHJjESlTtUylbJ2fdVYBkI3MBjY18Hmr/OlZ3/wpXetT+c2dulv75Q/9rEKdNfLJUDCmaAXveup132VwE70z2fM9Z4MAytbt27R5AcgYHHgHaQRBjMBG3FPZMVArCaMtByjCTHHyApxh6CiRxc5tDbae7Aq5cqamScMsaMY4v+dcoTd9+IHtk7eTYRI+O5f7rWLTj7cAxx2lUoEQsukYg/MVHkRPSWd/Zelwz9T6i4IKxI6OmKkewItTlGa9lpZ4EePJHjQ3gN85y/EknMtHhERvFergYHSVU+TuuH2b55n/cVEkHIDfgjRcOEvbtVRoqO176O3vFs6+65cGARrBFx0Z8m2RJh3vJkwpC9ds8GNnqx62BSGEwqbDs8//hCX0vCkWb9xnp+LfbEM2vsrtD1ngEQrtO1u1Cc+FTGQMNQTDPOuX3xDq5huIhwplUYciVXwO7QXHOK8yzX2kuCezGqQvvhInj6oad79dLq3nfqkqVqsHhA6VIRZIdvtXO9lzTC3mwxniCNOE5/NnOeu2c4kdI9+DJtzyW3ekpUu/KCuZcwDrEQJrw8zR7VK03HQGC+V6/m/vN3TMA/WFm73FcBMjQvGmbIXFG8gVwgJzCXiSLXVDnvmNRAR+7o6lXCt/UPx2RqnVLysKhCqyA9DPWPjZbntstkQ9/DFitV2208v8fnvgkZUsOcZ/0AFHiBt+E5Vj7JZyeMIcvyVf7Svabc8tj4YAvulEDCowEbZemZpZfr2hC8UqfoZxdhrZPmp+HiXyBMROlCZVVeoV3X/rtEMhMkN0WWn6PcvPFmDqdAnNUi/+eFoR2pmB/zkolN1uFQHuywVysSl8WwDTAOpe7vmtlxSJvGdMoEBBiEn+iYb7O544nVnIn9UmIYHXxprg2SbYWJg2J+a2i3/i0vPkAF/WSoceqSaKZav6sE7+2ovxWN//rad9fPbbVvheulU59nVN97ncYH69+joy/X1mvzTRVg51Akgwm5Ew6SL1z8mDpL6X7+nQIxX/c1WSC3FKuyKP90tV8iern4hjtWYj4tWCzCPa79+pn3p0BEqQ0EoY+oG1DHA3U+N8e+GDRvZ8P7dfCcueFir+rylEO6KFunPYR7XyScfQhMIAv1Fvfbs09WuV4DIX8g7h1VhvvBzza0PWTOpEfZVdFsO/6E8vLxmzF/mp9J5prvwIzASinQVl5wPuIdNg9XdPmoXG9kmTJtjM7X5k82Haa+sXVjPShWlMYYUziFOf/n3s4qtNdHqiZhuTR0720kxqrq3b+lZT5ag9eWf3VxUDCsI9eF7//qtCzs+RvSUKcSBYOu1f4hxgfdZv65t7N/PvikBoPTggyHjTnKGefC335Jbd0vN6QjXPHPhRPV69YPJzqDE+iSU6Kx12YBgzH5mzuRZIRtbkrfebrz6Ky48MW8RBOJ9mU6oH6idAqR/R8Pcb8NLmI8AAhZ/HJQ2pE8X2fMIZVLHNzG+PWGmUmz1sEHL5BIO4CV3sFzBI0hxpdRVbfqq0QyEjghECd36H799voyhA3xZOn7qnGL9hBcNKp2TtNkt/gxJCUWMS5CpN3zgiICFnawTZy2CNheTnSiXydNOS+QrJdXXlwR266MR0wrndIQKQHD+pLrhwfOL//dw6nZE5EMavimX8YrEztnPr9/0fQ/PcPtjr3myuUtWGH+ZQChsNk/BQVxyUt1oD1ImLqiv3/4jqcTeVhjqN/3VCdPm6Zu/IkDC/vrpR9mXpPoj/EaceUAc2FzHRsJHXmHJL4PjpkI5LRRN3KKcFFJG6iikL0J4NG3SUEyjaLUAHmEOnJt9k3YXP/3WR2KoY32FuE4MAzfgbED9DtWGrKFSgQWGlC3dzrhHvziF1JfbHkQsWOG1kCBC6Bx031FU39KJ1c6o147kSZ/Sx2MmzvZsAvPgYumqMmyDqVVIfFd2VA+NOfUr4AeD+a8y8vHnRR9LZafj/JVMoK/ZxHqAVqescDR69D03M5lfn37ESKl/D/ONez7uymAe1HSZbJYB2OzoNMA7O7rLXEQNjo2OCNJAgbYKvJcKVRKlKvokbNDlZx0tweIAX7GyX6mmHHFc1IqK/aqjDop6vWLveWpehZDm5+fbNddcY7feeqt17drVFinCaa4AkSNI2poNm+31237uAfxQd2SRz8vMkroQFJAlJVI+3hBBn41KhKUkLpu09k7tiiUUB0C0228qzg0SN779lEudCF/+iYLtkQdeOkicLFsjYlhUFZCH9MIRrwT6+1xun3hkbZL/d1ttKoKxDenX06VuiA+TgLxZsg/V/c6Kw5QtT8ax56u0nNNBJFzO/2BjFlI8+0V6pgy+faT2wQAYud0Wrxv5wJCQCMlnhmwZhAMhui5Ej9AjbLaCCbEBijKzSW3gjdDk8+VVRVv5XqhQEeTDM3DD0p5zF/C04gjhtMEeapUBAW+oF6erTn7QliTVJStXuxskahLUFOTJRjAiA7NydFfkFKHKyHKXXjLeaANjhb8gqe7SSlSyMOpdT3XGFjdJwgT7p1BheUfqGc/jkO49+lHtRvInIi62PpgQzBXbxhy5I7Ja9g2wKfyk341nGP+td8ElxBYBi0gIXMeB8c6GPMYtIVGYC5x1w3xiPDCvGbvMtW4Kzsj7qNtKW3lwHwbI6ZKswgCOdh4+qJfPiVA+zaUM1HhLpIpm3lKPJZoHeHNuF72IjnHWkdmqA8IEMdtw8cbeQz6l1SHevszfvAcO2YR6rYIy3qONmJ1kL1yaVxSeKPOdzGv6s0WLFrZmzRr74IMPbL/99qt0fTLzjl/X+BVIaAwdhToLojhYUTOHamdqHBjoTPTlIqQccxkA19Oi/Q7RcIcYsLIgCCHLAl36QEJyzpwQXFMuwf2OVmRZPG7QLZMH+ULoqRMDFldXVgQMTGYpg4zJkS1P6sfgxWees0xwGUXfSz7UB0IP0SbuFJmRlvtxCPnSdiY7zGKUVmjUj/QYTGFk2CXCZPH6eAXjOUUCOOobCDoDHF93PMucgCgpAx6pnDpRDXDi0leWvMg54A2csLuYeF2EpWH/QKgDeMODBY86yozwVbIPyG9XA+Mt4LemSZnUm/HZUv2ODc+7KGPslIlPZbBZaqbQT6Tld28xeJxKSgzEMjMrehjmQ9Gd6BeCCHYPvPuw0TB+EexoA/MAGxW72hEAyQMoi3AzlpibOD6E4albqblVhAjukQ6mAHOijYx5VMHRuMc9va5vJ4CR4SXIfeaWj4+QedSMWvlZqxgInQnQidsJn1E0Frxz6di3PpnihmVcDAu3EVixsw8SBmR80Ln3jDYdBoD5lAa85/siVC6rHQyOpGYAMug2aWlOGq4xfgcgTbzMcD98e756n0lB+ewHoRohbyYMeQPl5qO6gRdwRFRT8gE9qB2COoI8isiiZ1vsA6awWeobysdtsnFDtZMLAXnBYMOqL8rLH5X6QRpwEt7BSEpkgVSWIgjkuc1x5ve8fqVmt9sehPrutgpUsmAIcHw8ViSbbP3r40NjpLIAHsk3G7iApLHHPMD+INnHIRp3uc2DeL6Zc5Fn2eY46Vxo03OKROBCUArVpPxIuNHc0PxyvISHelbboVYwEDqeQ2rwmBihWDjECuKee79oBDBRVkv1wy5jDLc9ZCCcvyLffn7J6a7agshnQlmDOTMt12HgQ0SDt0q4H55xnW2Qcr80cJKemiwham06LW3McbD6wNaLDPhIekrnUuE8eBOcxtvpuVWgPkWlx3HHHpP4E/1WnhXFWUYOyWUZGKhK3IYxVkZxlX4Uzzu9iTXkVslxl2vb42UjtJUYo6pHPE2o1v/Cd41mIBDDFG3VqWCz7Yd/e0Cnx42QQbmT74hGNcNgQ21FSAp8vrtqT8SiVWvlHdTbPTUwkkFQGQBVAVE2VZNXZn2qoo5esypoa1XlE29jVbQvnl/yu3ZiYHeOE1+h75zpXSM7q0YzkDTG1aHspgae0ma+sgDmwc51Vh/sJ2D1sTsHZFl1TZ4lGEgwkGCgOmOgRjOQtCCgpQgGsT9861z3nHpffuFEVY1DR8JO6NhW3Hk5vhVvIXSXCSQYSDCQYCDBQOUwUKMZSGgy+nhizuA+iqspMXE4b4JzJHC2xDuCXafsbyB+ERvf3OAVMki+EwwkGEgwkGCgwhioFQyEVuOlgcsdoTAwjmXaIlhtYODG3oFXRaK2qvBYSV5IMJBgIMFAMQzUGgYCQ3C3T6080oqp8COl6+KLdAnzKDYGkosEAwkGEgxUCgO1hoHQeucTMIiAivSPcON/65tVV+ChubosVgWG4uUGpl0V+daUPErY1uJjsqY0YhfUM8HTLkDyTi6iVjGQnYyrGpU9DKO+wrMEYJMXtqJdAYSFCau8oDbcFeXuzjIcs8Iv7cbGxh4kmCcoj/YOiJmnnu+qelKn6iZDOdMQjtgISPQC1wjsZjztqv6ojeUUUZja2Lr/wTZBNIhzlKdz399XqHHCPhBm4YBh/bWTvVnktrwT8YJb9KQv5ilu1xInpEQE5gzrEtLmTqzDrs6athEWpi7OGWLUSxU3aZXiJhFBoInCsBDfqbV2TytRyc2XO6myjAOECNag2vvmnCSsBneoL5QJrDEujHg5cMpygHKJhADTIPrA8rw8W1Ow3h1aiGbcoU0rd3QhDeOoOjLAcpr4P/c4YSC1rcshZvI6W74q38780Y3p1k166Do/A4QDpzSD0/er6geTHca1QYThuXc+McLaA3/7/ledgfC7NhIE2kTgOpwzPp0yx97UgUqfz1ZAzUUrPG4TpzpydgonHB4uF/LuCgwZJ77gpaoBQk1g0SU63Ou/r77nATi5hrkdobNzcHmvKBNx4q9xRSyoF8aO92NbCdlDbCpizx1/0N5Zg42GtoEnVmbEc/v4i1n23qfT/NwRzntZr/hnxOViAzAx0Q4fMdgDZ8JowFXVj9ZQq+R7RzGQMJAdxWA1fR+J+LB9Btn8xUutY/v2LiHvqqoSAQAgrhXRSmsrOPMQkSOw5DPawHrpb+9RU6PzUOJtfp2z1HVezMk6SuAHXz3Zz72PP6/K36w4goRPnX5884PFsu/UtrUzEG5S/4oQZ1Ye4xWh+mvX3lYsz/N18h+HtLHS9eVOhoASGBoHoN37zBj7Q0q4KJaJLt4Q8wUOGT7Qfvy1U32/FsEScY6pSD09k+Rjl2AgYSC7BM27vhAkt7fGR2drzF6S5y7Mu6oWhHgHOPSK6Lq1EQLxZeXByYScgtlSx7jmF5of23uCzkjnPHSOFvjXs2/pmNMW9ozSccbM7Totb4hClxNmB2JfpaCKsdqYOG2u/UrHGRP3raECABKpYYoO56oMQw8MYLGONL7ryTe8ugO7d/DVwQwdQkb4cm8HSMkAf1dlsxq68f7n7HYdpdBVR84u0qmBnO9ysJgFEZc5CvlBnTO/WmHa35kwTX9/sRdu/okdTMTcjDyTy+qDgYSBVJ++qJqasOyXyEb49ieuvzptAyE8vQeNrGqClao1kxymhQH9ZJ1oOKRvd9/AObBn13S7ahUhcDVRfSfU377hAWvfopHOAC/0M8A5TGtPhckhMjNndR99wDD79T8esx5aFXIezL+eHWPXXHy6qxSrMg5bUDNxVsbDL4+zPJ110UDEvVCnRG7dHJ0lgUG/IuCMUmMG9dcr709SPLn3rJ3UcvNXFliz+lGP0gZfzmRkHN5FzfXMW5848xjcq5N9PnepcTrn6UfspzNtOugsEKm2dL4GRzDf9t+XdcjYeLcVXa/TEvv8pKOOEGif7N3KwG11uUwYSHXpiVg9UEOUmJCaxHECHBf24vf5DSHHaMuJgAHcC0uMJZ42PAt5xZ/5PeVTDJSgeC2KPfULDKDDFaiSY3kBIvaGMxr8Ri34gFBj91ir80s4DnaDjnFt0LiBjR6xp33nvBO0AunuBA/0wchPOXyke2N95Ze3Ws8OrUQkX/WTMQ/fl7M44ljfMeSQF2W+PX6K3fLIy9a6WWM7XafjzV60TMT/08plrgzx5mNFw5n0wEkKWMqhYw+8ONavS22B3m2gd6fNW2x/f/hFP68c5vFdneD5jTOOctyEUP4tdWgbtg/Oz+EY40VLltprH35mYz6abOcdd5ALI4kqy9FdrT6iAzSqVZX+dysDYQIgwqgh2FnPH785fxkoSlPH75W2vwMmwuRk1z3fXGcDiA558wcti+dfsg7RcAlpsuXHvehciKjc2sY8QpvRzc/SCZH/fu4d6y71VP7GzVp9HO4OA0jcrAKBzZt1BovScnDT+SKE85av8fsvjRPjkUEaRlQePv2Fcj7Ig3JmLVxqdzz2iqc+XgLE6UfuF9kmynk/2+OQJ+eOY4yfNnexrwbOPuZAnWDZJf2KtzQbF9GAgtHM0Jn3s4Urznux+g2doXLkAgczhVGJoME43bNPd7vk1COM42EBImivUvnMCeeO6VKTH9UBA8kKpDr0guoQJit0vkBngy/U0Z24gkL4OQCqh85VR6eOcRyiXFjIyYSSDlPMJrMZTMzNKcbB5IMRZQMmbYhIjJ4cIgQtWLu+UEfWrkwf+cnxst11ZCeH+cB0qFc2mkEZ5IfKg3QNlB9EsrYBDGKeAnbOW7LcOrZsIu+hnm77gKFzpBJtB+gviCiS9fEH7m0PvjTO73N+zfK8fOvdtINf78iHjx3hGJvTk298aG/q0DTg/OMPtr4KGroyb22lsqcNjMdxE6faX2W/AL5xxpF+3jcu4mUBq2jGHV5Xn82c70nnLM2zi750mDOfaMwVGcejslCB1nOXc15oqaOuWYVM1woGV2iXcMoqNHm2yzGQMJBdjvKSBTojEPHmbOqxE6ba8+Mm2GRNunnyWkGQ7de1vbGf4thReykU/TAxl1X2N6kTYBB79Olml552pJ9W6LpoZY+75AK5R9726Mu2TMElOymA5BXnHGvd5EIaTh+EUeTlr7d7nnrDpsxZ6JLg9y88yfrr+M63Pv7CnperJue7z5ARmBVFDzGPPVXWiYfs466geNxkMhGIANI3brzPvT3ebQBnHLm/2wBoY2XB39yB97OWq7qWxgCzpk/dpC6BME6eucDvLsvfYGcdN8iZfIlDtpSCtmMboq+ADjoN84PJM23q3EWK3dY+zWz8YSU/2LiIe+y1d0Xu01ecfYwfg0xg0U1aheqxj6Vcs6fOCB2cQ37n46/5a/vu0cdOlvqKI2QRPMoEISqMh3mLiyJjd27XKjr2uJThwDucvNlV423jOuw2W5wBjdJR0VEbEFwq03Nl1jZ5WEkMJAykkoirqtcC81ghg+ddT75uv73r8RJZszFt3KTp9s9n3rS/XHWBB4y8V549AF4qX5VUx8QLwE82EP7twRfCLfu/U0YXE+BIv1HH4Y6R6+Tr0jMDEPtJM+bZxb++I/1e+AEj+lgunPe/8I5d950vq8zDnRBglGVCQw9YZyBZoup4RCoPYETKFsJv0hTVkju5Aeq1unWyr6Byy6FkKphfNmJfMmXGHb3HPhvOb588K5KsSdG1fRtrKm8it19lvBIuYbr7DOpj02bP81t4NSk7h8rixsePCD1eTj4mdAxzfx3TfK7UTESfXqlVLEbqlEYtVKXMb/Jk1bheKqan3/wobT+58tzjrG+3TunVZZmZ6CF9zUptndycAzRQVOzygLHZXsb/uQUFnpQ9TfQVGzUdYZUZROUVmjyvFAYSBlIptFXNS0xUpFmMsfe/8LYzj35d2trMxavk3jjITtDmLIywG6Ur/0TE+97n3rYf/v0B+7JUE3v3724TZywQ4WrtO44j8lxUL4juqKH9bKK8fvbo29NVKUVP9UsUC3VLx7Yt/fbgPl1c/fHQqx/69UUnH2bDB/Z2JrFME/jJMR/ah5/PcrfQH930H2306igj/XBnHvF8mdsQ0gCu9w4XlfiGmCxfXSB12iqX5HPiQHFqHP8dytc98NqlQ5ucsguvhW9nvlppTZ27xJo3qmdrC7caKj5VNWII/MgA+pojBfp37+ieWDxeLQ8t7vt7UPgs72VkU+KSurAaeFVG8qAeu+KcY2xY/56uOqMmpKkooHqbMHWOXf9AZDi/WAIIdhxWrpRXmu0tXg6oJx3eaAHCCjhcZ/sGJ6sLNkR2DyVYtnqNq+dayfsrgeqFgYSB7M7+8Nltzhx+duvDFpjHj792inue4L7Ibl9USF+S6gAvlatuuM/+I++XNs0iIs25J0zUTOAeq5ANm7dZvvTQmpPFIUVTgipitSRVvGqG9O1mP7vkDDtg6AAR2RauxsDYCfG4SSuah+WrD7BJ7UCpFVq3bOqEKhA/imEVEqBSUn7qZaR5bDyfSDVz0e/usj17dHDpl9VDZQE7z4IVa+yHF57oq7IG9etLOo9WUTnnKaJIn3w6Y6G1a17fGQheRBBqiF824HbDhvWlTpQuPwXswKYt9eqwdsv+Xkib7ZuyqD+qxr/c/6wnYUf4CQcN97Jcxeh1yvZ29nvkifMEUv8Dz79tK3UctNWt7+ORUCPR3hVqW359aXMD2TRQWwVgpc3eIHaeZwPeWasdrWZjAABAAElEQVTxOl+2pc7aL2LrCsVA8jWGN2is6TqBaoWBhIHspu7wiSpillewzp55MzqGl5XHRVINffOsY3xlAXPAzgEgLZ951AFuY7j8T/dIym9oqzW5yoIgeWbVGafmf1o2ZeYKfvn1s3xlEQ7dgsEgdY4c3Ncuka0FBtJKxs23JkyxmfL42a9VPxmNxTB4X8QKSOfpVzv6oRWIiE5BfoHsBpFKY0dz5P1ZC5a5esWrDL/LsdJgiaQRE8NRIJpCrC64H57rZxHoQWCGzbQ7PwD2IhwiWIVWFBg/bsdau84eeeVd93Qij6+rj3C4wHAPc6koMGZgjm9IrYnKFPjdZWcY9g+EgVQXl5st+ZAee8kQhToBurVtbs+8M8EuOnm0VJt9PfyLP1Ba2sNqBTseq20gHFONIMQ4BL8JVC8MVHyEVa/61+jaoCZYLunqrmffsUb1ZIBWnKrzjz/IOkmttEHEhQkTmADEhoBzx8qT50uH7qPdz+OrpO0QPGDx6rWSyA9XmIuBKTXF5sh7CkKgyb1lyzbr172T1GcHaQU0ztbIuLp0ZV708k77jAjLXtq1jd0F11mvb6h0ZcoVUiGug1MbHeF7OVPFWHkRAynqH/dyo8PKqBv9jTE9wEZJ4ggIjbUyqTCoXwCcLm5IqZm+9+UT3HBOeyDIFaW4vEM7Js9aaDek9nwcKlUqq1/UkptkM0OwyBXID/XVgJ6d/ZVmsgFNW7BCe2cm+OmhGMuDmzfjnJXPF1pN/Ud2NmCTGBnAimST3KETqH4YqMTIrX6NqIk1cklPhIxNXps2RqE/jtpvaHqyxZkH7XN3UOnJ27RsLtvGgCpjIBEZijBIoD0mNQQ27nrr0qTUPDzDGywABNABYuaUODypmm/qhjpsr4G9bO9BvcskzpUpkbwhcnEc5JpPZd5x3pLBYCqVT4rQ4yF1z1NjvMp9xdzPOmqUj49w4mZF8gYPrGjYEf74a+/bp9MjQ/83zjhahvOOvjIIwkypOMpSIKuZ/gom+YOvnGTX3/ecDZIa8rd3PSG35qbutMGYAmDIs2cts1sefsneFlMEgnqVeon3JlANMZAwkN3QKdAQluvok+ctWZmuwR69u0hia5iVFrunkyYZUnhfRS2tMohNTM6LR0JmtZNJLFS0S5MhUCLlbxaj2RUAQ9sZkNnGipQR3oXwAm4czmAO6fxS9/FIQi0ZAPsWO7VTWYTbZX6jCoOgbpBdihhcL8jlG7hSbtp7yn6FCsiL0wdEOdQvnanuc49/nhDmL6A9/HtXUXL/+K/IFZg9G4fss0ekWhKzBfxNCuAvBp6n51u08CFPmDQRic899iCtlqYp/+nWu2NrdwbBA3CEVGOo9ZasXOMegeOnzlGude2gvfrbp9NmewmtxWx8XsTKS35WDwwkDGR39AMUQ5MLxxs8sAK0letipKbJmJ2pBNzFu6qtPH4CpOZ/uKzEdxEHYZVTFsD0iqWhHbsAWA1RdlUChDDsFq9IvtSCVkd4KCL+8V3VPM+sLcQZgSHe39hN6O+KAPkAeEj9+OZH/fdZcr8+WeFSCEq4WWVglIegpzeGxioDLlFDRYwgwgFpUR8hzPwrZffoLJvbxdoRjpcfeaLaIh32GvAWHwf0DYdDBfUWw4K0AEwENdUeOhPmz1JDXnfv0/bsO5H69Tl985cJN/3gK74Bcdykaf4Id2RsfplMK/O95HrXYyBhILse57ESi+9F8BPaAukphWBCQOrVzV0PHSusxv2EBMEwFyqC7Yz5S9L1h/jFaGL6fvgRCHj45n70O3oL4sau+j5SzYSVRHg3p2+9D3EePqi79nREe0HWKHpAIJrZ8qA7WX0gaQfArhCVT+3KByfgrD7k1v346++rUZv9JYIQQmBXyJMOoJWsPlhNEtUg2Bl4tqGw0NbosDGeg1vcrGEAGLzf1Y7zJ8d8RDK7RG673Tu38zAikfE8ZegWA2G1tVGr1AC0K195kg8rDuqS6Rig4mwfrTau++6FYnYj7LX3P7P3P59pc6WGA3AZHz1yTztJ4VcGSk36r2fG+H0+OouJsZO/LPymEyc/dikGEgayS9GdKizFHCAeTaSyCoCxkAnowIxLpQvPA2FgE1sacqM96eQ16weeOXLjlVfO+dfcZD06t7U10tGncVSJxjQXcVu6Mt9+f8W57u0GkQ0EMtfsIGQQ3j0UD4qVAIA3HV2GZL6dPszsO12j02eTJSE68jduMVacjAEnjBnpPdMsH6SHISzVxk6gR8c29qi8sJ4S4WelEFZqMFlwx1klX6SYHOnvffZNGytGgWcT9qzLzz7WunfSrm+pxNh0CPTt2s7Gjv/CpmunPMyhKM8i5oSxO8BrH0xSxIM8X6VslrPFzy453fehbNkmL7UYq8ddunfXDoqI0MYjKjDeUbkxrlHltZV9j/05ixXGJ+zypwxUq67qS5YgAeXV5jthILupKyAaqBM6pDbyUY05ksZCDKnMasEn0DChBpmvGFUBqpJ/MJGrH9RxKZp6zV+yaoert04MCFiqlQB9kCPdLipXL6DCwT11aD/cU9/1ZwvUJ2u1V6G0zW70E1I6caHaN8eVd4t10yooMJA47qlXvF8DAfeCUh/BgWG+Vmf85QL1NYAmTJvnf6SfPGuRu9SSP2Vi8AZmLVrpf35Rxgf5oYads3il/4Wk39aOdecKNCLWMJgJXme0mZ37cTUY7zL2YShrFNJnnGwljHfyd485ytIF7yZQfTCQMJDd0BdMASYseuV+CjsRYKwmDW69RCrNmHu8YHXEcDZu2qINbJGHTHivqr4pszoBBAepdb8hfe3eX1/uEjXKqMrWM5Ae1De9tZMevX/ERMKT8ltPSlZAzZs28thgvMH+hlekkmF/w/BWvd2LLZ4TRI/Vx6czInXXirWFMhIPsIGKOwaR3Erfxggj9QoqICfsIqpK4hDGDbGhmkgF1oJTAPVuJpMhHQIKh3u9qdhmHNi0RQT4UJ1SSUwz1GADVD4bILfqvjtnaJf8aVKHcUBUpOIqbp8JuOLZJ1/MFiOa63Uiv/2H9PPxDMNgFZE5gEOfhXaiBvN7fIBUGqh2bN9ex4/LXbA0EpKO1VkqMBDat5UNnzE8eeHJx27FQMJAdiv661gX6XeP094OzpVYrHAdL7830XXz7PmIViOpuaiJA1GZMG2O7xtp1aSBrdlQpIferc3YiYUjdaITJ8x3VQLEEPxCtyoDELKeCoQ4RKuQlStX+smDk0RQh/Xr6UQuTWxVf9RkqJwIUBngIDGAQKjDPb6pD1GY82W7AIhj1b51S6tXnyjJkRROfoSO9811pRBUykdAma+AnHMVzBAGAnDY19nHjHJpnue406LCg9kQ6WDk4H6lEmnyJB3EH3fbwEAOGNLfvnfBib76or/cFVx5xtVXgcFRloPq7exJzIN8t+u6sfaMsAq/TyF7Apw6ej9X9cHkYDAJVC8MJAxkN/UHBIjlOnrws47a3xlIn05t7Ff3POXBEmEqGCOR9ki7TXpvDvW5XSe2bdu0yZpK6s2ZgeQ473JMtssxhmpFQeervNwdkWaxQ7A/4vxjR9nPb3vUuijsxm3/fcWGKgYVASRZpUAYIfYYnF+Uuy0GalxY5yzL8w2huPFCGKkHfAwiy2a9R7Xb/+ob7/P2co76DVd/1brKbuA2BaUBsBekfvp15gf0ltDohVqxNqxftEse4o5NQVXz1R0EPwDBHjFWlwa8g9oJxosKLwDjlHDrbeUtBV4Ys7Q9APVcrxUP7Yt24st5xNNEiw9l6vkS74yAoi9KmAK+pMjPR+0/1HHIGNiR/gp1Sb6rFgMJA6lafFYoNyYZKw0kvzPlivnY6x9Yn85t7IJr77TfXHqK7aUzJti9y6FEnD3xmDZ4vaygefvIY2XJimiJz6QqjfAzSYE4kUhXMLwUm+hFUz6dqswfpaUv7X6ZmZXxsLoRDuqDJM354seM2luG6bcVGmWJdvOvczfVb555tG9+bNKogVSSq+11nWnx89sftb4KlDlL4Wp+8JUvidFgPxGAfyisgE/GxLqNRU4SGOfdaSD0l6eUBUXCR1kQCR7s1VGgGZhZ+r3orBbK4V5YGfCYchQMoVTgnWgFsjWqUyolTBCmwh8MJG7bIDtWzhjd3/zkc19J9pOqrItsIOxSp56suDhSgICd/3z6TWvbrKEfKPWtc45zAz95VrcxUCqS/sceJAxkN3Y4k4JJh3T5fRGVRQrb/q7CtuOl8wsRHKCvJtusxTKSKkw3cM7RozxS742p4HmoIVJynD8PH9Cb5tqg1bxhPWulo01TNCo8FqWKfuLd0kIRZQsUUbZ0VlT0Wpw4BOLjhK8oSVp/zy08gWoj0HcQNvY3/Pbyc+w8eYkBTyvI5FvaSX3KocNln2jiKpnnxk6wbjq1EOaBTv/CEw5RnxDGI4tULWSyPwTo2aGlb8LLRjyz3fOXUh9gnTT0EYysZ8dWNm/ZGu+b0t71/s9gVPE8+U1++p/ev1JfIXgYg4wL8uVZcdAKSzdQ4V17x3/9EXaY/to5z4qHEDmcb/O0zkwPwGmE//n9lX6wFEwrGqwlMg7Jk+/diIGEgexG5FM0k44VAuG3b/rhRR4H6ObHXteTaMcyQf+Alto8+NUTDla8qiP8JLs5qR3s7CVg8mYKjkiF7302099ld2+JVYjmI9Ifm8dgHkCQaskr63TVTdxCA4S9AJllY7gNwL6D2gq0G4n86FHD7JE/XWW/u/sJm6QQIHkK085Rt3FYuLJAG/NG2+UKlEloD6T9rIRcmQb7x7zl+bZp+1xfQcTzyvU3fUi/j5k0xzZtiAJRVlV/sJcE2KIlCxF2ndBnGzSpwdFCQkyAt8dP1bntUbiScC98n6WAoZeedoTtr3A9MCZfSWUfjeGV5Hs3YiBhILsR+fGimYCDZSj+0ddO9VPfiHO0QcSa+YeqhNDuqD2QaidNn5t+tX3r5i5VuqDGXRiSLtq2amZ3/uzrfsph6+bNXJJNM5EU02KFcoX2AZypc7M5JAm3UtQdmXQgXFPGfoP7a0fx+QqzXs9VbJGEGJWLUoRJT0ytdq2iUPBEcQ0Q8gnXNf2b9oBr1JDHK4Q6HnXvKRQI4dVhzOyhaCWbAsEEiec1atgAN4inDckxBJAX+GM39+Ej9nR7An2PrcM30YkRlOiY2PslfqqPESLwsvrHTy50NRFjg9AhASrcH3qfOsI0aa9vxFRmfXTIFAZwH19KUwxS9cDl+akbfuDOBqhj58vLitMSSY79hEOwBiqUz0hF6WXjIHitcJj9YgUnF7sCAwkD2RVYzqEMCLEbJ7Wsh9CMGjZQb0V6alQLLolpsrEBbGKMgQzs2dUn7/aYiyMTGQJ+4YmHKAfoTrRDOC71Ul4zGUJPF/MAojK2uVomq2SsNBA+6nagXFABZRFJ0n4VXUMAiZ/EH6QkpEklqXVftDHQ9j37dLVBIoLo9NeIOIJvmAt9ER0BLBtDxua6OELAFXGuDtIpk5w0GfUdOI6MzvRRruD1UvkYzc8++kAfSTvaH+F91FhH7DfEjtQfdQTczqIGZNYweicKAnrMAXs5TtgPwyrLgyUqQdNGjdyZBEHJGYfqHbU9M7eorOSz+mAgYSDVpC8gvKiiIDowkkyAqJOGKKmPvvK+dWjZ2Jbnb3SC1Ug67rBBK7znDEk6egfNxmxMgTTo8V20ZfIjDpYDW1Q/GFs0w7OTtKAKKytNOcXUqMcBa/QbOGwrhtFeeyG4D1OI+lQqST3LjrHizU3jL8ohp3eK51B0FQkmUdleGa9D0fPK/iqqo3IoZXzF8w71AD9stiSqtH46BKbhASl1LzcsxXNPfu8uDCQMZHdhPlYuKoFp8xYrHMQa3+SF2sJpRywNEXI/+GyGXX//M7ZwhXZka9KywujVpYPogi6yQJpYBQpXZpoyEsXei1L5LI/dLf4zl3KLv1E7rgIDJlpAMScpiHagljk0NY0/T5tbv5SVbbrsCtShrPx4VqyOOVYx1IPoyn4IWawQnoXnsdvJz2qOgYSB7OYOcp2yJg/xni75zR12uVxA+0tnzm5efO2RztbIlXPmgqV23wtjjR26rbTiWLNxs51/3MHWUekSH/nd3IkZxSeEMAMhGZcJfjIQUoMvEwZSzTrvtsdeLbdGMI/7fvMtt0f42qMKJctyC08SJBhIMJBgIIWBhIHs9qFA/J/ttmfvbvZtHQpEqJJ3dPBONthbGwuPGbWXnSAPGEJjE+bC4yhlS5zcSzCQYCDBwE7GQMJAdjKCy8se9TFGVnad9+1+hrt/rsjL99APbqjUEgPPHNwkUVf1VvgMAuhh/PbgcpnGkvIKTJ4nGEgwkGCgijCQMJAqQuSOZoOtA7da9nqEHd6ZebJSgXG4lxZGx4R5ZKIouU4wkGBgF2IgYSC7ENnlFeXujNp8hl2DlUnctyo4uiTeKuVhMXmeYCDBwK7CQMJAdhWmcyjHmYSvLKLEgWnk8GqtS8JqS/8F0f6UxHOn1nWxNyirC3psDtTOVteeViUMpPb0Za1qCWHQ2R8DE0VtV2zjWq1qafVtTFbiXl51yyH+kUwQra0RCtgc68JBSlqiTCIphHAvuQgOlapnrB25lBFLnvyMYSBhIDFkJD+rBwaY0LMWLvOzsVHrEQeMc7vTsbyqRzVrfS0a1K+f3i2ea2PpI5xCSgNCu9dTxAWAs0rWrF1rGwo3uZDAXQQHwq9wbgh9z6ZDGERpRB57YT15I1YWYGVs/FQRCVQCAwkDqQTSkld2DgaYwxARiMUL74y3H/z9AS+IoJBfOelQTfToPO2dU3qSaxwD6gJFzP3Cps1dbI21cRViHpH9eKrwm13kEUM4bN89PNpwCOsSUvANkV6k0O3T5y3xCL4rdHwzQRWXK5rvesV4I5QPzKNP1w4eqJHDufgN04EpxZkIYwVGtDJvrY2bNFWbbde7t2IuqxHqQVkwsD7dOnjcOQ7fCjHN4nVOfpeNgYSBlI2f5OluwYCi0sakSs7rhmCUQcF2Sy1rY6EQYFSHMAyOWb7hgecr1MzHrvueH0EsuT79XiD2BAL9rw5Fu+aWh9LPyvrBsb+Edj/h4H08IrGfyBgGAfWsU8+WrV5j519zc1nZlPns68p/xJ79POilKSCpc8Iy30gexjGQMJA4NpLfCQYSDAgDzq7Tx9sO7dPFCjZsstIUU0jzHA0weebC1JG1GUgUsecEdFYlM+cvST8kbPtecltnfxOqKz9cSsfavvbRZE8zbtI0rS6m2fXfvcC+cuJh1hS1VmwlQhgg9kedfsR+9rSODO4rNedGrSoygdURqrUGsrdw/G7B2nW+l2rynCU2jFM/m0RRgBPmkYm58q8TBlI+jpIUuwMDIjoJ7F4MBFvGZ7MX26++caYfvRyppqhXSYUW6Qf16uL2jGLEWEkh9hjMB/ftbldfcKIfoMb5M931R2ReNstC5FdKncVxBf958R179u3xOga4jf3gbw+4Woxw8IGJoc4ifSedJfLDr5xsHCPMyikbRKsqzpvfas+/84nd8sjLnoyz4ffW8dCoyLKp3LLlldwrjoGEgRTHR85Xpela43raXDLLlk9F8yitHCfBcUKsSVdy2he9zSTnf4CqqEdm+6oiz1C/0r4zy4SYldXuUvPhQRx/qYS7og2l1Wl33d+zTzc7ZPgefkgWEn024LafXcIqIZYA7G8XsW/csL6dceT+fkCaH5JFmvSQiwYeURawS3Bu+rr1hfae7BvAG1qVjBzcVwejNXPDOn1APzfRimJvHdZVrEB/I/qgHiraVx8r1xTYA8+/nX563IHDbIBOh8zSxek0yY+yMZAwkLLxU+xpNMRZjqfcD7V0DxOFQYje2A/WSb0VnsUz8TyUjgnARKyXcmMMaUMeDHpmV1EJ8VzK/g0j4D2MjHV1ciB5Uz8kRHePpOxYFkxE6lNPaVFHROnxponaUxmCGfLElhF21tO28rxqYtWq0E9nfqo5OA2uoaHdnGyHtBrqVF7GIV09ZcZJjaH9dAnPQl5cx/FYXr41+TljZ7O8lXCnTrc5/SPVMiEk4CqzreCKFULHNq0ch0j8aYjlwzhlvAzp28PO1PG2b3z8uXVq1dTGfPKFH+fM4VyMoQCk37JdeVEA+fAdIH6thF/MXmgPvDjW2jZraJy7fuR+Q62ZGBZtK63eIavkOzsGEgaSHS8l7kKg6tap65Ngs5bCy1fn+alzHILD4Gsk6apVs6YuIXGsqxMaRncGQJTqpJbanCm+Kn+NFeh0NvY6QPAJ4c5hRHi+kAdEPDa/MnKLvElCMcraiRuMgJm0On+de7tw8hu64k7tWlkLHbEKAYSYh3whuFyjPlghKY0Jihsl6gEkPCf6yjGkj1eCMml/qAPPqDeMg3IXr8jT0aXrPQ0eNh3a6Khb6burkpFQHioQ6kHfLFu52vJ1LvvWLdu8rHatmnu/BG8e0pdFMMAH/V2wbqMhtW7YKP0/bdJ98MJ5LejSyQPmpEf/A1Bc6KDBJe5kGyAZmPH9PMJbafjXI8d9Hc01xivAKY6T5y3PetAaz70eoezwzQOBz1vNNw5Ce+/T6X6Psrt3amf7DOrjRzBnHsbmiZKPnDCQMJCc0ITLYF1fUn/8xSz7SH+zdD7HfBn81uvccpgCxLFbB+l0O7e1Htq3MGroAD9jPJ49k2N9YaFNnbPYz83mbI85i1eIyK724IkNxYQ6iXn0697JdcSjdHQs54JA8LMBd9+dON3dGJGiiOh77IF7i3Hka8n/mU2cNtdmzF9qq3WeSCudjT1E+ucjJHVxLC3HhwZCOmvRMntLkt6nM+Z5erxl2rduoTr0sCP3Hyovlb5OPDMNmI4TpX3mrY9tvs65RsI84eDh0oN3tY8+n2VvSWqcMmehnq3URDbhp41xNvZhIwb7dxRNGHVHxqzP1tgy7kHYVxestY+/mG0Tps7xs1NgXBu1v4CjZHvLFRQVDEfFDuzZxesZb0tm1py9MnbCVJsyd5HNFW5W6ohaGDxMg/7o2bmddWnfRgbYXkaE5IjZZ+aS27X37E7gQKUR6NxqVTIVYwWgzxnHdChMNQgiuZaXUzqKUhnxcd+rXUsXsKhDRYEVzUKNh8BAVq4ttJ+edXxqbhWtZiqab5Jeq/0ECWVjIEi3y1bl273Pvmm/vvOxsl9IPb3x+19xz5FGkvyLiFUde/atT+xiHRyVC3z1pEPsynNPsD1E/MJE5T3mlxYrPsHGK/z7tXf817O79LQjfVI89PI4u+vJN/xe/OPl9z61G//zgt38o4vs3GMOFEFsZO/rlMO/3PesvSgvlkx45u1P7A//fMoe+sN37PiD9o4MnSrcyb2+mZisou5+aoy9K28ZoHfXjvK0WWoX/+Fu27BufWaWun7XGjZpZrf94EI75fAR6RVOToQlS26o3D6ftcD+8cRrducTr2dJUXQLA+7PLj5NbRnubpuZqgv6+u3xU+z39zyZbk/R2yV/wYhv/cnFzrjDSrRkqrLvRGoyrRhTRNlTO4Jj79Hhmfdij31AhGulw95A26oS8JKiEus2bPSxCNNmVdtEf0j3MFigrGp6goyPwJjCbZqKtxSrguk6pRNYUVBopxwxyFd+cabiD3P4qJMaI4zngd3b27QFK+zg4YNcqEqM5zkgsIwkCQMpAzksf5G4NhZutodeGufMo13zRoYEc/i+e2oJ3MslXLJAap8rKXzcpOm2RNLOCqmDIgJVRPCZLHMWL0uVWMeO3n+IJOLOrl6BEG5QOVPnLLJntYmuTdOG9u/n3pGqbK395bsXumEx28mDzcQEgB7tW1qeVFY3PPCcPT92gvXu0t5OPGQfayd1yxoR8pfGTbKpmpDof6+87l/WS6ukTvJC+d4N99kkeb3sP6Sf4XffopnOWhez/Mez71j7pvVtad46O++am+ydu3/lS/5t6JtjZAIm0ksS+buTzIb27eoE+AUxI5jHQVpBQWSR3FkR3K08pVeyJtsL7ZLf3mH/bnCFnXLYCF8ReCMq8AEuUZOx4qANHPcb4LTRI2Qc7SK1YgNXn43R6mrSjPnOaC74+S1+GNfJKrdePVRQekt5oXbkVMiLxNxX6GhhoGnTpnb2ESOsi1ZOPIfYEGr/81mL3L0UiRb1lkvk/kbFPnivYP1GqTHXRtI21Jf67BBsl4tqE53LrmORqxBYzSIszFywxL2ZcNtlFYYnVW8dq9y1YxuveyZTLqsKCA3s8QFCs1mNskp/9f1PXSDo1raZLVy1Tkx/HxeOYFa5ChuMEVbFqIg5ZweAeZyoVXJfrfLj49gfJh8VxkDCQMpCmUZ1XRGZeWIMtz76irVqXF/MY7P99XsXugEOlQxECtgkW8iK1QW2UDttJ8+cb501uXwDnPJwusA3xLZLR/vFpac7YWUC4kqIfztpIFBLRbzOP/5gu+2/L9useYsMYnzkfkNkQBztZbESiUOQNNeKgb383kTp/jfaZWccZecdd5CrktDZF0qaO/Xw/eyWh1+0J8Z85K+zQmkptRbMg/qceMi+1ldnjTRu2NDVcsdrkv3s1kdkqxDRLNhoz8mlcqBUUzAD7DIB+EX+wFyp4z6b/aaowVb76UWn2mnyz++jPBtJes3XJMYD5w6duPi0VmEw4u/f+ICrlPaSKggJPldKDGGAoM+Tauz6fz/jzKNRg7p2xMihbmjFKwdVE1IyaqzzhM8n3/jQrlPaVk3q2+XX3ycC0tGGy4Vzm/TrMG/a8ObHXzjzaN64gX3p8JH2tS+N1uqiq7Vq0dRXW+AeYrRkZZ6HWkE1x7PMPnFklPPhwok2woH/Wx5+yZkZuMzo3nJyKf4YG1q+7Danqe4XnnioM1hsNJVVEQZCPaxvF/vd3U8ULyx2dZb69QwZvEePHOx7R7BvhXdjydI/aSd1XbN2g6s4w6qCMbBG9rLJMxfYn+5/wbYUbvR3fn/Fub5iAGeOoApwbObgAqma//38WOveroUtWFng86mr5l6wx6QrlvyoMAYqxUCYwADfDBS+w70K16Aav0DbGNzoxBcuW+k1vfTUI+zso0dZRxmYMRKHsQzh7SmpH4I5UjtbCzdvdgIWcBQ1c7ufKIg7Y0sZ3CH+5B9wh5oAaa6X/vA2ueAXt/pr98n18KRD9/WwDlGZsJsIwi8YxYIV+arbAfa9C05yvT8Mibyxd7Bk37BpkzOQLm2aS8KbJElvs/3kolPs0tOPcoN5SI+L5VH7D3Mj/P/9+nYvCCn+/04d7Ub+rduLb9YKdWgjhlSwYY1957zj7PKzj3EcQRQYLm1aNnOmiwF64fLVNmPOAhGLNb7buW+3TinGJDVIQGhoYPwb+qF/9MsmtY06wRDbaFW1z+CBdu03znKXTkYnakPKbapNYvvq9MauYvYQtr9qhWYb8rUfYLwNEnOAuZEfDgczUpvc1urI4AtOOFQMabCfN+/qQzWS0I5I9jAnbDkwbVaoRSrKeGXL+60M9R/ihmqlKqGnDMQIIQ3EoHzjROignAvhhchjjlc+nRWpkvbo3cX7iRAgk7UKI03j+nXtv69/4H+//PoZdvEpR8gJJPKUAq9ZQR1Tv159Wygb4FHf/J0N6NnJVWDL8tbbunXr0q8cq9M3EYawXWHLcoeS0vJMv1X0g/IZ06zq5yxcat3aaVUmBxP2fjDXKqt2LCqhZvwK9CV8U+tS+6aCTSrBQOKFkBfXFBYvMPwO3w0aNJAEhedP1VXMM9uNHxChaBrJ8C01RQCW6o1FkJFenLA4USMt7p1yKVQIByRaVEuZkikEDZUSjAN1AOof/8ODKFUA76ADxuf9/OMOdOl00vR5rhbrJQYFhLqlXvEvVgrARSeP9uCDhcofoI8or+62Oq7WYdfuE5LGu0vlVSgT2Kmj93PmgaQeNmIx6fAqw3jeskULyy8o0MpioZjoKncUUKYMDM8//rF4Zb57t5x77EFOZFH9oX+mbRBvmOUQEd6LtZr61p//aS21osOt8uxjRlmfZh2diJB1qaCHjEdWH3MXL7f/vvqeJ10tl8yLxdz20soDXTw4BK8A1aRtrPRwC3UGovtvKc7Tl084RMwanEa2HKRfAAbeVvsNAFeZ6JtFVypHbwvPYMxA5pzxm7l8KE8M/N8Ss8WLjI51KTtVUlEWepC+x28gjqjoOW0mMOEBUhvC2LyLykRolFPJT8153YRoo+7BZsTqFCbMuGa1BuMbP3W21KxvuVNI/67t7Df/eFw4aeThR9x7T+Mu2+ontAaBBpg+b6l/h4+ubZvbdjG/jm1bWnOpVBsoTlUE4c2QsvRv+gQV52o5QBCSBVi4cq3skoe4Q0Xm3Cw9p5r/BPoMhPmd2SJwxV+g5+F55nW4H/+uj/QUh8xC4plQCOn5W79+va1YscJWrVplCxYssGnTIiPqWkXXrA3ABGK4MilZDQANRAxf1GA8YuQQl2qZpPyRMuyZIB3vlXZWOb709fUOTAZCnS8pFvdZmNRm2QeEYu/ITVrBgO8AcxYtF0Hv4+/5kj8QyFSCxavX2cF7D3SpOqpBlA+PaQvvsApAJYMygtXKFSJceI65b3+M0PCTovEuOnBoX5+ABSKu2HV8BUB++suEzSrjBBnb+3fv7EyLfCgbYBzRHib1gXsNciaHajBfwfoWLF2l6w7Ol6LUZX+S5zIxq1c/+MwTHiUV3/5D+ntZlBH6JMpFJEz4pv24hZ4v1d6DsmeN+2y2zVbEXxgI77CBDSYDwJzemTDFiXtLedcxBqg/RMfHv76pA9ehff5iBT54D8Y+cnA/ty2FPqtAFqUmZQ5TZ9pV0fpF/UR/mZ186AiLhIEWyoc9ReTG33ZXAWLjOlSbC3/zj8e8L3p3bG0/veVBF34O1LOi3i9eVXKAMXfV2Lv9mks8b+qKHXG2vN4eeuUDqRLz7P7n3/G/6666wL6sFVVrqQvLU48VL8k8WOO9z79rrZs2sLz1mzVHBnlfb6/lca/A56YUgx47dqxW0lusbdu21r59e7ft+RjROKG/w18m7jJ5A+mA8M1v0bLi2/8puFBGLAqnUH6vXLnSFi1aZIsXL7Zly5Y50+B73rx59v7771uBJFQATrdmTWSA9Bs1/YMJKJwN0tJ99Ig9pTL5wr6Qq+tPb37Q3VX3FUGHWCKpIY1iywBgDBGqSyIA6Rl1CcZfPKAgVouk0skTgd4onKtILxOCl5e/XuqZRrZ6XaHrhmFSUX8VMZZ4Cbj/4hpb4qkqQ7/iNYN6KkB/7cLlOs6QwjOIBDaENpq0AVg1Ub+yADdZJMbS0oGX9q2b+xnwMBAAFeH+Q/tHRM/vlPxwfCpTCCMSMIQmAAxw7MSpap/2lwhHmbinyhC/dbIPFWh/CLB18ybf48FvcMMO5+GDenNpfTu3sZ/f8ZhHjT1QTBl1FSpL8IeqkG/62CdYalL5i5X4oK7BkFyJ13faK/Qf6lhwRzsRHNhXEwfG4n5yvvjZJafbuE9npXGLxA8um0gAyUbwIUDc76JYWF/70uGepRM8BCrZmLDfPCcV42/vetw6t25qP1JUZhj8ucce6KvPiHFn9nJRzciLuuF08q6cWmzbZrWhvrVt09rHWXCIiBPCordrxy9wsGHDBtcMXXnllda4cWM7+OCDrVcv2Qc7SEXerp117NjROnfubF27dnXG0lBqeGg43420kszkDQEz5B2g/sKFC13vuHGjJpcYAasJGMP8+fPT35MnT3ZGEl7K/Iaz8e5mSc21CcJAZ0PdDxRvZ8wnM6xA+vH3RPj5A/Yb3McG9ermuneMt4SfxoAOxCVUkA5BRuq9XYZkDKe5QEftwgWwqUTqjdLfai7vG+/0ov5NJY4mG0Q0PijwpCGM9WZN5szpGLKINiVG2TDpywPUDpH6BOabmSvEOlpKd0lJ++SH9xhEinMdcEEtTXIlLXluEQNZor0zQPsWTezNT6bqb4pfl/fRXvjco0cHmzJ/uYfzJn1EcOrI7jNUbtPH2c2pvrnrqTeMP7zMcAHmD7UeTBJ7F/jLhrvy6hB/TnswKBe1OVv7K3YvrJTi5VTmdzAyh17M7E/wxioKteSV5xxlf773GS9mojye2DzatHG0oiutbAQXQvQHQDhoq1UywRV7COeU+xsxEVRal1//gK/Whvbr7rbHEgM2ZJL6Jq8VUl+Nk2AB5G/cYt85bZTmZutShZvUq7XqC9V2s2bNnMa/9tprWdsGcxk8eLD16NHD/3r27Gn8devWzVq21KZmPccjsXnz5tZCKu1griCz+ldddZVNmjTJpk+PdmlmLUE3yYiKwKEi7r7FORyqrNWrV/skLO3d2nD/EBmh37rzGt8095hsCGwkBD78fLb/3f+CXFQFp40eaRccf4gdJjdfpNWtLJU1/2EeeO/ccP9zds/TY1yyWiKjIR5I+8ve0aVDa1/JYP+AAKPLH6s4QI+//qHn66sE5RMms9/M+IiToeKPYgQoloETBE20bJD9braUxe/hlZZJaIqniFYDqMcC4MEWCTWUSl3LBggkLs9AVP3y3wk5rlgjVZz+AFZ8YJT6whxRceGAwIrjWRm2g3F7rryt+HthXKRLx633cgXvO1V9zaov26rHCyjng3LZ5LlYK9CqWM1QHEQdRwXsFTsK5fUjzxmXrMhGirECzRrKO27xSmPfFMS6PMgsg35gdUcb8OJ7VsEPp86ar2X9VpsiO9wgBWvMfCdbGaT5TN6QGPh7d2ptc5bmufcVK+6KuAJny7um3YNGN2nSxJkA3/V1UBjjDYEfp4V8bTz+5JNP/C9b2wYO1Cp86FDr27ev9e7d21cuMJNWrVpZ/ccee8zf4QaZp2MzqQMYjPyhzmKFgtoqGGuzFVSb78E00VcPkPR5ljyd2NdAbJ3xU+bYB9p1PSelUnlSXkH83f7TS+wsGYcbieF6uAsRxg8nz3TmMaBbO9k+ttitP77YDpDqBqmLECMNNRHZWIZBFXUR0l1gIDuG2yJ2UPQrlWPutDenKuAlpiGTIuzZX2GVgSdPAFQKarYgt8qQlHeA5fkb3O7ydXmSoUYEZxGBIa/M1ob8o7Ed7B/kwzvORLTaxIPpUAkA3zn/BHfhRt3IHpGxEyM733Ktfn55+6Pqz1n2+2+da/16yItIRC8XwkZZAKtJBIWJyvvntz0q43R0aBPzrbKAkLJIQsplwsU35L3EiYIQiorUq6JlU188mvBMA2jHYh0UtU70ojJAXVGq04/sMdlHqrBPpszxrPCSw0nABTPaVaJ/IwbKShvHCSIrABw2xR4nmD0491VPNOD8eW3/oI9QZ/EXB2g9qio0SGFhAP5Jzx+0nnewbwcbd/x9ftdv06aNcyLsHXl5eT7gGHRkkEBxDOD2h70DN8BhA7a7e+Fa6dXZqDdx6lx75JV37QXpfxtrAH/zj/+0feQ+yvKeQcsg/vDzmZ7h9IUr7Y/fPs8Ng+yrwLAOur3ThPv/3955AEhdXH986OU4epcmKCgiiIqCDSsaFbuxJBo1mpjEJKaaGP+JJppeTNSYqDGW2GM0ligW7CKIYkNQQA6Qo3c4muX//bzfzt5v93b39gre7jEP9va3v9/8pryZee/NmzfvARBYIrVtc0insXUskChzTH4IfKYzCMxbJPYl2iT1gBuYaNNXd6qZ2OAIQtlFrlY8cH2wnUFoW8UgwKfJ9E09IfwemDw+aBHm1FgeoTrEnJQNXlzPPCnz5+ukguzVoUQrlNfkoXaI+7KCEpnHAdUtf3RGKZHUUfnUJ2C2ysqgGlTWW5GUhcADsHJGlUof1RUQ2rDm8mBqXE+XIE9ZkE3ZqIrZR+FA7qqKLToHtbcxpEgt53Pcvr9hEKxO+MTBmLhwD/5hMiwuYDB+f4T7rF7QPDXnjwfPffzv8B1hwDNTjx8mC2MXiRfnh1jv4BYaHTmmoC8nJFUOifmzBuvlAuI9WRwZNG9hVlz4vkKiIl8+HrjGDBc/UsUGsyQlIoywt5LpDALzfrXUNtM/qGwb50CwzmIFEMdDvO1enKEvwBvveJghVyYcYsQoAPVHZC3kn6Z9w6hZ6eg/6Xx55E/e1gv6Y+dXdM/08jr7AZNCL08AIq5/+Oc7Le3EV9+RqmVv83/2iVZfyjCtwOw/oYW7DtzB/VKrGKRp6mAVy/5Kzie0hfYPVZ6sYo3W1qA+8czjYz5+P/3axqra/b7C1AJ4uR29o3AknKVDvnn69yD2HNz0gEUcwpghKke7EAzwAceKcWCvzmIgK9VvfW2+pp+j8nmH70oM0E8wFz659rVRhaWcA/EdXJlVuAIDEDfIAhum4IhrJg4rNfvoHnsXqEQwE/SqjpXaxOM5LyClbUlIaR21NwIXN3wrnyQRsxkf0SBOsz+sE9vd27dxS6WmKRZ45tXpdhocR4xxtY7hzXD2qZ0cRx3RoU0LVyo9KoQZwkBEuhx0wRBDPhB1dPwjFDN7Xvli99rMMqmTZku92FOSb2Sym85EPNOgL1roEBvnU+KrD/L0TMyf/aBfIOqki7omMvfdc5eBrpU2FjdLTTNfJsgEKmJM1ARIz9gYrjYMF1NKdH1NssiY1uqhP4w3P1YzJsxxkz7goB8rSFYUUZ6wuEoAn5TB/gfeE/CY4AHrLTN9jziiv22rEvJOziNdp+YaMXFwwXhgFfGinIV690GooDiDFTdOSWauC9rL6mO1Ig5yyBT4YNFKO081dMc+tvK1m+FPrTEQp1UIiqgbA1SDgSUr1thBPvYnmDAMUiYCyOTDYEdlw2qiPGEdRJYlWp2YakY8BD1xz4R76tXyHMvqgonCewx8gHxQhXygiXOzrH+AVpowxQL9uneQB9tF2reZrFVGhXAV1Z3WwTDBAQ7ybn/sBRt4azZudWdpvwHPv0iN4DQ3RMwbyRQG8qXxB8m2f4tZ6fz130+at9UIh5wuT82J+5TfUktxCEy5DsJ5vNOHeFVmFVOhPqSPcTlPf5ON9bMYDhIXJA9/WDAPnmGSXBcz3MhiKiL21KeuH59fauvz/wXeYBoYfGBSCy7AG7iIQzO5W2cFjhHAvU9IdSv/a4Mk7QMHy9uyhZ9NO2uxTOrNxcvXaJwn5pGFHYjnGhmbYGDBHiMqYULgUk4reW6AgYBr32+pb0a/6Cvm63UPPicLvdZ2c/Tug82DgJ39yPRSuJc3Bvz49C+krED8zfDNKjmSdCVkmeXVs1Pf1UnmfWQb38NOyLJEZ2IBqJsgPrgH+df/XnY7yOxw4cr1Zs0D0YHgEbZzL9nM36bDUZwC/+d/ZYnVpZN8Yu1kZxDIh7MgM8vK3Z2y6MJ6hMnLHgsQsRi7rNOfBK/KOw/wkC+sUwQ54Ne3PGTnS47VQTRWF2zmcgZjhpgmXnPxOdWnq/wSLV9n52kwILDVQIxGxUuNX0MgkHwhKocrxCl+wiZq1bNeZf9AaiXCpY6QZRtnDLz+HNXYCjmFhIDB4FE7cZjzknOON4kWgjZf/YdXYw5j4gUAtSRnP9q1lZ8yEUtWC6wo8fx7h/qwS7vW8ou2SU41d7EDmjDAYgeIA2bb66UTv+nBiVJffGTuZ7A6w7QWR5vggnQwDs4wsc/wK3lsHtynmxwVLpNBwx520BbBKOpThCytiPQOqwKs2046dJQ5MyS4FIdbSQtjRm3IaoZDs/999lULPTu0fw/37rwl7nc6TMi+FMzNOHcashkjrDqx6MOx5sebNrr1HzXV5n5HC62AAME8ZPwEqD8MBAaSDZeMSAabpCj0sA9oQPPpL3flY0cOsUNWpVphMJixeX9VlliYeXaT1APzwG04btgh/RHB06luSUKcuJ6/eJlJ3Kde8mfFcj7EJCuqgXPA+2W2Wy6HjJhFsn/yypsz7SAhEyATxO9HG5e5J0g8PaujbPwhan4THUxs7lrLUeGmrXKHknXyRWWyH3SUnDI+8Nzr7tLr7tFp7vfU5kpvvPepbcTXMKd2Yh7X/+jLZmQQqflS612lnrHGQwQ4tY9E+tMLTnZLZWzwjty9zJhV5s6S/7DDdZ4D78IQJ9LiUgWcvvH+fPOiS1acSIeoRRD51vrfS9PkyXia3TpSG+fDdurjunVsb6sR9hbmibDd/fRkt0HEc4sIWau2pebmA9NQnjcW4sR4hdneKPf4uPoHn6gkOQ+FMAAhZqw+JGZAHBjMZGEejPdL5FsNhuP3szyGGWes8v4t/PHBVBoLRGKrEFaAocXzWdpLuf2xyRqXW815KcwDi7IT5HIHgQCmlBHP6kuib67duMFNSgSO2iSV6Flj9zQhJhPTSXR++KoDBgIDyYY8I5ZYskQO9HwyCOBtsVPQ/r7/XibPtZfpZO4548faQTMmEpIRBGawbNj/8v2z3XlX3eQWJVyG/+3+qod7Dhy5iw4uHmteSe9InC9BgvcQTUoI7qc26fx93IJXt2Jgknowy5lUuu0f2XyDsC9WPWEegLe0SSZKXkQ1WrBstTtabrcPk1fc86+8wdzK41o+HfCI+qfvnu2O1+YzPreqEBu9EK8nKzyrJsUk6otyCamfg303/eQCI3b/SKj9cHHi3Zykl+1/7669BxiuLcmFNU5NE/MbFybAhFfeso9Pn/6NO/8faQUzbFA/k4ozErX0l4rgNyhmA55Dkh6qwydnLM47bqw55YQxRDhNdpV+I4s1SfGCwBkNPrmgSau27lfnH2MOQmFKWZmHz0Rj4w1ZQ976yPP+jjts32FmOenHWPJBuKgXDAQGkgWN0Ck/8I+VJ9y+PbrIcuhDM+XEjTeqkLVyR91E7t47tyuxDfRBsgIaI3tzVCCRrXrEgHwRSNWYmz70++8ogNOb5s6kTGoANmFRie2k8wTDRNgwG91RKx0mIo722D8YPrifMSJPQ3nGpNxFUQi/ffpRRkxxH2F7Koh7xgCjkhM0134gJX71pEOtbQR/sgvSe8pMKr2AdM6G5bGKKbKTXJ+TL5uj1QHtPubAkW6HHp3dkyLC5glV6iEYWx85ooTg0r69dKYm3dVFvJ6svvDVhRqlv0730xeZADzADK648BQ72Df5nVlu7odLdfBvmVSCCmsrBo4PJXx+0YcDlBehTNlwj1QnMitWGnBBEDDOe7DSWCCTXaRsohFiPooTQdRi4IDyOChKfqA5W90y1beQ7zGeEBroQ3xg4VSSaJk40cSDMrgg/gnqQyJcYjTCOOV8FG59OPznVXm+L5PfuhirvZGH/vQDUwOSJzhmr8M7sWQFy2HOAcrX5pJWr5y7orzq1E/UnbFA/b9+yhHmx40zWHvI5B5BYXvxvPtZjy/6N8vU/GyqglqkVF5Z2VCdeP1l5knU2+J/NjWovhRv0cP5BQ4oMZEwRTWTQL0OoWUjGFffRpSEUU6gR1uwlfl7Mg0jgSix2UfM7a1aarNxyCY7k5ABz0SEMGEJA8RVOpU5Rld+0hKzHYKWC2ySJSgejKma5IlJqYooYbwO5ENbcRdx8e9ucf/R6Xzgvt9cbHpwJjSrCAgE+nLqhb8pXJigsog2e9k4z1wDcGWqLX2D/3RcUpYH6mKrCQ1lVnor12wQXtea6opnGCZQNpZBrHhoRzx/8qEefMA3DIVzO8SHpw0ff6z81dYOUlWxLwKBZdxaH/Gur0gj+gYX4I49hzUyOlgpdzMVOgvDbzayGa+o98Brc7l0BwuYfWbrT1Bj80iIx9HoZj+PpP71K0wMF1AHcigRpkE/VTdOMqHc5gNDVuMmu9o105uFcQ+8c/5ilTQKP7v+Xnfzw8+5Hh1LLLhbYdSwshZhBVKJi6xXEYGOSBiSKIcJ2dBLUg4NVjrdiA+77rrONJEgNHpqh9XQJeNPCena7uuBTRYRMC9taQ5rszc6kEX+2QDiCeRK49+lXmwg1yi9EYj886cd1AXGyiltjwvDkfCDmSyY8Pd93eLf4CTfdpGPxxnEDUbMaqFq/0T1QkChI+LlR3WLGBp5ENMCv15KFFVL6VlFcYqe9nl3GImn8ao3ims/lhASummzm/2PJC5oYWK8YtnEngnfcXxmQoJ3+QLO2mge9dM86k8neSSm41gMCaguX0sU++PHjfWY8gyw7TBQKwZCh3IqkWPweG4E8MKLXXBjhLj0i/Qk6pGxmeDF5oInOhlSRXMlId1VyQcpOHXC+ImcIavkrXzSJBPrYlunt+YbgRFxSRsSSRwlqUa8ZqnXNamnJzLWPYTdzUA4fBrrJU+0YkX65+QBkzA/ZrHndpnoY582/XFj+00fmGCUAZ8R7U+M6Bxj3uMkjnITlqqM/yilx63/9u/n+12TcZNvnsWcDj+G0GtcUuFdncOB9YWj5nRSrsxgEHhixE8WlSA9S1Uqgwde78odBKMS8WqHYkZ4rrrbJMhjsuTKwz+r7QTx7xfKdwptif3IRqi3db3ro9z67Odt3d5tnX994DO9jgG/6RjZdr9xlgjgVbdjx44m9KMig+7DTPB3hTsTaHo28LQqnVc05wYPYQ4UAKNgZcE9MqdwfGTxyQSkGzlypFu2TBuPCxZsF0wkEx6213sQAkx928p1SQUnsqV3DhAwEDBQGBiAUeBFlzAdMAqc4mYC/F0RbAo+AE9gpeLT51qxNMfnO4mJLggH8twqXsiuu+7qBg0aZMFHCEZCIBKCkPDhfQr49a9/7f75z39asJIlS1JDVMbzCteNCwMMtnk6CwDzALy7lsbVytCagIHiwgDaIBYErCyuvvpqi/dB7Cc+BAaERiP08z179mw3Y8YMly2aLIyFRQVzHQ0TGii++VhAKVBDolGjRhmjILAILn7x9863Zxro0jhZTeXgbH5ZA6eCgwGRuwe7DH8aMwa00ECPzWn5r52i2BgH7WXnB3aSeWyAgIGAgYbHAKsJoFevXm7AgAH2gQl4BsCeNVsQnpkQnpy9bBzsok2CsUydOtUYTbbWNJ8wYYIRf4JFEW0KHRmMAwZRHcCBYCasYKgUQAUDNH4MoBe3E/Y6HXzKYaNtzxrlFZZK3A8QMBAwUBgYQEMEeHrthXy/v92jR6Vna9JBy2EkfNBIEXSK1QmMpqyszD5z5sxxr7zyims+btw43qkC1TECVh9+BQIT8ddVMgo3GjUGkBc+woSzUbcyNC5goHgx4Gmz/66OtrN4QPPEJw68h0oMjROLBj7N4UoefAF8+2v/LHznxgAyd7xjDIe5X2k0TwuReaT3Rzqy8z1gxorKllfxDJgf8d/humAwEJ+DVKoudIwxpEnN3xSoaZ6oerNBvuMw2/u1uZ9P/T0e/TflsFBAU8XHg86UZXbS5xOE7/wwwEDgtDKdA9I5sRtHfn65hFT1hQE87BLTIhPk6h8Yhp/v6kqdZCYymy4SHIN3UdFBFLiV72TMTkIy1TC6R96JYrMnyvEknXDlW98cWdb5kSfKmfBRW2JKn5Af7+PHy/dJXfuK/JrG8qMQcIrQ7curDiGModaJvYhMafGcQD0LDTwO/Tf18/X039zLPMN4EiBvDDBIcMewQB5Mt0jfSMwJ3F/jQiOO7LwzDAnrhAH6o2LjFoUEXpt0wAeJgRzTH+aGQ6erW+iEffrcxX0GHwQrJjeuazbLH5dfqXPKmTDEGA/goQBBAcKcC3gH4aImQD05XV/b/SRPuOIEgDbQpoYAmweqFHFFmgoXEOd43XhuUSBrSEt5D/zCOOindRs2Gd5oI6focZtDX4HL6hwqgjOEDgQGxsVmWaVWbNqqMSSLI40f6s6cJk/SUF/6J96OOG7Jj3fnL15ieKfNfhzCiKgfXhMIC0F5hQ6+nf6b+gYGUsdeYwCjM8Qx3LfkE+qFaTMVYW6Au/WKC+XosHfkL4uRFOAzwYDvj/fmlbsv/vSv5j7eF1yiM04bpL8dL+eYV3//S3J30smIQHxCrFpbYa7fcfC3XG7icfqHa3NiojeT48xSxfvGgSBuaAbKnXwvEQCTSjUO0tcL0ASIDj61Zs5daAQuIiLJBY1Jsumjg/zwhrurouiVyt0H3g/S0/g2ZfpmuOGgKvRXBwAALztJREFUE8+0eGg2n1IidDt072yuZbxPqkzvbot74BciT9+sq9ho+CS2CjilrRD29nLOaI4PRVS5V117wS1pIMJLFFeewFNlctpZJk/ZBMICsR3kRJO49jiFxFEpoYgpKxOQ11bhbP6KFVY/QjTgMLVcHqbxi/aRwgfgmgeCTzjlfj3p/+5iTnL0KMacXl9jbLJYZQyde/n1bsr0OXLf0lrOKCvPYdDe23/xDcunWk/DmSpdAPcCA6mHTmDwMDA3Jlyl4yAx20Cth+JCFtVgwIiBJM5lq9enpIR5APMXr4xWFIlZDzGCsDOJH35+qvv5zQ+5xUuXW9pcf848aj/FFdnfPDAjmVYhfCKEzUTgPpB34CMv+lWurKo8a9W2vZt046Wu44693ceSrCXmVkmT6YYRLhHrd2bPdWO/8vOUJD+W+/nvKkyAeUGG6OWZZ0omNfhhDFSS+goR0VdFQBfLeeh8nRma9l6Ze3Ly2yk5HShX+vfKEWd7Obv8BBcnOermmQcrwKnvzlEQtxfczQ89l5Jf+o+vyUPvmYp+Sfjg9HZ7Yj9LTOjyG+53DymejZRV6Vmk/MZL8AUnHOLGy3ydoGnpK0VfR+5PeW+BveuZRwtWL7q/CevVDMwnpaAC/xEYSD10kA0WDXgfwhWvremDtB6KCVnUAAMwhJ6d2rn5GyvcEEnyRx+wh3lM3rzlI9dHbtjbaSVhaikIFRKvJjWS5FsKTBVnHjhl7K0PwYxQ/yDl4kUZhdSdj79sn5t/dqE7fuzeUkUgPVeuLqguY4O67NC9i6QMWa00b+HmLVnFo5wwanBvSe1VVWy5XvLMY9mqde52EVWASIGoWuYuXmWqu1zv1/sz4RWV0JwPl7hTLrm6SvatpULs3a2jxS1Hss8XPCt9cdp7bvx3fmuvdS5p5VZu2Ky+6iRHp10M7+8vWGLMq4ueXa+Qx48rvMCNl57vRg/fuQrBZ1WGl+2Hnpsaq0YTN3THXnJd39ZUmqxK3p7zoT1ftHip++Ff7lSQsnnux+eeYCsd79CTBNQR55GE9r3mu2daNEs8DBMqmHgllBUF0vKtsWyL7k9gIPXQZX4IMIAAdLER6bCf4U8DYADCzQT+SBe4Bz993P6mKkBNgftxVCqmv1Y60vIHQk+sdVRc+yhaHuoP4od0JSqhVhJIi0tXrbGQqbeJCLw1a4Fr0fRTd94Vf3MTrv2xBaTy7vfJ0gP5b5AufbXUSai+fvutMy1f9k/SAcGDcjormiIhApJMLj1hht/+3edef1chaZ9RnJrW7v2FKxR+t5WlFj1vECDsQTrsKPVfiVzCz1sYea34GA/JeYBnkrNttXCfvdG7c6nb9GkT99vzT3YHjdzV+pt0BEObqOBilyvkbv/uHRUnZon7w78ecX9UMDNUUHGCT3oIPEHFRg3dUSqvnha+uo/UfrjvB7e49n9/3iKLWgl+B+/QVQLESzZmvvOFY4zRcIaCtHzoO7x3n6GVDxoJVqnEx/njHf+zepuWoqE6JQ9c55MkMJAEliIiEs0w/hpTYCDkg8UCTcOkiAODensC31wYAxupUYyJj2xyx3Fjk10cBIn/pEP3cWd+7gDFuii1jVKLsSLp1AMMZncFxdptYF/3zd/dqoNWaxRdcr2bMOlNt+cuO1oZppbwhSdebCkGBEBQCKw0XHHbqwtyRB2rqMUS+aV/kRYmN1ME6pp7HrfHew8bbGrVVxIhXtPf+ax+s3rbXe09Yp/dFJysh+sm1/DEVaFel0iKj6ASx9nqZfNSeAW/z0+b4V6bMdft2LOTra7uuuqb7nP772Eb0n4NSF/tqoBrfJ//ixvcLn27W9jp04+cY8GwNBCsKPqfPAmQdd0l51pIXsYLqxL63xMBcExAMYJnIVT8+pb/ukG9OrvfK+wvK1CiY2ZigwS2+rR5FJeGeDRJqL7JyaSFehFrTWFW0Qz04nRQnZ0v3uNEgtalE9B43ljdJE32VB7PkCBMt6kC8y81Ox6tGXGinkdbqmtDemm+DNqKlO3bTD5MEr79vfR3G+tvcIJrdtpvq45KmlDZZCUCL2yQA6wk6Cpih+AdPj7mGCvE8/7maePcRb/5p2ulzXVUXwTPYrM2w8LCxhP5kid9YP/4UQ9AfmyUr9em9AMK7PXq9A+MQH9BjHDSW++5FxSbviEAfCLls19wx5XfsGBpRIdkXKIOZOO7EvLAhdoJ7regklu41F5FNXf2sQe6/bVyaCmiv0UqShVrAHqxmDtk793c548Y7e598hW7P2/RUgvPTEwe5jj1ZFwQHIugcFxH8wWX/lVXTz0VFO30I/cTM3rDvSUVFjCzbKHFjccaLL1bEQI+tbGXoCf2RuP4U/CHQBhsLP0YHHxj1ZIPkAxzWj68h3SWDkw6TOh4tlHmmui2F2iT78OlkSUGJni8S1CnPIZ3evZVfnM2gfz4UK/q2sLApn7+nepMQSFKVgYSjwYtFjhYEdEeLIEYyJRLvjzfngABgHYzLnKNIBiGMY0EeniHFUz0bvQNI6JfUHEBXdq3dXMWLpP1TwVcKD+0Kn+6gH6ol55QuZMl0f/ipv9Y+ReefJjbb8RgEfBKNVm9lJNf65KpIMZEGdxZKiGYB2obVLwYLKBirDEIvZs2y0u49iM87LVLFELaLJk0x5J9pWsYFeGi99ltkE/ulmuPCAuw9K6iL8iDeQLQk8m8EmOA+7SBAFu7Ddwh2XcYCGzVfZWue6ntSs+HPBoLFOYKRPiXStOIYZkkjddnltlynyhmY7QBRihNJjmdlQ50HUSUAfLiG28p9GyFSWfDdurrBksSAkgDUWAgvT9/kSRHOQ9T/Ov5S5ZbnHOedZQOeqCkUWIzY7lBrGYmQ23A12mpzA1fnT5bpoybTNphUCPx+Eht8bwZuJxBeE0xuj+UiTAu00co5jlEK534kz+YgNERevTt2fPcbG0gzpV+mQ1VJgSTaJDUB8REHyF1AmaT+ZxhiNcp23V6fbKlq8l92t8QkGlMZauHr+NWSdndSlqbOXca7ajyKn1l9EnNQ0VCM/mdJFq6UZOWg3sEi3IJCrc+8pyVh/n4cVKpsPnLPPBQk3z9O/XxbXtRMoOl/IggM79r1s54PcAbgqUHBEDfF/E2+mtWLaw2PIAvhMdM4PPJ9Mzf8wwinraVBArrS0vkS/ZvRDSn8lfjuarEaqG1SRMD/eOGTVvcWT+9Llm7R/98iZakQ6MeqdpPNhub6L0PxHhO/sGfku89pXjrDBomO/ro6R986P5y1+PuAZnsrZezsFxwxpFj3FdOOsJ03AySGoPa0kzEndXAaT/+i73etHUbN+XG/zNdqi2TYxlDFFgKM/lveehZd/cTk+ydf/3iImMCPPdMg28YHgTotRkfuLu0qXf9/U/lrOIPzj7WnX3MQabPzcS8cr6c4aFN5trgJUNedkuNQsovBEhnjkKz9Q2qmbLyZVbFZWs3uUP37WVSaXp63wZPLhFuWshaC3QhHdN39DUECOAeecSJkz3I8Mf6XvmhtmEP5t9PT7FUF33+SLdL/94mqEBsGxqoQdX2UPuaA/hnfwLDCA+z5y+2g7wtxcQRisApgMCHwQRCJJvfHrCsIyy1CYSxeeef++9Mfck9xjvnO2bOLXdYkm2SpoLQzbbXQd/5DLaD78JkIPSABgodjNR86bnHu1/KkgJ4SfpcNqvatW1lS8n4wISsIm2wDH3lrfctfYc2Ldzxh452Q/r3MgkBcY80SPXe1NE1b+nG7j7QYmCjmoDJLFy6yr30ZpTHXRMmuZffnuNuvfxCWWgMMr1uvFwrqJo/TBcIxR6D+7vZZQtkSjjIJNCsr+kFymDlADSV6gnC48EPUkOV2vSSDjB++cqb3KJlK3wSWaQMsQ1E8qE9zysN8LvbHnGz5i9xP7/wVBv4tvTPMZGSGWa4YEKhKjOLEsuDltYW1Brlh0SJ5Qv91JAA3uLMEVxzDyLPuYYb7n/a9epcok30De5g6dmxmjLGlwGXURx4WvOpzmgsMObDqoEx0bl9Ozvk11VEEeIGIapug93wIlw1k5nsW3Pnu1/d+rDdOvWwfd24McNtVYJQkU3StsRF9gfcGwHX+MAUF+jevo275bGX3HEH7+1G776ziDfCVCR8MF8QQt/UPsV19z3h+nZt7xYsX+uG7dQvsQ8TGVRkQwN9DwP2I9rmnP4slXXXfU9NMu0A76IqHCpTcRNQtT9DPbcXKEwGIuzTCUwArBbGjBiS7I97nnrFna4DXO1LesriIU1KVU/T4ctF0F5MbByu2bjVHb7v7qaHNZVNYhAigWA5wWoG6YHTql00kZnQMC4kjDdnzXN3Pfaimzh1up1ovk0qAtLhpiRuApisXI4LG1Kq37qKzW79lk9sEy9HcnsEQ/Q67E/kIkXoSAGeM2ghSBf/8fYk8zhBk+nzR4yxTT2ImrApu/N1Zn56/b+fcgsWLXEPPvuqWcR85wtH24ldGEBNBr6fyKvXbXB/u/9J2z+ir0yqS6ll/j9gGLiEGSDV4enj9nM9RUy9WWT+udRPSmjARq1+y5evtD6AMG2VGoZV4SypPW/8z9Nu2vtlVtjXdUjtyDEjbOxlwiN9j4VX787t3EapL8/RyeRMcMAeQ9xp48bYpi/mw+CSLs9EjsA/Y5UT3aw6F0ogAr40fqydsLd66Hf6mLFERfyHdqPfHjV0J3fl1z7vLrv+XrVmo/vtrQ+5C08+3A0d1Nd10mY4sGLNam1yz3d/uTuySoN58A7WctWtcCmHk+iMb8Ylm+2MTejC0zoEec29T1gZ/LlU50A45V9TmpDMoIgvCpaBgFM6EQliV+ntDx01zE189R2z3Jg2s0yHhboZwUufYBDB6Trsc//EKa60VXNX2p7Nrj62eYyfKp4zeIZoif/bb59pk80f2LLpyvhU2aXa+MNVBek2XXOHm6RDS5x25TwBVhiibLXqdr+8hkDlBVnSgRskJNw23D3hZS3Ryy07TkdzsGlQn57GgHmd9rCRCc44h4DlEFYhv5dN/BGjd3cHjNwlr6rEE5EnbYHIXvWPB+OP6nyNeu8oEWTML2uH5bpVgXHQtEkzHRpc5q644d+ybtpouF4v5j/5ndnJzPfZbaAsgMa6z43Zw1QqEPxMTJj8lq4gLjWtST0dn8xMFwg9fI7UCuIn551o5qLZGLKVo0548Y2Z7toEMbv0vBPc3kMHqjT+CbKMnXiZxXYdzV8O6LU03LOHeNeEl3Q24w37nCEGDPOl/bOk2oIOACMH95N59oHulMNH2+rWVLcZJqEf15vELB5+/jV344NPu/46M7JR53gWLlulvcXIcqx7p1J3wiGj3JnyRDBcWgWyUvc3RpQb/rL9KWgGQq/Q0UgUx4/dyxgIDXnh9Rlu3OjhIvLyEyTJmXTGbLT6YOP5zYRkuG7zR+7b4w9KSge+d5mUDDwGI1IDKgmewawgivpvVJfVDBvoZxx5gMp+13A4a8EiN0qb3+hWGTA1hVq8krMI9L9X3/WYYpI3dRWO6IDj7BBUdJgx9qoYDhIr6r/z5YLh+1ffYQ/x3bWHNudRGWWSnmM5pFwaipRnC6n8vihz0YWy9OKchd8MTkmc5w9WUxzWGix1I2cHEmQwz7frMRmEQA1E+nz0xWlVMsb2f6MOJO6qsyCoJLt3QR+v2gofmRgIEuzQgb3tVPPewv/Oal+3jpEzx1UqY4b8ZD3+8pvm3oO8J0x6SwcW17kbfnK+qUbSJVvKQc2HocTf/xPtd41QPVh5ttfGOZJys9imcZUGFPkN+oaxiibg6P1Hasxs0Wpjg6vYoNVYYr/QN3FAj44WKO+c4w6xMz5dRfgjU19GcAagDzXvoQkzPlioT7l9fEpU4p2kqeio/hs5RAcOZZjDngzpM/W9f6+xfhc0A6GLWTpiyw3hA0pbNXOPa4KddcyBRsjjEipODefI79CjkkZaNxcz0THkkTr0gzUKp2HjHWyMR/khxTMgGQBMZggY154QwlBgJC1ayJXF1i2a7OWSSDeZ3vqTPE/PWsXr8Y8nVOzVTNXGOVCx9RN38RmH2ooJdYtvV7xY3mur2MYH7blr8vakt2a5844/xJwEVlEJJlNVvYiY7yeuo3D7G63k6mMznlJgsKwIqWdNGFrVGtbhjvocXKFC+9kFJ2s8RGNng/qdjfMHn3vNMp84+U33jASLK756kjvmwL2SDDRJmpQP45fTzDCDvnKhgtCDRRBtpJ+wJhwzfLA75oA9TRV1xY33u516d3HTZH13+6MvuB/JfxXj1zMR6gVDwrjkIUnIz0yNBJuvn3qE9X1yPytZiTrgoUBfZYyAg3fFeO+Qy5YnXnnTLZLvslXrI0eFe+4yQP3nzOdW2ZLVruO6je7fUn2jgRh/0N5yZdPZtBDgvwpY3zszajhk1FCt3FubOxKYDqbwL2tfdIYOa3YXnbj4D7fbXti3zjhK6mCp1FVohhyrFNGYbhQ0A/GIZsWAwzJib6PDXydp900d3BopXSaEzEuqpONwEp0MHHfQnqa+8szA50d6BiCTcZ58G72hFQtePLGSWi6dMmqZyLWChphGxCqZxnZoI8+aYiC4CI+kDZ9bw3zD2DhQ9UHCFQS1ABdTZ8wx5sEk84PZX4MHJFfOu+CZFCd3c8txNQ2BrF07KBMCF5XmS0rPK36faw/xQlPTZFPd+De35Te1ovwdpQr5npwPMk6oHZL9Ku2vfUW69gd1YO+GByZaNc694u/u9p9/3R1/8CjDuW+Jz6ebpF7ODQD0Afkh0Ph0rLw4BX3+CYfaWZI/3fmY66MNX3T3p2hTfC+ppZIgfNP3r+sU9mV/vcdunyq1zGGjdrd+N0aTTNz4LugJzNXnaNz/Qsz2Ae3lAR07lLrfX3yynfAvadNad+T5V67dp7031/342nvsMCUHKhEwv/fFY0096pmyZZD4Q5/RPxjTHCuhAMYOoPYmP3xZvSoHjlfe9KDGQ4XU2s+ah+GrvnF6pOnYzlYiBc9AvKTbVQNkzO6DjYHQoaix2LjsK2kC19UQRlQOz74WSWSkGa30SJFIgR4YHExYVDxPT3lbG8BPST013T/O+t1BOlcAKTRiSHHil/W1uj+AysTABji/dcFBxzVqM9C1tI32Ql6SKecrGSUhT6witZsOd6k9rZrKwksPYJhCS63BJDlDRzacxO5zwCf2s7LQypt1qUtlfnW/8vVApYE9GM7vML5gk5/T1SW6/pP8GmHKyX7SUKm02K+DIcc5Mvl8xHH2BI4Z0/ZJVJExyXhEvYLxw18feFam5ZHnYDzXokZldQ0R8wLAbY8+l2zgOdo4xxkhBBHcUh558p0slKvoQfRcvysxTrrCB+qP4Meh3/ufmmzMY6BUfuu1+sZJIivruBoVRrvPsEHmHeCsy29wfWUxx3ynj84+9iCjA6AoFx7QPtBvxDDBIrJ75/YWpoH9uQt/dbNrK8PI+1QXvAl/Uabx9A/0IVeehY/p/GtY8AwkakqkW95NhwHHyFRv6vRZ7r6nJ7vzpMtnZUIPMyGxmrjmnqes85pKBYJ5XQtNvLikYQxJE/HJyW+50xNnMjy6Rss9BRtwqGVayqLI74ksXLbSTZDbAgC1ik1E/1Ke3zaXlbauA6syn2i/xx8U43DUIq0sag6Ky6DleJzQ5JuHUG74QCpjVcaE9fXLN494OnDD5EOn3EkHOVHDFQSoUVG7OKmsoExiBqijWB3cIRPvkmafat9tvlQbHxpxylTnSiZb9SljEqpO2/Hae/ToYeaShJRs5GOJBwMBP4w/jEnukOkqcNU3TjPzVfq/yccRY2J88htiBsH1gOCUvP+J+krSRCQM+RSF/00b2Mi+54mXXfcObcyT75+/f7YbK+ZB2zilDjoB8IBJ9GH7DHc/Pe94d+l1d7vOJS3NASL+yNhr2yrGnXwhei3lr7KIQN8ElfpIq1BUkDhtxJ37Vf94wJ4/+tI0MyVmX6Y6d/QpBRT5jyJhINEScoCW+WP32tVNSjiHwxYfk7x2WrJuln6T30ppk/3UsXvaGZI4xWZAsTRF7fPLmxOWQxptWG7gRA8TXWzyOWPCIGEgMmA5D3LPxEjvDQtIjM9adb0fj7V6OfYS+bApzgdYvGq9zBgPS+wVUUNSxL9J5SGqBfignT27dIoIiZ95PlmOb96FqHFI6+o7/2fuUnBnXxfpC2kP6XJIv97u/BMPs72DOPPPUZ3P7JERe+EWhsl4OeWQvd1f73vSyl+k4EMYcXD+gJVejceJ3qE/cUnuoUJmwx6nlA1+8LsEEDZgiZg3xNT2PpCWBdY3GreWVvsEHqbIC8KtDz8nphK51Bm373A5NmyvlU3xSMwM0Q+lap6pg4HsFS1ds1GeFQaYux9c9duKIdFg8MU+IREoWcUBGM9gSUeQME7s1wTAbhPhlTGJkLNf4iwK99kbW6mNfBjI9gRFwUAYCEwKfEKhlvLAAb8TD9nHdepfYvbZcfXVUfvtYaa48Y1Y8kGae0+DD+d3LTVZ99dhOzYqh2gwoSJQMSYNRiRWA0bvQBQU1ccXW+tv8sJ6C0DHbmVly02jkrqzqR8HBmsEET5QqXjYe9dB5uQNSQx85Qu0m/pU5l39m+TOigNzR09Aq38r3xSvu8+LqTdpSgyNfN/5rNNFUQPjBANfWOxLIaRIvGfw1LxS6jfOvnhgzADgm0v66WOtgoB2MlP/y90T7DrXH06/k8sjsijj42HyLVeaix4cTdaqrj6jz/ibvSgABskZrjat5ftNvzOh27AnnGLGDsPfuDlSDZqa0XKp3R8YfXTGShvuMthBkEK9nf+sq125hfZWUTAQkAZBRKW0u9RYh+8zzD0lP/8z5n7o3tZhv0EKLYlUdu+TU8z6qk1Je6XrZ5YU3vrKEzx+f6C4AMAWEWg2H4kNwIBKsQ1XeUxeyiWKWiUkhkg0rytv53EF8yBUKbBazuCwCskGlI1eHFPNONhE0Q1Vyyx5cIvt4e05C9zR0p1zhiVinP5J5m/ygLLACGoKvIFkjCT2fW00r5BxAYQTAlcjThQrmP6lf7Baal/S1lQsscfb/JINWv57op27QFYDWx2hbz1ApFjRWT4xlDKGqsuTrgBvSMyorTyQp+8f+gvCVSo/ZkBbqVr7a1+mjfrA3vcv6dv6R32Bh2B8rwHo8PHpBqEb0EvhWM1U2h6l/InXtSaCSEom2/CHV8vBGJdrBZKP8IPguHRNhXyWRWpRj9N4Na2tmguxros/TrmGVqxZHzEjrD37qU8sbkhKqsb/o2gYCOIFncaZkGMOGGkMhO55XpvpuJF4e/Z8/dIJb6k0v3fyIdEhNEnWlRBNYtwcVGzUiiIBbIRCCJmcTBw/eDDJw2fWMjlAnBI7PJacqekz1meY5ZvBySYs0e0ADjtyCBDaHScwXNtAVv5YhaGu20EBcxauXJeSM2nQcWP/D7CR+5jMl9lQZf8gkmLVHgqIgeWv39yNr4ZiSfK6JF+YFBZYHFz0apa8Xs6RCLRCGNj/YGWUXv8cr9b5EepKgHZRD3CUXj74o60tVb9y7Y09I6ONXp3kzmTVBjtMiLoEYuVHEu+Tr/fwmylP8gN4B59NmKl3K23tlq3bZGd66GcbE0qDz6xTDhstnf9QYyaJV+19/wcG1lxlYm5+jVYouB0HTtJq/VS5NYfJkScb70Z808YIY8fkAFXW48TnXdtvX3+PV/I3RpvIkHbY2NQF+Ih6oir+SU5MFQCNxBq57sGBKGBlqC3gGIjyi/JYpkBgGys2uNadu9ozWyXaVfQHFOCvzlbjKj9TP5ESgxxUtwicWHh5YFMdd/DbGxQNA6FD6TwC24/abadkP83QyuMpuRbAkaAHzB47yHU0G2SVBIDVRDQheOaBCYs+G+kBdYyS2DsMzi36jZO6O3XSu3/3Dm7e0tpsUkclsWHJkhffXh7e0Yph32E724RG8vSDljaW69Qrum0gPtH4TZuYHBDZPQbvKAuQIWamiGfhe5+c5L5x6jhZ9ETuViCGHoyYSYJlovD+uoqNJt3S1roAkzGNBqVmZ0hN3Ipfp6aioWocEz+a/OmPt+Vv6r8+Iamz+uE3uEOQAFf0DcAKoJXwjsqCVfAb782zscGzfj27RasFGqAMyANCg8qFVSH9hf4com3ETe+QL/c5F0Lo15sV6Q6wcdu0hR3yhNhHpuPk2cTGEBHzkgizN/gTIdDGht5ZozpiNeSBjX8OwWKpRNsg1KQF+Avj5mDqXRrvxOuGyJ8sQwH2GesK4A2pP6ohpsgixAmGTd7sXfgNfvudSOtx5cunvpzj2FfWVVNtz9Npjr4h/1Z9XU+txlm1+zaBK9zrIIg9oXC2wNzyFTZfMGMnb0DJjOlvkMcB9lMRAmAkJkgk8BOlI7xCNFfeeK/Mwhm31X5XhaxAR2sem4PGWHrLvJH/KRoG4vsBYkpM6wtOPNTdKDt84ndgQol9PnDsgSO1OSY//WkdyUSFAWGV4TfP+nVr7/724HM2GA/XhiKSO4OazbhyOR8kNOi3/niH5btGNuBANOTsMuufKmk0QpmsMClMCIG+XUvd725/1FzGEwyHA2aQE/Y82JCDERA2E+KBrjcT4KCPmNIXyhcTNu4wuV8lnE6eKDcLfWTRw8lkiBMAEWLZjdqFSfW/F1+X6eNQuYnZLSJYmQrJ455J0FUanfZi/Hn8Oi0ZCKavPmtAfYYbEU7mj9f5IXCHoFGqFSpxvQEICvscS7QqfUxWNz++9m63s8Kazlq43F1y9niZ8e5ghIi0jL8Win+OCpJ43Mdq1UxoACz8cKXvCRGb35ifwzzM87L6fZd+UsnOX+p+8bVTzSrQ8EumCTDHjGnj2z8DeWxpME8QSuIm7BBFxkDzZpG6NkWNo/zwYr1MZ4N+I79SHgjtW1cGAi7W6pAfAhr1Y41AXbwKiLKwniLcAfuNxNUQPxE0sYN8hDLwQwYtBHsZ7HFOfmeOG9K3m+0DdevUwQxhWAm0kTEH1uIbNZcIPIUg9o//Put2G9DTTS9b7I5V/8JMOetFvghUlM25G1Tke+nwMafNWV2jojVmrnTMTXxhvStP3hiO4KSxa2krYyBHq39ZGdE3Pj0taOxQVAyEjkE90LVjO7P5hoG0kYSxQstTJjpATOMdunVOmTjxTkTawIb/dG3S4iZ9kCw5zrn8b4oud6TDzQTSBw7qXpTl1R1ypAicqANiCxYvc1NnlpkKIZ4f1za4lS+DTcHpXKntc+giAVwxiThNMFqnjvfXigGvwr27lLqzL/+7+/ZpR8gtRh8NPNRWq3SS/nX37NQZchg30FYtb8yYrQMoWyLp1uepxKxqYHiHak/oN988011yzZ2Kf93amMh/Jr6qg217mVtvVGcQofVaccxV4KNXtVpj1QbA0Kh/ZW3tdo3+1OXdGhW0DRLH275aqpA/yy3Mn6X2OWb/EW4vSd4c8Gur/qSNuMzAhHSCpFnCqeIcEeZxtEKpniafSKVtibESubQA3/QnBPEGOV7kc9Ceu5ikyiqUFQkEHDUT6tdbHn3RrZEQROxumMcZinjHmRAjSok8ffMN32SeDZpQdrQCQqr3wCoguh898/ftm+yEDAQWDlA2lfXCnPKVUuPWnkQw5tmvwNT8gWenKDrirEhKF5HVIyPu3Tq0NWbBQd4//OthKw/mB8DsvnLS4UbUvaoNFTTz7LiD5NpoynQJTjMtrOz/yaki15/bb4StRJhtCEkPv/C6qbmx2IJ5HCHHqkfJdxmrbrNcUzmgkrKe0Xkw+h/feQfKPxyCJloDr05dKjpDtEfioKMyBpav2+xuvOwCt5ucOKYzekvQyP/UfnQ0FGIYlHJ0R+f2lcqAQRFBpF7C3Tq6/aRLh1g9mTxIZcQS+LrUPO9K/YW3TuCaezJbsyAFDtyhh/vCZddaOnwU2UCJzV8ukfTKdKr9Y419vPjGJT9epGykLkKm/uhLx7vxb/zOla+I9jWu9CbFVkL052hNhC8dd7AR+sfkJwlItxzxeUK4vnj0ASbZ/kBSMfCenCv+9tZyu871B7PGFEk0V+JG+CzZjbrAr5eBiBQ+sDL5wYqjoFyx0HEh8uXjD5VQIlcWGaTPuFnp86/PFDGbGc+iyvW8pavNKOE89T2rIM+QqiTM54bG4hq58fDAgVGj3NyAgkM5E8CqAMLN6nSuVsCclwBQgcF4Ms2nxKs5vxhbrKAh9t6xYaYXlqyucNPlJigdxus0OAYxmmH6UMtoHnGG46qLTrPV0qMvRJZlT2jviE8mmC3V1UmHjnI/OGu8WW6xmmT+wORgV6jvCCIHECuITy4gBgg06LIvnyiHpMNNsMzU/z6PSkz7O43ju/gYiPBOR0HULz7jSPNxg3dcBj57H0TcSwgwGXvIJooGDQ4Eb7rsK3p/sty1v+OmzV7oPt6CqqiZG75Tb5PMjzlwT3PaiBUWjuoIo8l7tqRmAiaAS/TKeLadrX2IflpimzPAyiSWkp9NlBhJdOLfL3P3SNc8SXFL3oIJfrRV7kXau6EDetmhqFMkfWIiisTLHofFa9ayOr1xxkTEFFG3nCYX6KgbntTqYso7syyo1vuSkLdsitRvvXS+YMfeXU2qRmLiZP9QSVvbA0AmjFhYJ0CKKoFbSLj7aXX4j59+1fxQoUacr1Xn3MUr3Tr1O9CsZSu3U8/OCsTVTeOjjxlvsEoxowWNyTiQP0SKsXntD881oYL4H4ylsiWVeTZRLJqde3c2T8m766wCoQeIGEn4V9sXixH5eP7VXTMmIfzDBvXR3Ig2mfHEzIrAhm4sX3Dj5wWB2ICVWvHiHj3aa6mutOzPyZs9MuYNrnM6dygRM4pwxWoisQ1h/QGz5R//YTxrZGQCbqMxH++xiP/hzPAPF5/ljhOTeUZzGHXhDO3hbEic4u+gTe3BMvOFuePNm5PqqLj83ge19vOnszxd4PcMFSZ7iajG5+kzXzHXPfPCHc1AqSyxYBujQ8qsUogQihYAU2jyygSMr2jsRWMwU5pivSd6ZsOpVvXnVZC2du1ad+mll7rrrrvO9e7d25WXV5UkshXAQClt3dwRt2Oiogbuq5Pm2cLVxvOgXNQDbJrRbXQSy28Ieb7AZEJPukiHsT5USFt0nM21ZO8hqYt9FnSgDA5MSzeKuTDwKCOuF/VlsSpB0oJoMHHRw8alT5+Ob8YZ9d+gTVsORbFhzkYrqhJMiiE6tAN96mbluUXLa/CEeo3ldCagL2gPkhTmpahG2MchDgi6Z+pSqg3CHsq7i1SAHPqjHQAMubEAeKCPJmuD9VzF3YARsMdz7Q/PM8kzOnkcMYz0NoMjVKQ4zuN0PoGDwB+qK8YYag8Ie2+pSFGZYuxg76h/shEPymBMcD6E8YUfMqyGNmqTWlU1yRXhoHf3Tq69VpIIHhDROq08Yg1jTKKeof4tVX8f+TCWxIgb47xCaX+pk9V4dwaI/nmw4uXUdvXhy4CJsMfh6+Hv5/pmPlNn8JFtzPM+c418MU0Gt3z8niHvIjQhiLH/iDovspDjzVTw/YdpPXug9NGSlTKBFjMif8YUqmDmJi5nmJ/sp5p1neiCfz811+gXuIU+MN/YPxlxxiX2YIQEhtt+/g1jcIYbCIOAMYylF/u6P5Nq7mYd/uzRscQtWR0JApaomj/QgtLSUrdmzRo3ZcoUN2rUKMs3Vz2ryTLj46JcgdASkEwnQnQ9cC8uXfj72b4xV2SQoZMepBWNH7Q2cvUDwspEZuB1aBlZbqkIlVGV4ELgIQD+XaQr0mYCk7r0HBNiVky26a+ENnz0h70NT0BoX0liYNE22pgJGBgm0cmMGYmva6tS09/SKN6IhmbiQjcY0JQB1PegskwL4I+pGlUPiAYMFbNpGAj9iXWOSbuxekLo6UdiTZTIG4FZMCXwR7I4DukHNnRxW1Ed/lCptmjR2vT/3bXZ6yG9X6I8Nbb0oLo8fR7VfdvZhMT4yeW6BEaIS5q52osAcFzKhnKW4VZdsSnPwXO8HikPq/mRa8zzKsytmdrXsV2JrdKH9O9tOSZxS6fph81lGGkCF5Yo9gfc8w7GDQhXrOjZCwKSefEjkR9zzVTKyi9bntG72nvU2GMM4i2Daw/Z5rJ/XgzfRctAQK6doBXBjEOuzoyn45q0EA0DBoIuGCx+1vCcDx3tl908zlaGJ8i50tgz/qi0rGWrIr4MWx1YpSrv2esZ/lgL9C6E0/zxWDGxdtG6RF4qIFlGhqyK/hZ92UxWRSUtmykCowJD/f0+27hm1YoRxUUymjBT5xhRSeLcj4kE/uxLf+JjI3pkHcVlTjCBIe76PzHWeCkiW3ZheVgdqHw9QXKMkR/VtVFeNXPKnStPtf9NuKofN3qECSBxybjqW/nfSalH/q9VO0apNzP4k4QwZOM6kX9Kf+Ux3kG7CWFePrR+iM8fJfActZr8oBmsWrDawl8WzLmtBN7VUif26NTOLZHrIVtZKZ9ihqJmINa1dcS/Jxq+E6MxUzXT9HQ+ffw7nzS50mcquzZtzJwPJetJ1abFq9RorpFcvTQ9V8YNfDx0VJRKfG2x2sgE2foxE14zvZ9+L9d7SYKeuSrpWdX4d7a2pGcEXcS8GAeB7Ivhxdav4NLT1uZ3vvWoVd68lKEvc+E9WznZ5luyezKUkykvmBdtRv39d1ngZYIFUjEX+yqkqBlIpk4J9wIGIIadtfmKafZyuViJHGPqRLj05ei4B0vNQZCymqg7GzNWIXSsngnaxsa0ua/XPfCzLQl/o8apGgcDZp/se2cd4xbLpQx7aKjNGZ/sS7Khj2sjfhcrBAZSrD0X6p0RAxA81H5YHBE4yNSKupcEzVY2k81fmNIFApnEjF3AZJGKi10yTm3VZ//LxqFUoZxOv+jzR9k4TBlrwrHtrcpQh/Ga8uyzr26tSwwMpNaoCy8WMgbQP+OqPMY6ktVF4rO9peSdcOExEBiHx0T9fKMmxRgjUlXGlxrRuZva7g3VT+3qnkvhMZBMM77u7Qw5bGcYgElgoZMNilXiy9aecL9wMVDbcVgMpLCgGIjxZ/7ogy+bAAEDdcJAQnXFUGJY+SGVGGJ1yjq8HDCQNwY0Dv0Y5B0/DrlmLKZDdA81YvqTwvvd8Awkhk1s0e3zKT57Cg9ZoUYBAwEDAQPbGgMwDg4CQgs9HfTf27rsmubf8AxEyPLmgrjTxgU1G59BxVDTrgzpAwYCBhoDBtiHwpiBg6942gAK1WKwwRkIzGPD5ghJNz3wtHvk+deSDKUxDIbQhoCBgIGAgZpiAAEa90Y+mN1KucMvRGhwBgJSOKmLO4L/Pv96IeIo1ClgIGAgYKDBMIB/O1yhFCIUBAMBMUR+61TSyg7e2O5R2AMpxPES6hQwEDCwrTHA5rkEanzurZA7/kJlHqChYBgIlVm1YbMCJ+kTIGAgYCBgIGCg4DHgY9cXfEVDBQMGAgYCBgIGCgsDgYEUVn+E2gQMBAwEDBQNBgIDKZquChUNGAgYCBgoLAwEBlJY/RFqEzAQMBAwUDQYCAykaLoqVDRgIGAgYKCwMBAYSGH1R6hNwEDAQMBA0WAgMJCi6apQ0YCBgIGAgcLCQGAghdUfoTYBAwEDAQNFg4HAQIqmq0JFAwYCBgIGCgsDgYEUVn+E2gQMBAwEDBQNBurNlYl3v96iRQtXUlJi7thDeMyiGQehogEDAQONAAPQ4cgdfDPXqlWrbd6iemMgOP4CaIBnJv57m7ciFBAwEDAQMBAwYBjwdJegVNsa6oWBUGG/2igrK9vWdQ75BwwEDAQMBAxUg4G1a9daCs9Qqkleq8dNRPhxHlwn+FgRBGfNmuVWrlypSFrN6pRXeDlgIGAgYCBgoO4YgLSzChkyZIjr0KFD3TPMkEO9MJAM+YZbAQMBAwEDAQONHAP1osICR/WwkGnkqA7NCxgIGAgYaBgMbCs1Vr0xkG1VwYZBdyg1YCBgIGAgYKA6DGz7bfrqahCeBwwEDAQMBAwUJQYCAynKbguVDhgIGAgYaHgMBAbS8H0QahAwEDAQMFCUGAgMpCi7LVQ6YCBgIGCg4TEQGEjD90GoQcBAwEDAQFFiIDCQouy2UOmAgYCBgIGGx0BgIA3fB6EGAQMBAwEDRYmBwECKsttCpQMGAgYCBhoeA4GBNHwfhBoEDAQMBAwUJQYCAynKbguVDhgIGAgYaHgMBAbS8H0QahAwEDAQMFCUGPh/v5T1B9q5jewAAAAASUVORK5CYII=)"
   ]
  },
  {
   "cell_type": "markdown",
   "id": "9BXRbS03bEoJ",
   "metadata": {
    "id": "9BXRbS03bEoJ"
   },
   "source": [
    "> **Discussion Question**\n",
    ">\n",
    "> Inspect the leaves of the decision tree above. \n",
    "> - How pure are the tree leaves? \n",
    "> - What is their gini index?\n",
    "> - How many data points support each leaf?\n",
    ">\n",
    "> - Does this look like overfitting?"
   ]
  },
  {
   "cell_type": "markdown",
   "id": "GqpGtCs6bpiD",
   "metadata": {
    "id": "GqpGtCs6bpiD"
   },
   "source": [
    "## 3. Inference in Decision Trees\n",
    "\n",
    "We can inspect the imporance of the features of the decision tree. \n",
    "\n",
    "We can access the feature importances via `feature_importances_`. We will add them in a dataframe and  them in a data frame and visualize it!"
   ]
  },
  {
   "cell_type": "code",
   "execution_count": 51,
   "id": "NLJKPfAsPrWN",
   "metadata": {
    "ExecuteTime": {
     "end_time": "2024-02-14T09:37:49.617618Z",
     "start_time": "2024-02-14T09:37:49.567917Z"
    },
    "id": "NLJKPfAsPrWN"
   },
   "outputs": [],
   "source": [
    "#TODO print the feature importance of each input feature by calling the .feature_importances_ variable within your trained decision tree\n",
    "\n"
   ]
  },
  {
   "cell_type": "markdown",
   "id": "c7619228a19ab4e3",
   "metadata": {
    "collapsed": false
   },
   "source": [
    "> **Discussion Question**\n",
    ">\n",
    "> TODO: What feature is most important? What feature is least important?"
   ]
  },
  {
   "cell_type": "code",
   "execution_count": 53,
   "id": "Frm3V58wdH3G",
   "metadata": {
    "ExecuteTime": {
     "end_time": "2024-02-14T09:38:59.187155Z",
     "start_time": "2024-02-14T09:38:59.091341Z"
    },
    "id": "Frm3V58wdH3G"
   },
   "outputs": [],
   "source": [
    "# Add them to a dataframe, together with the names of the columns. \n",
    "# Sort for convenience\n",
    "fi = pd.DataFrame(data=dtc.feature_importances_, index=X.columns, columns = ['Importance'])\\\n",
    "       .sort_values(by=['Importance'], ascending= False)\n",
    "\n",
    "# And visualize\n",
    "sns.barplot(data=fi, x=\"Importance\", y=fi.index)"
   ]
  },
  {
   "cell_type": "markdown",
   "id": "502e90f0",
   "metadata": {
    "id": "502e90f0"
   },
   "source": [
    "> **Discussion Question**\n",
    ">\n",
    "> - How do you interpret the feature importance plot?\n",
    "> - Does it relate with the decision tree visualization?\n",
    "\n",
    "The most important features (`glucose`, and `bmi`) appear in the top branches of the decision tree. The least important features as `insulin` are less often used, and mostly at bottom branches.\n"
   ]
  },
  {
   "cell_type": "markdown",
   "id": "zwhcgCXRjqBa",
   "metadata": {
    "id": "zwhcgCXRjqBa"
   },
   "source": [
    "## 4. Decision tree hyper parameters and prunning\n",
    "\n",
    "Below are some of the hyper-parameters of the `DecisionTreeClassifier`, that allow prunning while creating it.\n",
    "\n",
    "- `criterion`: The function to measure the quality of a split. Supported criteria are `\"gini\"` for the Gini impurity (default) and `\"entropy\"` for the information gain.\n",
    "- `max_depth`: The maximum depth of the tree. If None (default), then nodes are expanded until  all leaves are pure or until all leaves contain less than  `min_samples_split` samples.\n",
    "- `min_samples_split`  The minimum number of samples required to split an internal node. (default=2)\n",
    "- `min_samples_leaf` The minimum number of samples required to be at a leaf node. (default=1)\n",
    "- `max_leaf_nodes` Grow a tree with ``max_leaf_nodes`` in best-first fashion.\n",
    "- `ccp_alpha` Cross complexity prunning - alpha, prunes the weakest branches of the tree"
   ]
  },
  {
   "cell_type": "markdown",
   "id": "AAMnfj2zGCNS",
   "metadata": {
    "id": "AAMnfj2zGCNS"
   },
   "source": [
    "We can tweak the hyperparameters to effectively prune the decision tree.\n",
    "\n",
    "**Example**  \n",
    "Train and evaluate a Decision Tree, that does not have more than 15 leaf nodes.\n",
    "\n",
    "**TODO** Try different values for `max_leaf_nodes` and observe the training and testing accuracy"
   ]
  },
  {
   "cell_type": "code",
   "execution_count": 69,
   "id": "vl1BYngSGbgR",
   "metadata": {
    "ExecuteTime": {
     "end_time": "2024-02-14T09:43:38.714265Z",
     "start_time": "2024-02-14T09:43:38.607687Z"
    },
    "id": "vl1BYngSGbgR"
   },
   "outputs": [],
   "source": [
    "# Create Decision Tree classifer object\n",
    "dt2 = DecisionTreeClassifier(max_leaf_nodes = 15, random_state=0)\n",
    "\n",
    "# Train with the training dataset\n",
    "dt2.fit(X_train,y_train)\n",
    "y_pred_train = dt2.predict(X_train)\n",
    "\n",
    "\n",
    "#Predict the response for test dataset\n",
    "y_pred = dt2.predict(X_test)\n",
    "\n",
    "print(\"Train Accuracy:\", accuracy_score(y_train, y_pred_train))\n",
    "print(\"Test Accuracy:\", accuracy_score(y_test, y_pred))\n",
    "\n",
    "ConfusionMatrixDisplay(confusion_matrix(y_test, y_pred)).plot()"
   ]
  },
  {
   "cell_type": "code",
   "execution_count": 70,
   "id": "AAL1J_08HO_z",
   "metadata": {
    "ExecuteTime": {
     "end_time": "2024-02-14T09:43:44.531270Z",
     "start_time": "2024-02-14T09:43:43.181171Z"
    },
    "id": "AAL1J_08HO_z"
   },
   "outputs": [],
   "source": [
    "plt.figure(figsize=(16,10), dpi=400)\n",
    "tree.plot_tree(dt2, filled=True, feature_names=X_train.columns)\n",
    "plt.title(\"Decision tree - 15 leaves\")\n",
    "plt.show()"
   ]
  },
  {
   "cell_type": "markdown",
   "id": "-bmPEkGcHM1x",
   "metadata": {
    "id": "-bmPEkGcHM1x"
   },
   "source": [
    "This is a much simpler tree, with an improved performance!\n",
    "\n",
    "**Discussion Question**  \n",
    "- Why the simpler tree performs better than the original one?\n",
    "\n",
    "**Exercise (Optional)**   \n",
    "- Which are the most important features in the prunned tree?"
   ]
  },
  {
   "cell_type": "markdown",
   "id": "nP0yGxI0eZg0",
   "metadata": {
    "id": "nP0yGxI0eZg0"
   },
   "source": [
    "Another option is to grow a big tree, and then prune it using a regularizer, as cost-complexity prunning. It has one only parameter $\\alpha$.\n",
    "\n",
    "**TODO** Try different values for $\\alpha$ values and observe the training and testing accuracy"
   ]
  },
  {
   "cell_type": "code",
   "execution_count": 72,
   "id": "1RyOdj3Nddb4",
   "metadata": {
    "ExecuteTime": {
     "end_time": "2024-02-14T09:44:33.329230Z",
     "start_time": "2024-02-14T09:44:32.016106Z"
    },
    "id": "1RyOdj3Nddb4"
   },
   "outputs": [],
   "source": [
    "dt3 = DecisionTreeClassifier(random_state=0, ccp_alpha=0.01)\n",
    "# Train with the training dataset\n",
    "dt3.fit(X_train,y_train)\n",
    "\n",
    "#Predict the response for test dataset\n",
    "y_pred = dt3.predict(X_test)\n",
    "y_pred_train = dt3.predict(X_train)\n",
    "\n",
    "print(\"Train Accuracy:\", accuracy_score(y_train, y_pred_train))\n",
    "print(\"Test Accuracy:\", accuracy_score(y_test, y_pred))\n",
    "\n",
    "ConfusionMatrixDisplay(confusion_matrix(y_test, y_pred)).plot()\n",
    "\n",
    "plt.figure(figsize=(16,10), dpi=400)\n",
    "_ = tree.plot_tree(dt3, filled=True, feature_names=X_train.columns)"
   ]
  },
  {
   "cell_type": "markdown",
   "id": "pwpX3D0wfhPR",
   "metadata": {
    "id": "pwpX3D0wfhPR"
   },
   "source": [
    "The prunned tree further improved the prediction accuracy in the test set.\n",
    "\n",
    "> **Discussion question**\n",
    ">\n",
    "> - What is different between pre-prunning and post-prunning methods?   "
   ]
  },
  {
   "cell_type": "markdown",
   "id": "2nOIb9JAIJ8e",
   "metadata": {
    "id": "2nOIb9JAIJ8e"
   },
   "source": [
    "## 5. Hyper-parameter tuning of Decision Trees with Cross-Validation\n",
    "\n",
    "To fine-tune the Decision Tree hyper-parameters there are several options. While one can experiment maunally, sometimes we need a more systematic approach.\n",
    "\n",
    "Below we demonstrate how to perform an exhaustive search of the hyper-parameter space using cross validation, with the `GridSearchCV` class. "
   ]
  },
  {
   "cell_type": "markdown",
   "id": "xlVIcmpfc2Hv",
   "metadata": {
    "id": "xlVIcmpfc2Hv"
   },
   "source": [
    "**Example 1**: Tune only one hyperparameter    \n",
    "In this case, we will tune only one hyper parameter, the number of terminal nodes, by controlling the `max_leaf_nodes`. \n",
    "\n",
    "One could write a `for` loop, as below."
   ]
  },
  {
   "cell_type": "code",
   "execution_count": 93,
   "id": "y_zJ1r1Bc1pJ",
   "metadata": {
    "ExecuteTime": {
     "end_time": "2024-02-14T10:12:13.368517Z",
     "start_time": "2024-02-14T10:12:13.282541Z"
    },
    "id": "y_zJ1r1Bc1pJ"
   },
   "outputs": [],
   "source": [
    "results = [] \n",
    "\n",
    "for mtl in range(5, 30):\n",
    "    # Create Decision Tree classifer object\n",
    "    dt = DecisionTreeClassifier(max_leaf_nodes = mtl, random_state=0)\n",
    "    # Train with the training dataset\n",
    "    dt.fit(X_train,y_train)\n",
    "    #Predict the response for training and test set\n",
    "    y_train_pred = dt.predict(X_train)\n",
    "    y_test_pred = dt.predict(X_test)\n",
    "    #Estimate a performance metric\n",
    "    acc_train = accuracy_score(y_train, y_train_pred)\n",
    "    acc_test = accuracy_score(y_test, y_test_pred)\n",
    "    results.append({'leaves':mtl, 'acc_train':acc_train, 'acc_test':acc_test})\n",
    "    # print(\"leaves\", mtl, \"- Training accuracy:\", acc_train, \" - Test accuracy\", acc_test)\n",
    "    \n",
    "results = pd.DataFrame(results)\n",
    "results"
   ]
  },
  {
   "cell_type": "markdown",
   "id": "jjpR7Szef-iH",
   "metadata": {
    "id": "jjpR7Szef-iH"
   },
   "source": [
    "And plot the results as a line plot.\n",
    "Either use seaborns `sns.lineplot` alternatively, you can also use matplotlib's `plt.plot()` functions"
   ]
  },
  {
   "cell_type": "code",
   "execution_count": 78,
   "id": "YvhNNo3_ijPK",
   "metadata": {
    "ExecuteTime": {
     "end_time": "2024-02-14T09:49:06.051891Z",
     "start_time": "2024-02-14T09:49:05.817946Z"
    },
    "id": "YvhNNo3_ijPK"
   },
   "outputs": [],
   "source": [
    "import seaborn as sns\n",
    "sns.lineplot(data=results.set_index(\"leaves\"))"
   ]
  },
  {
   "cell_type": "markdown",
   "id": "cw2Em5-yggbQ",
   "metadata": {
    "id": "cw2Em5-yggbQ"
   },
   "source": [
    "**TODO What is the optimal number of leafs?**\n",
    "\n",
    "\n",
    "However, this answer is biased as we used only one test-split. \n",
    "Repeating the process accross several folds, will provide with more robust results. "
   ]
  },
  {
   "cell_type": "markdown",
   "id": "43YWZrGzgrdE",
   "metadata": {
    "id": "43YWZrGzgrdE"
   },
   "source": [
    "## Automated Hyperparameter tuning with Sklearn\n",
    "\n",
    "Let's use the [`GridSearchCV` class](https://scikit-learn.org/stable/modules/generated/sklearn.model_selection.GridSearchCV.html) that performs a exhaustive search over a grid of hyperparameter using cross validation. It allows to `fit` it over the dataset, and get the best classifier.\n",
    "\n",
    "Here how it works:"
   ]
  },
  {
   "cell_type": "code",
   "execution_count": 84,
   "id": "PmD6AtgIvwHY",
   "metadata": {
    "ExecuteTime": {
     "end_time": "2024-02-14T10:03:32.168382Z",
     "start_time": "2024-02-14T10:03:31.675706Z"
    },
    "id": "PmD6AtgIvwHY"
   },
   "outputs": [],
   "source": [
    "#TODO import the GridSearchCV class\n",
    "\n",
    "\n",
    "# Lets first create a decision tree classifier\n",
    "dt = DecisionTreeClassifier()\n",
    "\n",
    "# TODO: Define a hyperparameter space with the format\n",
    "# hyperparameters = {\"<variable name>\": \"list of values to test\"}\n",
    "# note, you can define a of increasing integers with the range(start, stop) function\n",
    "\n",
    "\n",
    "dt_cv = GridSearchCV(dt, hyperparameters,\n",
    "                     cv= 10,\n",
    "                     verbose = True)\n",
    "\n",
    "# TODO: fit the GridSearchCV to the X_train, y_train by calling fit on this dt_cv object\n",
    "# It executes the exhastive search\n",
    "\n",
    "\n",
    "# These variables will be available after the dt_cv object is fitted to the data\n",
    "print(\"Best hyperparameters\", dt_cv.best_params_)\n",
    "print(\"Best score\",  dt_cv.best_score_)"
   ]
  },
  {
   "cell_type": "markdown",
   "id": "asVBwD3dyPqY",
   "metadata": {
    "id": "asVBwD3dyPqY"
   },
   "source": [
    "Now lets plot the results"
   ]
  },
  {
   "cell_type": "code",
   "execution_count": 85,
   "id": "FuRGSkNzzLJQ",
   "metadata": {
    "ExecuteTime": {
     "end_time": "2024-02-14T10:03:38.597518Z",
     "start_time": "2024-02-14T10:03:38.506311Z"
    },
    "id": "FuRGSkNzzLJQ"
   },
   "outputs": [],
   "source": [
    "plt.figure()\n",
    "sns.lineplot(y= dt_cv.cv_results_[\"mean_test_score\"], x=dt_cv.cv_results_['param_max_leaf_nodes'].data)\n",
    "plt.xlabel(\"Number of leaves\")\n",
    "plt.ylabel(\"Accuracy (mean 10-fold CV)\")\n",
    "plt.show()\n"
   ]
  },
  {
   "cell_type": "markdown",
   "id": "r94PDQxv5Yut",
   "metadata": {
    "id": "r94PDQxv5Yut"
   },
   "source": [
    "And the performance on the test set is as follows"
   ]
  },
  {
   "cell_type": "code",
   "execution_count": 86,
   "id": "-ULVtiW55edL",
   "metadata": {
    "ExecuteTime": {
     "end_time": "2024-02-14T10:03:49.958258Z",
     "start_time": "2024-02-14T10:03:49.853199Z"
    },
    "id": "-ULVtiW55edL"
   },
   "outputs": [],
   "source": [
    "y_pred = dt_cv.best_estimator_.predict(X_test)\n",
    "\n",
    "print(\"Accuracy:\", accuracy_score(y_test, y_pred))\n",
    "\n",
    "ConfusionMatrixDisplay(confusion_matrix(y_test, y_pred)).plot()\n"
   ]
  },
  {
   "cell_type": "markdown",
   "id": "GslBx_b-5Gtj",
   "metadata": {
    "id": "GslBx_b-5Gtj"
   },
   "source": [
    "**Example 2**: Tune several hyperparameters\n",
    "\n",
    "The nice implementation of `GridSearchCV` allows to search over several \n",
    "hyperparamters. \n",
    "\n",
    "However, this is exponentially complex: the more parameters values you use, the more slow the fitting becomes. \n",
    "\n",
    "The cell below is still relatively fast, as despite using more hyperparamters, the grid is rather sparce.\n"
   ]
  },
  {
   "cell_type": "code",
   "execution_count": 91,
   "id": "06nzOjcL5TOt",
   "metadata": {
    "ExecuteTime": {
     "end_time": "2024-02-14T10:07:42.143886Z",
     "start_time": "2024-02-14T10:07:41.007498Z"
    },
    "id": "06nzOjcL5TOt"
   },
   "outputs": [],
   "source": [
    "# Lets first create a decision tree classifier\n",
    "dt = DecisionTreeClassifier()\n",
    "\n",
    "# TODO: Now define a hyperparameter space including\n",
    "# * the 'criterion' as either `gini` or `entropy`\n",
    "# * the 'min_samples_leaf' as either `1` or `8`\n",
    "# * the 'max_leaf_nodes' as [None, 5, 7, 9, 11, 13, 15, 17, 19, 21, 23, 25, 27, 29] (you can also implement this list as \"[None]+list(range(5,30,2))\")\n",
    "\n",
    "\n",
    "dt_cv = GridSearchCV(dt, hyperparameters,\n",
    "                     cv= 10,\n",
    "                     verbose = True)\n",
    "\n",
    "# TODO: Execute the exhaustive search again here by calling .fit on X_train, y_train\n",
    "\n",
    "\n",
    "# Inspect the best model, and evaluate it with the test set\n",
    "# These variables will be available after the dt_cv object is fitted to the data\n",
    "print(\"Best hyperparameters\", dt_cv.best_params_)\n",
    "print(\"Best score\",  dt_cv.best_score_)\n"
   ]
  },
  {
   "cell_type": "code",
   "execution_count": 92,
   "id": "p03PMsc98uYN",
   "metadata": {
    "ExecuteTime": {
     "end_time": "2024-02-14T10:07:46.137092Z",
     "start_time": "2024-02-14T10:07:46.024792Z"
    },
    "id": "p03PMsc98uYN"
   },
   "outputs": [],
   "source": [
    "y_pred = dt_cv.best_estimator_.predict(X_test)\n",
    "print(\"Accuracy:\", accuracy_score(y_test, y_pred))\n",
    "ConfusionMatrixDisplay(confusion_matrix(y_test, y_pred)).plot()"
   ]
  },
  {
   "cell_type": "markdown",
   "id": "oeQQCclr_-84",
   "metadata": {
    "id": "oeQQCclr_-84"
   },
   "source": [
    "> **Discussion Question**\n",
    ">\n",
    "> - How did your final model perform?\n",
    "> - What other factors may affect your model selection process? \n",
    "> - What could you do to overcome those?\n",
    "> - If you spend a lot of the hyperparameter extensively and observe visually the test result. How do you bias the result. Would it make sense to keep a completely different test set that you never see during the hyperparameter tuning?"
   ]
  }
 ],
 "metadata": {
  "celltoolbar": "Edit Metadata",
  "colab": {
   "provenance": []
  },
  "jupytext": {
   "formats": "ipynb,Rmd"
  },
  "kernelspec": {
   "display_name": "Python 3 (ipykernel)",
   "language": "python",
   "name": "python3"
  },
  "language_info": {
   "codemirror_mode": {
    "name": "ipython",
    "version": 3
   },
   "file_extension": ".py",
   "mimetype": "text/x-python",
   "name": "python",
   "nbconvert_exporter": "python",
   "pygments_lexer": "ipython3",
   "version": "3.9.2"
  },
  "substitutions": {
   "ISLPmod": "`ISLP`",
   "Rlang": "`R`",
   "mpl": "`matplotlib`",
   "numpy": "`numpy`",
   "pandas": "`pandas`",
   "pylang": "`python`",
   "smlib": "`statsmodels`"
  }
 },
 "nbformat": 4,
 "nbformat_minor": 5
}
