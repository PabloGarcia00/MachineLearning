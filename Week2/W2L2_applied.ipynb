{
 "cells": [
  {
   "cell_type": "markdown",
   "metadata": {
    "id": "MwhKATaxnVcb",
    "tags": []
   },
   "source": [
    "# 6.6 Exercises: Applied\n",
    "\n",
    "You will work on applied exercises 8 and 10. If you have time left, you could also do exercises 9 and 11."
   ]
  },
  {
   "cell_type": "markdown",
   "metadata": {
    "id": "GTVT-QQk9K4a",
    "tags": []
   },
   "source": [
    "## Exercise 6.8\n",
    "In this exercise, we will generate simulated data, and will then use this data to perform best subset selection."
   ]
  },
  {
   "cell_type": "markdown",
   "metadata": {
    "id": "cow_XkFTrnJE"
   },
   "source": [
    "8a Use `numpy`'s `random.randn()` function to generate a predictor $X$ of length $n = 100$, as well as a noise vector $e$ of length $n = 100$."
   ]
  },
  {
   "cell_type": "code",
   "execution_count": 45,
   "metadata": {
    "id": "9azWeBj4n9N5"
   },
   "outputs": [],
   "source": [
    "import numpy as np \n",
    "import pandas as pd \n",
    "import statsmodels.api as sm \n",
    "import sklearn as sk \n",
    "from regsubset import OLS, exhaustive_search, forward_search, backward_search\n",
    "from statsmodels.api import add_constant"
   ]
  },
  {
   "cell_type": "code",
   "execution_count": 54,
   "metadata": {
    "id": "9azWeBj4n9N5"
   },
   "outputs": [],
   "source": [
    "n = 100\n",
    "X = np.random.randn(n)\n",
    "e = np.random.randn(n)"
   ]
  },
  {
   "cell_type": "markdown",
   "metadata": {
    "id": "q2r5PzpGn93i"
   },
   "source": [
    "8b Generate a response vector $y$ of length $n = 100$ according to the model\n",
    "$y = \\beta_{0} + \\beta_{1}X + \\beta_{2}X^{2} + \\beta_{3}X^{3} + e$, where $\\beta_{0} \\ldots \\beta_{3}$ are constants of your choice."
   ]
  },
  {
   "cell_type": "code",
   "execution_count": 50,
   "metadata": {},
   "outputs": [
    {
     "data": {
      "text/plain": [
       "array([3, 3, 1, 2])"
      ]
     },
     "execution_count": 50,
     "metadata": {},
     "output_type": "execute_result"
    }
   ],
   "source": [
    "np.random.randint(4, size =4)"
   ]
  },
  {
   "cell_type": "code",
   "execution_count": 51,
   "metadata": {
    "id": "sNgmTNVJ9fxF"
   },
   "outputs": [],
   "source": [
    "b0, b1, b2, b3 = np.random.randint(4, size = 4)\n",
    "y_formula = lambda x: b0 + b1 * + b2 * x + b3 *x"
   ]
  },
  {
   "cell_type": "code",
   "execution_count": 52,
   "metadata": {},
   "outputs": [],
   "source": [
    "Y = y_formula(X)"
   ]
  },
  {
   "cell_type": "markdown",
   "metadata": {
    "id": "dsrpyENXe_A5"
   },
   "source": [
    "Next, we will create a dataframe containing predictors $X, X^{2},\\ldots, X^{10}$, by using the code below. The goal is to see whether feature subset selection methods will be able to pick up that we have only used $X, X^{2}$ and $X^{3}$ in generating the response."
   ]
  },
  {
   "cell_type": "code",
   "execution_count": 55,
   "metadata": {
    "id": "a-nthGcCfLlQ"
   },
   "outputs": [],
   "source": [
    "p = 10\n",
    "X_new = np.zeros((n,p))\n",
    "for ex in range(p):\n",
    "    X_new[:,ex] = X**(ex+1)\n",
    "\n",
    "X_new_df = pd.DataFrame(X_new,columns=['X^' + str(i+1) for i in range(p)])\n",
    "X_new_df.head()\n",
    "X_new_df = add_constant(X_new_df)"
   ]
  },
  {
   "cell_type": "markdown",
   "metadata": {
    "id": "WIYjCx1F_MNm"
   },
   "source": [
    "8c Use the `regsubset` `exhaustive_search()` function to perform best subset selection in order to choose the best model containing the predictors $X, X^{2},\\ldots, X^{10}$. What is the best model obtained according to $C_{p}$, $BIC$, and $R^{2}_{adjusted}$? Show some plots to provide evidence for your answer, and report the coefficients of the best model obtained."
   ]
  },
  {
   "cell_type": "code",
   "execution_count": 56,
   "metadata": {
    "id": "Hf_lHfh3_LIk"
   },
   "outputs": [
    {
     "name": "stdout",
     "output_type": "stream",
     "text": [
      "calculating scores for 'nfeat=1'...\n"
     ]
    },
    {
     "ename": "AttributeError",
     "evalue": "'OLS' object has no attribute 'fitted_'",
     "output_type": "error",
     "traceback": [
      "\u001b[0;31m---------------------------------------------------------------------------\u001b[0m",
      "\u001b[0;31mAttributeError\u001b[0m                            Traceback (most recent call last)",
      "Cell \u001b[0;32mIn[56], line 2\u001b[0m\n\u001b[1;32m      1\u001b[0m lm \u001b[38;5;241m=\u001b[39m OLS(fit_intercept \u001b[38;5;241m=\u001b[39m \u001b[38;5;28;01mTrue\u001b[39;00m)\n\u001b[0;32m----> 2\u001b[0m lm_exhaustive \u001b[38;5;241m=\u001b[39m \u001b[43mexhaustive_search\u001b[49m\u001b[43m(\u001b[49m\u001b[43mlm\u001b[49m\u001b[43m,\u001b[49m\u001b[43m \u001b[49m\u001b[43mX_new_df\u001b[49m\u001b[43m,\u001b[49m\u001b[43m \u001b[49m\u001b[43mY\u001b[49m\u001b[43m,\u001b[49m\u001b[43m \u001b[49m\u001b[43mnvmax\u001b[49m\u001b[43m \u001b[49m\u001b[38;5;241;43m=\u001b[39;49m\u001b[43m \u001b[49m\u001b[38;5;241;43m4\u001b[39;49m\u001b[43m)\u001b[49m\n",
      "File \u001b[0;32m~/Desktop/WUR/MachineLearning/Week2/regsubset.py:272\u001b[0m, in \u001b[0;36mexhaustive_search\u001b[0;34m(model, X, y, nvmax)\u001b[0m\n\u001b[1;32m    268\u001b[0m best_model \u001b[38;5;241m=\u001b[39m \u001b[38;5;28;01mNone\u001b[39;00m\n\u001b[1;32m    270\u001b[0m \u001b[38;5;28;01mfor\u001b[39;00m subset \u001b[38;5;129;01min\u001b[39;00m combinations(\u001b[38;5;28mrange\u001b[39m(X\u001b[38;5;241m.\u001b[39mshape[\u001b[38;5;241m1\u001b[39m]), nfeat):\n\u001b[0;32m--> 272\u001b[0m     score, metrics \u001b[38;5;241m=\u001b[39m \u001b[43mmodel\u001b[49m\u001b[38;5;241;43m.\u001b[39;49m\u001b[43mevaluate\u001b[49m\u001b[43m(\u001b[49m\u001b[43mX\u001b[49m\u001b[43m,\u001b[49m\u001b[43m \u001b[49m\u001b[43my\u001b[49m\u001b[43m,\u001b[49m\u001b[43m \u001b[49m\u001b[43msubset\u001b[49m\u001b[43m)\u001b[49m\n\u001b[1;32m    274\u001b[0m     \u001b[38;5;28;01mif\u001b[39;00m score \u001b[38;5;241m<\u001b[39m\u001b[38;5;241m=\u001b[39m best_score:\n\u001b[1;32m    275\u001b[0m         best_score \u001b[38;5;241m=\u001b[39m score\n",
      "File \u001b[0;32m~/Desktop/WUR/MachineLearning/Week2/regsubset.py:157\u001b[0m, in \u001b[0;36mOLS.evaluate\u001b[0;34m(self, X, y_true, subset)\u001b[0m\n\u001b[1;32m    143\u001b[0m \u001b[38;5;28;01mdef\u001b[39;00m \u001b[38;5;21mevaluate\u001b[39m(\n\u001b[1;32m    144\u001b[0m     \u001b[38;5;28mself\u001b[39m, \n\u001b[1;32m    145\u001b[0m     X: Union[np\u001b[38;5;241m.\u001b[39marray, pd\u001b[38;5;241m.\u001b[39mDataFrame],  \u001b[38;5;66;03m# [N, M]\u001b[39;00m\n\u001b[1;32m    146\u001b[0m     y_true: Union[np\u001b[38;5;241m.\u001b[39marray, pd\u001b[38;5;241m.\u001b[39mSeries],  \u001b[38;5;66;03m# [N,] \u001b[39;00m\n\u001b[1;32m    147\u001b[0m     subset: Optional[Iterable[\u001b[38;5;28mint\u001b[39m]] \u001b[38;5;241m=\u001b[39m \u001b[38;5;28;01mNone\u001b[39;00m\n\u001b[1;32m    148\u001b[0m ) \u001b[38;5;241m-\u001b[39m\u001b[38;5;241m>\u001b[39m Tuple[\u001b[38;5;28mfloat\u001b[39m, Dict[\u001b[38;5;28mstr\u001b[39m, \u001b[38;5;28mfloat\u001b[39m]]:\n\u001b[1;32m    149\u001b[0m \u001b[38;5;250m    \u001b[39m\u001b[38;5;124;03m\"\"\"Evaluate predicted target values from predictor values X with true target values for X.\u001b[39;00m\n\u001b[1;32m    150\u001b[0m \n\u001b[1;32m    151\u001b[0m \u001b[38;5;124;03m    Arg: X (np.array or pd.DataFrame): predictor data as np.array or pd.DataFrame.\u001b[39;00m\n\u001b[0;32m   (...)\u001b[0m\n\u001b[1;32m    155\u001b[0m \u001b[38;5;124;03m        calculated metrics of fitted model (key: str, value: float).\u001b[39;00m\n\u001b[1;32m    156\u001b[0m \u001b[38;5;124;03m    \"\"\"\u001b[39;00m\n\u001b[0;32m--> 157\u001b[0m     y_pred \u001b[38;5;241m=\u001b[39m \u001b[38;5;28;43mself\u001b[39;49m\u001b[38;5;241;43m.\u001b[39;49m\u001b[43mpredict\u001b[49m\u001b[43m(\u001b[49m\u001b[43mX\u001b[49m\u001b[43m,\u001b[49m\u001b[43m \u001b[49m\u001b[43msubset\u001b[49m\u001b[43m)\u001b[49m\n\u001b[1;32m    159\u001b[0m     rss \u001b[38;5;241m=\u001b[39m ((y_pred \u001b[38;5;241m-\u001b[39m y_true) \u001b[38;5;241m*\u001b[39m\u001b[38;5;241m*\u001b[39m \u001b[38;5;241m2\u001b[39m)\u001b[38;5;241m.\u001b[39msum()\n\u001b[1;32m    161\u001b[0m     metrics \u001b[38;5;241m=\u001b[39m {\n\u001b[1;32m    162\u001b[0m         \u001b[38;5;124m'\u001b[39m\u001b[38;5;124mn\u001b[39m\u001b[38;5;124m'\u001b[39m: \u001b[38;5;28mlen\u001b[39m(subset),\n\u001b[1;32m    163\u001b[0m         \u001b[38;5;124m'\u001b[39m\u001b[38;5;124mrss\u001b[39m\u001b[38;5;124m'\u001b[39m: rss,\n\u001b[0;32m   (...)\u001b[0m\n\u001b[1;32m    167\u001b[0m         \u001b[38;5;124m'\u001b[39m\u001b[38;5;124mrsquared_adj\u001b[39m\u001b[38;5;124m'\u001b[39m: \u001b[38;5;28mself\u001b[39m\u001b[38;5;241m.\u001b[39mfitted_\u001b[38;5;241m.\u001b[39mrsquared_adj\n\u001b[1;32m    168\u001b[0m     }\n",
      "File \u001b[0;32m~/Desktop/WUR/MachineLearning/Week2/regsubset.py:141\u001b[0m, in \u001b[0;36mOLS.predict\u001b[0;34m(self, X, subset)\u001b[0m\n\u001b[1;32m    138\u001b[0m \u001b[38;5;28;01mif\u001b[39;00m \u001b[38;5;28mself\u001b[39m\u001b[38;5;241m.\u001b[39mfit_intercept:\n\u001b[1;32m    139\u001b[0m     X \u001b[38;5;241m=\u001b[39m sm\u001b[38;5;241m.\u001b[39madd_constant(X)\n\u001b[0;32m--> 141\u001b[0m \u001b[38;5;28;01mreturn\u001b[39;00m \u001b[38;5;28;43mself\u001b[39;49m\u001b[38;5;241;43m.\u001b[39;49m\u001b[43mfitted_\u001b[49m\u001b[38;5;241m.\u001b[39mpredict(X)\n",
      "\u001b[0;31mAttributeError\u001b[0m: 'OLS' object has no attribute 'fitted_'"
     ]
    }
   ],
   "source": [
    "lm = OLS(fit_intercept = True)\n",
    "lm_exhaustive = exhaustive_search(lm, X_new_df, Y, nvmax = 4)"
   ]
  },
  {
   "cell_type": "markdown",
   "metadata": {
    "id": "Dy4Vu8VjMxVV"
   },
   "source": [
    "8d Repeat 8c, using forward stepwise selection and also using backwards stepwise selection. How does your answer compare to the results in 8c?"
   ]
  },
  {
   "cell_type": "markdown",
   "metadata": {
    "id": "nATaRzHkTD-6"
   },
   "source": [
    "8e Now fit a lasso model to the simulated data, again using $X, X^{2},\\ldots, X^{10}$ as predictors. Use cross-validation to select the optimal value of $\\lambda$. Create plots of the cross-validation error as a function of $\\lambda$. Report the resulting coefficient estimates, and discuss the results obtained.\n",
    "\n",
    "Note: to avoid warnings that the optimization did not converge, it's good to scale your data before regression. In that case, you will likely not find back the exact original coefficients though."
   ]
  },
  {
   "cell_type": "code",
   "execution_count": null,
   "metadata": {
    "id": "9cF2PttzTCQB"
   },
   "outputs": [],
   "source": []
  },
  {
   "cell_type": "markdown",
   "metadata": {
    "id": "zbXDkLsTrpsk"
   },
   "source": [
    "8f Now generate a response vector $y$ according to the model $y = \\beta_{0} + \\beta_{7}X^7 + e$, and perform best subset selection and the lasso. Discuss the results obtained."
   ]
  },
  {
   "cell_type": "code",
   "execution_count": null,
   "metadata": {
    "id": "bp6X_vYJp2h-"
   },
   "outputs": [],
   "source": []
  },
  {
   "cell_type": "markdown",
   "metadata": {
    "id": "guO8lBMd0XOx",
    "tags": []
   },
   "source": [
    "## Exercise 6.10\n",
    "\n",
    "We have seen that as the number of features used in a model increases, the training error will necessarily decrease, but the test error may not. We will now explore this in a simulated data set."
   ]
  },
  {
   "cell_type": "markdown",
   "metadata": {
    "id": "Hcer_cLMr5hR"
   },
   "source": [
    "10a Generate a data set with $p = 20$ features, $n = 1,000$ observations, and an associated quantitative response vector generated according to the model\n",
    "$y = X\\beta + e$, where $\\beta$ has some elements (of your choice) that are exactly equal to zero and $e$ is a vector of normally distributed noise. To multiply matrix $X$ by vector $\\beta$, you can use the `dot()` function of `numpy`. Here too it makes sense to scale the data before continuing."
   ]
  },
  {
   "cell_type": "markdown",
   "metadata": {
    "id": "L3WpG3r21-BC"
   },
   "source": [
    "10b Split your dataset into a training set containing 100 observations and a test set containing 900 observations."
   ]
  },
  {
   "cell_type": "code",
   "execution_count": null,
   "metadata": {
    "id": "ZUQgfBZ51_qt"
   },
   "outputs": [],
   "source": []
  },
  {
   "cell_type": "markdown",
   "metadata": {
    "id": "OOVbDEJA2h6E"
   },
   "source": [
    "10c Perform best subset selection on the training set, and plot the training set MSE associated with the best model of each size."
   ]
  },
  {
   "cell_type": "code",
   "execution_count": null,
   "metadata": {
    "id": "7zQXUSII1ORY"
   },
   "outputs": [],
   "source": []
  },
  {
   "cell_type": "markdown",
   "metadata": {
    "id": "bGUx8iyAzIz6"
   },
   "source": [
    "10d Plot the test set MSE associated with the best model of each size."
   ]
  },
  {
   "cell_type": "markdown",
   "metadata": {
    "id": "ebcPCqCv8gMj"
   },
   "source": [
    "10e For which model size does the test set MSE take on its minimum value? Comment on your results. If it takes on its minimum value for a model containing only an intercept or a model containing all of the features, then play around with the way that you are generating the data in 10a until you come up with a scenario in which the test set MSE is minimized for an intermediate model size."
   ]
  },
  {
   "cell_type": "code",
   "execution_count": null,
   "metadata": {
    "id": "C-u49Ntz8iGg"
   },
   "outputs": [],
   "source": []
  },
  {
   "cell_type": "markdown",
   "metadata": {
    "id": "HsnRDa6v92Od"
   },
   "source": [
    "10f How does the model at which the test set MSE is minimized compare to the true model used to generate the data? Comment on the coefficient values."
   ]
  },
  {
   "cell_type": "code",
   "execution_count": null,
   "metadata": {
    "id": "ybaU0FSYmr93"
   },
   "outputs": [],
   "source": []
  },
  {
   "cell_type": "markdown",
   "metadata": {
    "id": "XHwJgYhB_Nc1"
   },
   "source": [
    "10g Create a plot displaying $\\sqrt{\\sum_{j=1}^{p} (\\beta_{j}-\\hat{\\beta}_{j}^{r})^{2}}$ for a range of values of $r$, where $\\beta_{j}^{r}$ is the $j$th coefficient estimate for the best model containing $r$ coefficients. Comment on what you observe. How does this compare to the test MSE plot from 10d?"
   ]
  },
  {
   "cell_type": "code",
   "execution_count": null,
   "metadata": {
    "id": "3RA47Htgmr94"
   },
   "outputs": [],
   "source": []
  },
  {
   "cell_type": "markdown",
   "metadata": {
    "id": "fTTh9sMqCaXh",
    "jp-MarkdownHeadingCollapsed": true,
    "tags": []
   },
   "source": [
    "## OPTIONAL: Exercise 6.9\n",
    "\n",
    "In this exercise, we will predict the number of applications received using the other variables in the College data set. You can find this dataset in `data/islr_data/College.csv`; the number of applications is in the `Apps` column."
   ]
  },
  {
   "cell_type": "markdown",
   "metadata": {
    "id": "x6P5-pJo0dRZ"
   },
   "source": [
    "9a Load the data, convert the categorical column `Private` into dummies and remove of the two columns, and split into a training and test set. Again, scaling can help."
   ]
  },
  {
   "cell_type": "code",
   "execution_count": null,
   "metadata": {
    "id": "6voE8AR0Chuf"
   },
   "outputs": [],
   "source": []
  },
  {
   "cell_type": "markdown",
   "metadata": {
    "id": "5E0jcEmGE3dv"
   },
   "source": [
    "9b Fit a linear model using least squares on the training set, and report the test error obtained."
   ]
  },
  {
   "cell_type": "code",
   "execution_count": null,
   "metadata": {
    "id": "TtnE7cSGmr9y"
   },
   "outputs": [],
   "source": []
  },
  {
   "cell_type": "markdown",
   "metadata": {
    "id": "_Oju13nGFLuI"
   },
   "source": [
    "10c Fit a ridge regression model on the training set, with $\\lambda$ chosen by cross-validation. Report the test error obtained."
   ]
  },
  {
   "cell_type": "code",
   "execution_count": null,
   "metadata": {
    "id": "dSUm4CnAFKrf"
   },
   "outputs": [],
   "source": []
  },
  {
   "cell_type": "markdown",
   "metadata": {
    "id": "Bet-2jCyL-MS"
   },
   "source": [
    "10d Fit a lasso model on the training set, with $\\lambda$ chosen by cross-validation. Report the test error obtained, along with the number of non-zero coefficient estimates."
   ]
  },
  {
   "cell_type": "code",
   "execution_count": null,
   "metadata": {
    "id": "MuhqyjUS04IK"
   },
   "outputs": [],
   "source": []
  },
  {
   "cell_type": "markdown",
   "metadata": {
    "id": "sG2znyT_0t2P"
   },
   "source": [
    "10e Comment on the results obtained. How accurately can we predict the number of college applications received? Is there much difference among the test errors resulting from these approaches?\n"
   ]
  },
  {
   "cell_type": "code",
   "execution_count": null,
   "metadata": {
    "id": "LKKEle6YFxcD"
   },
   "outputs": [],
   "source": []
  },
  {
   "cell_type": "markdown",
   "metadata": {
    "id": "Vr6M4QwPNl_d",
    "jp-MarkdownHeadingCollapsed": true,
    "tags": []
   },
   "source": [
    "## OPTIONAL: Exercise 6.11\n",
    "\n",
    "We will now try to predict *per capita* crime rate (the `crim` column) in the `Boston` data set. It may be interesting to try the `sklearn` feature selector for this exercise."
   ]
  },
  {
   "cell_type": "markdown",
   "metadata": {
    "id": "CRCOvWYV1O-q"
   },
   "source": [
    "11a Load the data, scale it and split it into a training set and a test set. Then try out some of the regression methods explored in this chapter, such as best subset selection, the lasso, and ridge regression. Present and discuss results for the approaches that you consider."
   ]
  },
  {
   "cell_type": "code",
   "execution_count": null,
   "metadata": {
    "id": "txPMfPiENl_m"
   },
   "outputs": [],
   "source": []
  },
  {
   "cell_type": "markdown",
   "metadata": {
    "id": "Vpfv7BnENl_m"
   },
   "source": [
    "11b Propose a model (or set of models) that seem to perform well on this data set, and justify your answer. Make sure that you are evaluating model performance using validation set error, cross-validation, or some other reasonable alternative, as opposed to using training error."
   ]
  },
  {
   "cell_type": "code",
   "execution_count": null,
   "metadata": {
    "id": "Bh1BlY4fNl_n"
   },
   "outputs": [],
   "source": []
  },
  {
   "cell_type": "markdown",
   "metadata": {
    "id": "HdJirI43TXix"
   },
   "source": [
    "11c Does your chosen model involve all of the features in the data set? Why or why not?"
   ]
  },
  {
   "cell_type": "code",
   "execution_count": null,
   "metadata": {
    "id": "9yq0er6RVgCw"
   },
   "outputs": [],
   "source": []
  }
 ],
 "metadata": {
  "colab": {
   "collapsed_sections": [
    "GTVT-QQk9K4a",
    "guO8lBMd0XOx",
    "fTTh9sMqCaXh",
    "Vr6M4QwPNl_d"
   ],
   "provenance": []
  },
  "kernelspec": {
   "display_name": "Python 3 (ipykernel)",
   "language": "python",
   "name": "python3"
  },
  "language_info": {
   "codemirror_mode": {
    "name": "ipython",
    "version": 3
   },
   "file_extension": ".py",
   "mimetype": "text/x-python",
   "name": "python",
   "nbconvert_exporter": "python",
   "pygments_lexer": "ipython3",
   "version": "3.10.13"
  }
 },
 "nbformat": 4,
 "nbformat_minor": 4
}
