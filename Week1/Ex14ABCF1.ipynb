{
  "cells": [
    {
      "cell_type": "markdown",
      "metadata": {
        "id": "HURXhbgxTOsb"
      },
      "source": [
        "# ISLR: Chapter 4 Exercise 14 A,B,C,F\n",
        "In this problem, you will develop a model to predict whether a given\n",
        "car gets high or low gas mileage based on the Auto data set."
      ]
    },
    {
      "cell_type": "markdown",
      "metadata": {
        "id": "TSYiWu3lTOsi"
      },
      "source": [
        "## Imports"
      ]
    },
    {
      "cell_type": "code",
      "execution_count": null,
      "metadata": {
        "id": "rTNOx2gMTOsj"
      },
      "outputs": [],
      "source": [
        "# Perform all the necessary imports and set plot style\n",
        "%matplotlib inline\n",
        "\n",
        "from matplotlib import pyplot as plt\n",
        "import pandas as pd\n",
        "import statsmodels.api as sm\n",
        "import numpy as np\n",
        "from sklearn.metrics import confusion_matrix\n",
        "import seaborn as sns\n",
        "from sklearn.model_selection import train_test_split\n",
        "\n",
        "plt.style.use('ggplot') # emulate R's ggplot package"
      ]
    },
    {
      "cell_type": "code",
      "source": [
        "!git clone https://git.wur.nl/koots006/msc-course-machine-learning.git data"
      ],
      "metadata": {
        "id": "wZzXaNDpTtJs"
      },
      "execution_count": null,
      "outputs": []
    },
    {
      "cell_type": "code",
      "execution_count": null,
      "metadata": {
        "collapsed": true,
        "id": "FAycFQESTOsl"
      },
      "outputs": [],
      "source": [
        "Auto = pd.read_csv('data/islr_data/Auto.csv')"
      ]
    },
    {
      "cell_type": "markdown",
      "source": [
        "## (a) Create a binary variable, mpg01, that contains a 1 if mpg contains a value above its median, and a 0 if mpg contains a value below its median.\n",
        "You can compute the median using the median() function, and use np.where() to add an additional column to the Auto dataframe containing the binary variable mpg01.\n"
      ],
      "metadata": {
        "id": "Pt8enpmMUSCb"
      }
    },
    {
      "cell_type": "markdown",
      "metadata": {
        "id": "qpvc9b-1TOso"
      },
      "source": [
        "## (b) Explore the data graphically in order to investigate the association between mpg01 and the other features. Which of the other features seem most likely to be useful in predicting mpg01? Scatterplots and boxplots may be useful tools to answer this question. Describe your findings."
      ]
    },
    {
      "cell_type": "markdown",
      "metadata": {
        "id": "rL6GcygZTOsq"
      },
      "source": [
        "## (c) Split the data into a training set and a test set.\n",
        "Extract the values of the most relevant variables (above, b) and use these as x. Use the values of mpg01 as y. Previously, when making a training and a test set, we split the data based on a time-related variable (year). Now, we need a more general approach. The train_test_split function from the sklearn library (sklearn.model_selection.train_test_split) provides a very easy way to do so. You can give it your x and y, and possibly use the argument random_state, which makes output reproducable. One additional important argument is test_size: this is the fraction of the data to use for the test set. Check in the help what the default value is. Then use the following code, and check that x_test and y_test indeed contain a fraction `test_size` of the data."
      ]
    },
    {
      "cell_type": "code",
      "execution_count": null,
      "metadata": {
        "id": "2osm7WfMTOsq"
      },
      "outputs": [],
      "source": [
        "x = Auto[['cylinders', 'displacement', 'weight']].values\n",
        "y = Auto['mpg01'].values\n",
        "x_train, x_test, y_train, y_test = train_test_split(x, y, random_state=1)"
      ]
    },
    {
      "cell_type": "markdown",
      "metadata": {
        "id": "l16RQQJ0TOsr"
      },
      "source": [
        "## (f) Perform logistic regression on the training data in order to predict mpg01 on the test data. What is the test error of the model obtained?"
      ]
    }
  ],
  "metadata": {
    "kernelspec": {
      "display_name": "Python 3",
      "language": "python",
      "name": "python3"
    },
    "language_info": {
      "codemirror_mode": {
        "name": "ipython",
        "version": 3
      },
      "file_extension": ".py",
      "mimetype": "text/x-python",
      "name": "python",
      "nbconvert_exporter": "python",
      "pygments_lexer": "ipython3",
      "version": "3.5.1+"
    },
    "colab": {
      "provenance": []
    }
  },
  "nbformat": 4,
  "nbformat_minor": 0
}