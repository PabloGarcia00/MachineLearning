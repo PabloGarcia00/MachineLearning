{
  "cells": [
    {
      "cell_type": "markdown",
      "metadata": {
        "id": "HURXhbgxTOsb"
      },
      "source": [
        "# ISLR: Chapter 4 Exercise 13 A-D\n",
        "This question deals with the Weekly data set, which is part of the ISLR2 package. This data is similar to the Smarket data from the lab section (4.7) that you worked on earlier today, except that it contains 1,089 weekly returns for 21 years, from the beginning of 1990 to the end of 2010. Note that for this exercise, all the code you need is available in the notebook for the lab. If you did not follow this notebook yet, you are strongly suggested to do so first."
      ]
    },
    {
      "cell_type": "markdown",
      "metadata": {
        "id": "TSYiWu3lTOsi"
      },
      "source": [
        "## Imports"
      ]
    },
    {
      "cell_type": "code",
      "execution_count": null,
      "metadata": {
        "collapsed": true,
        "id": "rTNOx2gMTOsj"
      },
      "outputs": [],
      "source": [
        "# Perform all the necessary imports and set plot style\n",
        "%matplotlib inline\n",
        "\n",
        "from matplotlib import pyplot as plt\n",
        "import pandas as pd\n",
        "import statsmodels.api as stats\n",
        "import numpy as np\n",
        "from sklearn.metrics import confusion_matrix\n",
        "\n",
        "plt.style.use('ggplot') # emulate R's ggplot package"
      ]
    },
    {
      "cell_type": "code",
      "source": [
        "!git clone https://git.wur.nl/koots006/msc-course-machine-learning.git data"
      ],
      "metadata": {
        "id": "wZzXaNDpTtJs"
      },
      "execution_count": null,
      "outputs": []
    },
    {
      "cell_type": "code",
      "execution_count": null,
      "metadata": {
        "collapsed": true,
        "id": "FAycFQESTOsl"
      },
      "outputs": [],
      "source": [
        "Weekly = pd.read_csv('data/islr_data/Weekly.csv')"
      ]
    },
    {
      "cell_type": "markdown",
      "source": [
        "## (a) Produce some numerical and graphical summaries of the Weekly data. Do there appear to be any patterns?"
      ],
      "metadata": {
        "id": "Pt8enpmMUSCb"
      }
    },
    {
      "cell_type": "markdown",
      "metadata": {
        "id": "qpvc9b-1TOso"
      },
      "source": [
        "## (b) Use the full data set to perform a logistic regression with Direction as the response and the five lag variables plus Volume as predictors. Use the summary function to print the results. Do any of the predictors appear to be statistically significant? If so, which ones?"
      ]
    },
    {
      "cell_type": "markdown",
      "metadata": {
        "id": "rL6GcygZTOsq"
      },
      "source": [
        "## (c) Compute the confusion matrix and overall fraction of correct predictions. Explain what the confusion matrix is telling you about the types of mistakes made by logistic regression.\n",
        "Note that the confusion matrix will be discussed in detail tomorrow. It provides a way to summarize information related to the fact that a binary classifier can make two types of\n",
        "errors: it can incorrectly assign a sample of class 0 to class 1, or it can incorrectly assign a sample of class 1 to class 0. It is often of interest to determine which of these two\n",
        "types of errors are being made. A confusion matrix, is a convenient way to display this information (in combination with the correctly predicted cases)."
      ]
    },
    {
      "cell_type": "code",
      "execution_count": null,
      "metadata": {
        "id": "2osm7WfMTOsq"
      },
      "outputs": [],
      "source": [
        "glm_probs = glm_fit.predict()\n",
        "#here glm_fit should be the model that you obtained in question b)\n",
        "glm_preds = np.asarray([\"Up\" if x > 0.5 else \"Down\" for x in glm_probs])\n",
        "#confusion matrix\n",
        "conf_m = pd.DataFrame(confusion_matrix(y_true=Weekly.Direction, y_pred=glm_preds, labels=np.unique(Weekly.Direction)).T)\n",
        "conf_m.index.name = 'Predicted'\n",
        "conf_m.columns.name = 'True'\n",
        "conf_m"
      ]
    },
    {
      "cell_type": "markdown",
      "metadata": {
        "id": "l16RQQJ0TOsr"
      },
      "source": [
        "## (d) Now fit the logistic regression model using a training data period from 1990 to 2008, with Lag2 as the only predictor. Compute the confusion matrix and the overall fraction of correct predictions for the held out data (that is, the data from 2009 and 2010)."
      ]
    }
  ],
  "metadata": {
    "kernelspec": {
      "display_name": "Python 3",
      "language": "python",
      "name": "python3"
    },
    "language_info": {
      "codemirror_mode": {
        "name": "ipython",
        "version": 3
      },
      "file_extension": ".py",
      "mimetype": "text/x-python",
      "name": "python",
      "nbconvert_exporter": "python",
      "pygments_lexer": "ipython3",
      "version": "3.5.1+"
    },
    "colab": {
      "provenance": []
    }
  },
  "nbformat": 4,
  "nbformat_minor": 0
}