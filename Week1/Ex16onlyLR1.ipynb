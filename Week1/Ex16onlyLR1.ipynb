{
  "cells": [
    {
      "cell_type": "markdown",
      "metadata": {
        "id": "HURXhbgxTOsb"
      },
      "source": [
        "# ISLR: Chapter 4 Exercise 16 (only Logistic Regression)\n",
        "Using the Boston data set, fit a logistic regression classification model in order to predict whether a given census tract has a crime rate above or below the median. Describe your findings.\n",
        "Hint: You will have to create the response variable yourself, using the\n",
        "variables that are contained in the Boston data set."
      ]
    },
    {
      "cell_type": "markdown",
      "metadata": {
        "id": "TSYiWu3lTOsi"
      },
      "source": [
        "## Imports"
      ]
    },
    {
      "cell_type": "code",
      "execution_count": null,
      "metadata": {
        "id": "rTNOx2gMTOsj"
      },
      "outputs": [],
      "source": [
        "# Perform all the necessary imports and set plot style\n",
        "%matplotlib inline\n",
        "\n",
        "from matplotlib import pyplot as plt\n",
        "import pandas as pd\n",
        "import statsmodels.api as sm\n",
        "import numpy as np\n",
        "from sklearn.metrics import confusion_matrix\n",
        "import seaborn as sns\n",
        "from sklearn.model_selection import train_test_split\n",
        "\n",
        "plt.style.use('ggplot') # emulate R's ggplot package"
      ]
    },
    {
      "cell_type": "code",
      "source": [
        "!git clone https://git.wur.nl/koots006/msc-course-machine-learning.git data"
      ],
      "metadata": {
        "id": "wZzXaNDpTtJs"
      },
      "execution_count": null,
      "outputs": []
    },
    {
      "cell_type": "code",
      "execution_count": null,
      "metadata": {
        "collapsed": true,
        "id": "FAycFQESTOsl"
      },
      "outputs": [],
      "source": [
        "Boston = pd.read_csv('data/islr_data/Boston.csv')"
      ]
    }
  ],
  "metadata": {
    "kernelspec": {
      "display_name": "Python 3",
      "language": "python",
      "name": "python3"
    },
    "language_info": {
      "codemirror_mode": {
        "name": "ipython",
        "version": 3
      },
      "file_extension": ".py",
      "mimetype": "text/x-python",
      "name": "python",
      "nbconvert_exporter": "python",
      "pygments_lexer": "ipython3",
      "version": "3.5.1+"
    },
    "colab": {
      "provenance": []
    }
  },
  "nbformat": 4,
  "nbformat_minor": 0
}