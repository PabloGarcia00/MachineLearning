{
 "cells": [
  {
   "cell_type": "markdown",
   "id": "ed37e62a-5136-4d1d-906c-4ed766b33899",
   "metadata": {},
   "source": [
    "# Thursday: Bayesian classification"
   ]
  },
  {
   "cell_type": "markdown",
   "id": "c5a5e15c-4250-4c61-8a75-22dab1f0eb8e",
   "metadata": {},
   "source": [
    "**KNN classifier**"
   ]
  },
  {
   "cell_type": "markdown",
   "id": "378dcd37-d8f7-4b13-bb3e-5683417792fd",
   "metadata": {},
   "source": []
  },
  {
   "cell_type": "markdown",
   "id": "aeeded0d-d76e-4dbb-a5fb-c9189ef7932b",
   "metadata": {},
   "source": []
  },
  {
   "cell_type": "markdown",
   "id": "cb049e2c-fa2c-4f29-93c6-5ea16117b8b1",
   "metadata": {},
   "source": []
  },
  {
   "cell_type": "markdown",
   "id": "7ca3b75b-22b4-4fab-a509-6ae7761d0227",
   "metadata": {},
   "source": []
  },
  {
   "cell_type": "markdown",
   "id": "839b1109-7b67-4193-852f-80bd4ad7213d",
   "metadata": {},
   "source": []
  },
  {
   "cell_type": "markdown",
   "id": "76db9cbb-4ce0-4a34-b8a7-7261a416012a",
   "metadata": {},
   "source": []
  },
  {
   "cell_type": "markdown",
   "id": "befc46fa-ecda-4d41-ad4b-7efa624728b9",
   "metadata": {},
   "source": []
  },
  {
   "cell_type": "markdown",
   "id": "8a69a557-5e63-4067-a85c-d7578003b556",
   "metadata": {},
   "source": []
  },
  {
   "cell_type": "markdown",
   "id": "eb7fcb33-34fb-4c46-bc8d-7624fe7ed045",
   "metadata": {},
   "source": []
  }
 ],
 "metadata": {
  "kernelspec": {
   "display_name": "Python 3 (ipykernel)",
   "language": "python",
   "name": "python3"
  },
  "language_info": {
   "codemirror_mode": {
    "name": "ipython",
    "version": 3
   },
   "file_extension": ".py",
   "mimetype": "text/x-python",
   "name": "python",
   "nbconvert_exporter": "python",
   "pygments_lexer": "ipython3",
   "version": "3.10.13"
  }
 },
 "nbformat": 4,
 "nbformat_minor": 5
}
